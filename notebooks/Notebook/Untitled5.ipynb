{
 "cells": [
  {
   "cell_type": "code",
   "execution_count": 1,
   "id": "8112ed92",
   "metadata": {},
   "outputs": [],
   "source": [
    "import os"
   ]
  },
  {
   "cell_type": "code",
   "execution_count": 2,
   "id": "9b380a22",
   "metadata": {},
   "outputs": [
    {
     "data": {
      "text/plain": [
       "'C:\\\\Users\\\\Admin\\\\Documents\\\\Anomaly Detection\\\\AnoDDPM'"
      ]
     },
     "execution_count": 2,
     "metadata": {},
     "output_type": "execute_result"
    }
   ],
   "source": [
    "os.getcwd()"
   ]
  },
  {
   "cell_type": "code",
   "execution_count": 5,
   "id": "7701c8b0",
   "metadata": {},
   "outputs": [
    {
     "name": "stdout",
     "output_type": "stream",
     "text": [
      "Extraction completed.\n"
     ]
    }
   ],
   "source": [
    "import tarfile\n",
    "import lzma\n",
    "\n",
    "# Path to the .tar.xz file\n",
    "input_file_path = r\"C:\\Users\\Admin\\Dropbox\\PC\\Downloads\\carpet.tar.xz\"\n",
    "\n",
    "# Directory where you want to extract the contents\n",
    "output_directory = \"DATASETS/Carpet\"\n",
    "\n",
    "# Open the .tar.xz file using the tarfile module\n",
    "with lzma.open(input_file_path, 'rb') as xz_file, tarfile.open(fileobj=xz_file, mode='r') as tar:\n",
    "    # Extract the contents to the specified output directory\n",
    "    tar.extractall(output_directory)\n",
    "\n",
    "print(\"Extraction completed.\")"
   ]
  },
  {
   "cell_type": "code",
   "execution_count": null,
   "id": "d54825fb",
   "metadata": {},
   "outputs": [],
   "source": []
  }
 ],
 "metadata": {
  "kernelspec": {
   "display_name": "Python 3 (ipykernel)",
   "language": "python",
   "name": "python3"
  },
  "language_info": {
   "codemirror_mode": {
    "name": "ipython",
    "version": 3
   },
   "file_extension": ".py",
   "mimetype": "text/x-python",
   "name": "python",
   "nbconvert_exporter": "python",
   "pygments_lexer": "ipython3",
   "version": "3.9.12"
  }
 },
 "nbformat": 4,
 "nbformat_minor": 5
}
