{
 "cells": [
  {
   "cell_type": "code",
   "execution_count": 82,
   "id": "e87bd992",
   "metadata": {},
   "outputs": [],
   "source": [
    "from detection_UVW import *"
   ]
  },
  {
   "cell_type": "code",
   "execution_count": 83,
   "id": "96b1bcaa",
   "metadata": {},
   "outputs": [],
   "source": [
    "from diffusion_training_UVW import *"
   ]
  },
  {
   "cell_type": "code",
   "execution_count": 84,
   "id": "961a6f62",
   "metadata": {},
   "outputs": [],
   "source": [
    "device = torch.device('cuda' if torch.cuda.is_available() else 'cpu')"
   ]
  },
  {
   "cell_type": "code",
   "execution_count": 85,
   "id": "bb83365c",
   "metadata": {},
   "outputs": [],
   "source": [
    "import torch.nn.functional as F"
   ]
  },
  {
   "cell_type": "code",
   "execution_count": 86,
   "id": "e258215c",
   "metadata": {},
   "outputs": [],
   "source": [
    "def load_parameters(device, argN = None):\n",
    "    \"\"\"\n",
    "    Loads the trained parameters for the detection model\n",
    "    :return:\n",
    "    \"\"\"\n",
    "    import sys\n",
    "    if argN is not None:\n",
    "        print(f\"Loading from {argN} Number\")\n",
    "#         params = os.listdir(\"./model\")\n",
    "        # Use a list comprehension to find the matching string\n",
    "        params = [f'{argN}'] # [s for s in params if f'={argN}' in s]\n",
    "\n",
    "    elif len(sys.argv[1:]) > 0:\n",
    "        params = sys.argv[1:]\n",
    "    else:\n",
    "        params = os.listdir(\"./model\")\n",
    "    if \".DS_Store\" in params:\n",
    "        params.remove(\".DS_Store\")\n",
    "\n",
    "    if params[0] == \"CHECKPOINT\":\n",
    "        use_checkpoint = True\n",
    "        params = params[1:]\n",
    "    else:\n",
    "        use_checkpoint = False\n",
    "#     use_checkpoint = True\n",
    "#     print(params)\n",
    "    for param in params:\n",
    "        if param.isnumeric():\n",
    "            output = load_checkpoint(param, use_checkpoint, device)\n",
    "        elif param[:4] == \"args\" and param[-5:] == \".json\":\n",
    "            output = load_checkpoint(param[4:-5], use_checkpoint, device)\n",
    "        elif param[:4] == \"args\":\n",
    "            output = load_checkpoint(param[4:], use_checkpoint, device)\n",
    "        elif  isinstance(param, str):\n",
    "            output = load_checkpoint(param, use_checkpoint, device)\n",
    "        else:\n",
    "            raise ValueError(f\"Unsupported input {param}\")\n",
    "\n",
    "        if \"args\" in output:\n",
    "            args = output[\"args\"]\n",
    "        else:\n",
    "            try:\n",
    "                with open(f'./test_args/args{param[17:]}.json', 'r') as f:\n",
    "                    args = json.load(f)\n",
    "                args['arg_num'] = param[17:]\n",
    "                args = defaultdict_from_json(args)\n",
    "            except FileNotFoundError:\n",
    "                raise ValueError(f\"args{param[17:]} doesn't exist for {param}\")\n",
    "\n",
    "        if \"noise_fn\" not in args:\n",
    "            args[\"noise_fn\"] = \"gauss\"\n",
    "\n",
    "        return args, output"
   ]
  },
  {
   "cell_type": "code",
   "execution_count": 87,
   "id": "dac3dd12",
   "metadata": {},
   "outputs": [],
   "source": [
    "argN = 102"
   ]
  },
  {
   "cell_type": "code",
   "execution_count": 88,
   "id": "e9ab9629",
   "metadata": {},
   "outputs": [],
   "source": [
    "# os.listdir(\"./model\")"
   ]
  },
  {
   "cell_type": "code",
   "execution_count": 89,
   "id": "d6c44c71",
   "metadata": {},
   "outputs": [
    {
     "name": "stdout",
     "output_type": "stream",
     "text": [
      "Loading from 102 Number\n"
     ]
    }
   ],
   "source": [
    "args, output = load_parameters(device, argN= argN)"
   ]
  },
  {
   "cell_type": "code",
   "execution_count": null,
   "id": "71c90293",
   "metadata": {},
   "outputs": [],
   "source": []
  },
  {
   "cell_type": "code",
   "execution_count": 90,
   "id": "f45790d8",
   "metadata": {},
   "outputs": [],
   "source": [
    "args.update({\"Batch_Size\": 32})"
   ]
  },
  {
   "cell_type": "code",
   "execution_count": 91,
   "id": "64dd7150",
   "metadata": {},
   "outputs": [
    {
     "name": "stdout",
     "output_type": "stream",
     "text": [
      "argsdefaultdict(<class 'str'>, {'img_size': [256, 256], 'Batch_Size': 32, 'EPOCHS': 3000, 'T': 1000, 'base_channels': 128, 'channels': 1, 'beta_schedule': 'cosine', 'channel_mults': '', 'loss-type': 'hybrid_ms_ssim', 'loss_weight': 'none', 'train_start': True, 'lr': 0.0001, 'random_slice': False, 'sample_distance': 800, 'weight_decay': 0.0, 'save_imgs': True, 'save_vids': False, 'val_anno': False, 'model_name': 'UDHVT', 'refinement': False, 'mlps': ['MLP', 'MLP', 'MLP'], 'patch_size': 16, 'embed_dim': 768, 'depth': 12, 'num_heads': 12, 'mlp_ratio': 4, 'dropout': 0, 'attention_resolutions': '32,16,8', 'num_head_channels': -1, 'cls_cond': None, 'dir': 'DATASETS/brainMRI', 'noise_fn': '4dsimplex', 'octave': 6, 'frequency': 64, 'persistence': 0.9, 'dataset': 'brainMRI', 'arg_num': '102', 'patch_emb': '', 'sigma': ''})\n",
      "1\n"
     ]
    }
   ],
   "source": [
    "\n",
    "#     args.update({\"octave\": 8})\n",
    "#     args.update({ \"frequency\": 64})    \n",
    "#     args.update({\"persistence\": 0.8})\n",
    "# args.update({\"Batch_Size\": 1})\n",
    "# args.update({\"noise_fn\": \"gauss\"})\n",
    "#     args.update({\"cls_cond\": None})\n",
    "#     print(args[\"Batch_Size\"])\n",
    "print(f\"args{args}\")\n",
    "print(args['channels'])\n",
    "if args['model_name'] == \"CUViT\":\n",
    "        model = CUViT(img_size = args['img_size'][0], patch_size=4, in_chans=args[\"channels\"], embed_dim = args['base_channels'],\n",
    "                      depth=12, num_heads=args[\"num_heads\"], mlp_ratio=4., qkv_bias=False, qk_scale=None, norm_layer=nn.LayerNorm, \n",
    "                      mlp_time_embed=False, num_classes=args[\"cls_cond\"],\n",
    "                      use_checkpoint=False, conv=True, skip=True)\n",
    "elif args['model_name'] == \"UViT\":\n",
    "    model = UViT(img_size = args['img_size'][0], patch_size=16, in_chans=args[\"channels\"], embed_dim = args['embed_dim'],\n",
    "                 depth=12, num_heads=args[\"num_heads\"], mlp_ratio=4., qkv_bias=False, qk_scale=None, norm_layer=nn.LayerNorm, \n",
    "                 mlp_time_embed=False, num_classes=args[\"cls_cond\"],\n",
    "                 use_checkpoint=False, conv=True, skip=True)\n",
    "elif args['model_name'] == \"UDHVT\":\n",
    "    model = UDHVT(img_size = args['img_size'][0],\n",
    "                  patch_size=args[\"patch_size\"], \n",
    "                  in_chans=args[\"channels\"],\n",
    "                  embed_dim = args['embed_dim'],     \n",
    "                  depth=12, \n",
    "                  num_heads=args[\"num_heads\"],\n",
    "                  mlp_ratio=args[\"mlp_ratio\"], \n",
    "                  qkv_bias=False, \n",
    "                  qk_scale=None, \n",
    "                  norm_layer=nn.LayerNorm,\n",
    "                  mlp_time_embed=True,\n",
    "                  use_checkpoint=False,\n",
    "                  num_classes=args[\"cls_cond\"],\n",
    "                  conv=True, \n",
    "                  refinement=args[\"refinement\"],\n",
    "                  skip=True, \n",
    "                  deconvpatch = False, \n",
    "                  use_dec = args[\"mlps\"],\n",
    "                  PE_type = args[\"patch_emb\"])\n",
    "elif args['model_name'] == \"DHUNet\":\n",
    "    model = DHUNet(img_size = args['img_size'][0],\n",
    "                  patch_size=args[\"patch_size\"], \n",
    "                  in_chans=args[\"channels\"],\n",
    "                  embed_dim = args['embed_dim'],     \n",
    "                  depth=args['depth'], \n",
    "                  num_heads=args[\"num_heads\"],\n",
    "                  mlp_ratio=args[\"mlp_ratio\"], \n",
    "                  qkv_bias=False, \n",
    "                  qk_scale=None, \n",
    "                  norm_layer=nn.LayerNorm,\n",
    "                  mlp_time_embed=True,\n",
    "                  num_classes=args[\"cls_cond\"],\n",
    "                  conv=True, skip=True)\n",
    "elif args['model_name'] == \"UNetModel\":\n",
    "    model = UNetModel(\n",
    "            args['img_size'][0], args['base_channels'], channel_mults=args['channel_mults'], dropout=args[\n",
    "                \"dropout\"], n_heads=args[\"num_heads\"], n_head_channels=args[\"num_head_channels\"],\n",
    "            in_channels=args[\"channels\"]\n",
    "            )\n",
    "else:\n",
    "    model = UViT(img_size = args['img_size'][0], patch_size=16, in_chans=args[\"channels\"], embed_dim = 128,\n",
    "                 depth=12, num_heads=args[\"num_heads\"], mlp_ratio=4., qkv_bias=False, qk_scale=None, norm_layer=nn.LayerNorm, \n",
    "                 mlp_time_embed=False, num_classes=args[\"cls_cond\"],\n",
    "                 use_checkpoint=False, conv=True, skip=True)\n",
    "betas = get_beta_schedule(args['T'], args['beta_schedule'])\n",
    "#     diff = GaussianDiffusionModel(\n",
    "#             args['img_size'], betas, loss_weight=args['loss_weight'],\n",
    "#             loss_type=args['loss-type'], noise=args[\"noise_fn\"], img_channels=args[\"channels\"]\n",
    "#             )\n",
    "diff = GaussianDiffusionModel(\n",
    "    args['img_size'],\n",
    "    betas, \n",
    "    loss_weight = args['loss_weight'],\n",
    "    loss_type = args['loss-type'],\n",
    "    noise = args[\"noise_fn\"],\n",
    "    octave = args[\"octave\"],\n",
    "    frequency = args[\"frequency\"],\n",
    "    persistence = args[\"persistence\"],\n",
    "    patch_size = args[\"patch_size\"],\n",
    "    sigma = args[\"sigma\"],\n",
    "    img_channels = args[\"channels\"]\n",
    ")    \n",
    "\n",
    "model.load_state_dict(output[\"ema\"])\n",
    "model.to(device)\n",
    "model.eval()\n",
    "ema = model"
   ]
  },
  {
   "cell_type": "code",
   "execution_count": null,
   "id": "800cdccb",
   "metadata": {},
   "outputs": [],
   "source": []
  },
  {
   "cell_type": "code",
   "execution_count": 11,
   "id": "13e7b075",
   "metadata": {},
   "outputs": [],
   "source": [
    "_, ano_dataset = dataset.init_datasets(ROOT_DIR, args)\n",
    "loader = dataset.init_dataset_loader(ano_dataset, args)"
   ]
  },
  {
   "cell_type": "code",
   "execution_count": 12,
   "id": "a7956390",
   "metadata": {},
   "outputs": [
    {
     "name": "stdout",
     "output_type": "stream",
     "text": [
      "torch.Size([32, 1, 256, 256])\n",
      "torch.Size([32, 1, 256, 256])\n"
     ]
    },
    {
     "data": {
      "text/plain": [
       "['Y12.png',\n",
       " 'Y8.png',\n",
       " 'Y53.png',\n",
       " 'Y246.png',\n",
       " 'Y99.png',\n",
       " 'Y66.png',\n",
       " 'Y82.png',\n",
       " 'Y4.png',\n",
       " 'Y182.png',\n",
       " 'Y120.png',\n",
       " 'Y92.png',\n",
       " 'Y71.png',\n",
       " 'Y38.png',\n",
       " 'Y23.png',\n",
       " 'Y247.png',\n",
       " 'Y32.png',\n",
       " 'Y49.png',\n",
       " 'Y256.png',\n",
       " 'Y249.png',\n",
       " 'Y259.png',\n",
       " 'Y109.png',\n",
       " 'Y14.png',\n",
       " 'Y44.png',\n",
       " 'Y95.png',\n",
       " 'Y107.png',\n",
       " 'Y161.png',\n",
       " 'Y19.png',\n",
       " 'Y78.png',\n",
       " 'Y69.png',\n",
       " 'Y243.png',\n",
       " 'Y59.png',\n",
       " 'Y45.png']"
      ]
     },
     "execution_count": 12,
     "metadata": {},
     "output_type": "execute_result"
    }
   ],
   "source": [
    "new = next(loader)\n",
    "#         print(new[\"image\"].shape)\n",
    "img = new[\"image\"].to(device)\n",
    "img = img.reshape(args[\"Batch_Size\"], args[\"channels\"], *args[\"img_size\"])\n",
    "print(new[\"mask\"].shape)\n",
    "#         img_mask = new[\"mask\"].reshape(args[\"Batch_Size\"], -1, *args[\"img_size\"])\n",
    "if args[\"cls_cond\"] is not None:\n",
    "    lab = new[\"label\"]\n",
    "    lab = lab.to(device)\n",
    "else:\n",
    "    lab = args[\"cls_cond\"]\n",
    "#         lab = lab.to(device)\n",
    "img_mask = transforms.Resize(args['img_size'], antialias=True)(new[\"mask\"])\n",
    "img_mask = img_mask.reshape(args[\"Batch_Size\"], -1, *args[\"img_size\"])\n",
    "print(img_mask.shape)\n",
    "#         img_mask = dataset.load_image_mask(new['filenames'][0][-9:-4], args['img_size'], ano_dataset)\n",
    "img_mask = img_mask.to(device)\n",
    "new['filenames']"
   ]
  },
  {
   "cell_type": "code",
   "execution_count": 13,
   "id": "774678b2",
   "metadata": {},
   "outputs": [],
   "source": [
    "img1 = img\n",
    "img_mask1 = img_mask"
   ]
  },
  {
   "cell_type": "code",
   "execution_count": 14,
   "id": "8f9fd031",
   "metadata": {},
   "outputs": [],
   "source": [
    "# fig, ax = plt.subplots()\n",
    "# plt.rcParams['figure.dpi'] = 200"
   ]
  },
  {
   "cell_type": "code",
   "execution_count": 15,
   "id": "4eba88cf",
   "metadata": {},
   "outputs": [],
   "source": [
    "\n",
    "# out = diff.forward_backward(ema, img, lab, None, 800, denoise_fn=\"noise_fn\")"
   ]
  },
  {
   "cell_type": "code",
   "execution_count": 16,
   "id": "f212f719",
   "metadata": {},
   "outputs": [],
   "source": [
    "img_mask1 = img_mask.int()"
   ]
  },
  {
   "cell_type": "code",
   "execution_count": 17,
   "id": "79643407",
   "metadata": {},
   "outputs": [],
   "source": [
    "# plt.imshow(image_array)"
   ]
  },
  {
   "cell_type": "code",
   "execution_count": 92,
   "id": "b7c2fafb",
   "metadata": {},
   "outputs": [],
   "source": [
    "timestep = 150\n",
    "img_mask = img_mask.to(device)\n",
    "output = diff.forward_backward(\n",
    "    model,\n",
    "    img1.reshape(args[\"Batch_Size\"], args[\"channels\"], *args[\"img_size\"]),\n",
    "    lab,\n",
    "    see_whole_sequence=None,\n",
    "    t_distance=timestep, denoise_fn = args[\"noise_fn\"]\n",
    ")\n",
    "\n",
    "output_name = f'./diffusion-videos/ARGS={args[\"arg_num\"]}/Anomalous/' \\\n",
    "              f'{new[\"filenames\"][0]}/Qualitity_{timestep}'\n",
    "output_directory = os.path.dirname(output_name)\n",
    "if not os.path.exists(output_directory):\n",
    "    os.makedirs(output_directory)\n",
    "\n",
    "mse = (img1 - output)**2"
   ]
  },
  {
   "cell_type": "code",
   "execution_count": 93,
   "id": "164c68b9",
   "metadata": {},
   "outputs": [],
   "source": [
    "mae = (img1 - output).abs()"
   ]
  },
  {
   "cell_type": "code",
   "execution_count": 94,
   "id": "fdf2bbc4",
   "metadata": {},
   "outputs": [],
   "source": [
    "import numpy as np\n",
    "\n",
    "def calculate_ece(predicted_probabilities, ground_truth_segmentation, num_bins=10):\n",
    "    # Define the bin limits\n",
    "    bin_limits = np.linspace(0, 1, num_bins + 1)\n",
    "\n",
    "    # Initialize variables to track ECE components\n",
    "    ece = 0.0\n",
    "    total_samples = 0\n",
    "\n",
    "    # Calculate ECE\n",
    "    for bin_idx in range(num_bins):\n",
    "        bin_lower, bin_upper = bin_limits[bin_idx], bin_limits[bin_idx + 1]\n",
    "\n",
    "        # Mask for pixels falling in the current probability bin\n",
    "        bin_mask = (predicted_probabilities >= bin_lower) & (predicted_probabilities < bin_upper)\n",
    "\n",
    "        # Calculate the number of pixels in this bin\n",
    "        bin_samples = np.sum(bin_mask)\n",
    "\n",
    "        if bin_samples > 0:\n",
    "            # Calculate the proportion of correctly predicted pixels in this bin\n",
    "            bin_accuracy = np.mean(ground_truth_segmentation[bin_mask])\n",
    "\n",
    "            # Calculate the average confidence in this bin\n",
    "            bin_confidence = np.mean(predicted_probabilities[bin_mask])\n",
    "\n",
    "            # Update the ECE with the contribution from this bin\n",
    "            ece += bin_samples * np.abs(bin_accuracy - bin_confidence)\n",
    "            total_samples += bin_samples\n",
    "\n",
    "    if total_samples > 0:\n",
    "        # Normalize ECE\n",
    "        ece /= total_samples\n",
    "\n",
    "    return ece"
   ]
  },
  {
   "cell_type": "code",
   "execution_count": 100,
   "id": "078954ae",
   "metadata": {},
   "outputs": [
    {
     "data": {
      "text/plain": [
       "0.03356862867209642"
      ]
     },
     "execution_count": 100,
     "metadata": {},
     "output_type": "execute_result"
    }
   ],
   "source": [
    "calculate_ece(mae.cpu().numpy(), img_mask.cpu().numpy(), num_bins=1000)"
   ]
  },
  {
   "cell_type": "code",
   "execution_count": 99,
   "id": "34c920e5",
   "metadata": {},
   "outputs": [
    {
     "data": {
      "text/plain": [
       "0.07165749395956666"
      ]
     },
     "execution_count": 99,
     "metadata": {},
     "output_type": "execute_result"
    }
   ],
   "source": [
    "calculate_ece(mse.cpu().numpy(), img_mask.cpu().numpy(), num_bins=1000)"
   ]
  },
  {
   "cell_type": "code",
   "execution_count": null,
   "id": "1cd6102b",
   "metadata": {},
   "outputs": [],
   "source": []
  },
  {
   "cell_type": "code",
   "execution_count": null,
   "id": "3c9fc7a6",
   "metadata": {},
   "outputs": [],
   "source": []
  },
  {
   "cell_type": "code",
   "execution_count": null,
   "id": "72a26bfa",
   "metadata": {},
   "outputs": [],
   "source": []
  },
  {
   "cell_type": "code",
   "execution_count": 121,
   "id": "a9b48dc9",
   "metadata": {},
   "outputs": [],
   "source": [
    "pred = F.softmax(mse, dim=0)"
   ]
  },
  {
   "cell_type": "code",
   "execution_count": 123,
   "id": "df82e8d3",
   "metadata": {},
   "outputs": [
    {
     "data": {
      "text/plain": [
       "tensor(1., device='cuda:0')"
      ]
     },
     "execution_count": 123,
     "metadata": {},
     "output_type": "execute_result"
    }
   ],
   "source": [
    "pred.max()"
   ]
  },
  {
   "cell_type": "code",
   "execution_count": 13,
   "id": "6ba5f9c0",
   "metadata": {},
   "outputs": [
    {
     "ename": "RuntimeError",
     "evalue": "permute(sparse_coo): number of dimensions in the tensor input does not match the length of the desired ordering of dimensions i.e. input.dim() = 2 is not equal to len(dims) = 3",
     "output_type": "error",
     "traceback": [
      "\u001b[1;31m---------------------------------------------------------------------------\u001b[0m",
      "\u001b[1;31mRuntimeError\u001b[0m                              Traceback (most recent call last)",
      "Cell \u001b[1;32mIn[13], line 21\u001b[0m\n\u001b[0;32m     19\u001b[0m tensor \u001b[38;5;241m=\u001b[39m scale_img(tensor)\n\u001b[0;32m     20\u001b[0m tensor \u001b[38;5;241m=\u001b[39m tensor\u001b[38;5;241m.\u001b[39msqueeze()\n\u001b[1;32m---> 21\u001b[0m image_array \u001b[38;5;241m=\u001b[39m \u001b[43mtensor\u001b[49m\u001b[38;5;241;43m.\u001b[39;49m\u001b[43mpermute\u001b[49m\u001b[43m(\u001b[49m\u001b[38;5;241;43m0\u001b[39;49m\u001b[43m,\u001b[49m\u001b[43m \u001b[49m\u001b[38;5;241;43m2\u001b[39;49m\u001b[43m,\u001b[49m\u001b[43m \u001b[49m\u001b[38;5;241;43m1\u001b[39;49m\u001b[43m)\u001b[49m\u001b[38;5;241m.\u001b[39mcpu()\u001b[38;5;241m.\u001b[39mcontiguous()\u001b[38;5;241m.\u001b[39mpermute(\u001b[38;5;241m2\u001b[39m, \u001b[38;5;241m1\u001b[39m, \u001b[38;5;241m0\u001b[39m)\n\u001b[0;32m     24\u001b[0m \u001b[38;5;28;01mif\u001b[39;00m idx\u001b[38;5;241m%\u001b[39m\u001b[38;5;241m50\u001b[39m\u001b[38;5;241m==\u001b[39m\u001b[38;5;241m0\u001b[39m \u001b[38;5;129;01mor\u001b[39;00m idx\u001b[38;5;241m==\u001b[39m\u001b[38;5;241m0\u001b[39m:\n\u001b[0;32m     25\u001b[0m     \u001b[38;5;66;03m# Define the filename for the image (e.g., frame_0001.png)\u001b[39;00m\n\u001b[0;32m     26\u001b[0m     filename \u001b[38;5;241m=\u001b[39m os\u001b[38;5;241m.\u001b[39mpath\u001b[38;5;241m.\u001b[39mjoin(output_dir, \u001b[38;5;124mf\u001b[39m\u001b[38;5;124m'\u001b[39m\u001b[38;5;124mframe_\u001b[39m\u001b[38;5;132;01m{\u001b[39;00midx\u001b[38;5;132;01m:\u001b[39;00m\u001b[38;5;124m04d\u001b[39m\u001b[38;5;132;01m}\u001b[39;00m\u001b[38;5;124m.png\u001b[39m\u001b[38;5;124m'\u001b[39m)\n",
      "\u001b[1;31mRuntimeError\u001b[0m: permute(sparse_coo): number of dimensions in the tensor input does not match the length of the desired ordering of dimensions i.e. input.dim() = 2 is not equal to len(dims) = 3"
     ]
    }
   ],
   "source": [
    "import torch\n",
    "import numpy as np\n",
    "import imageio\n",
    "import os\n",
    "\n",
    "scale_img = lambda img: ((img + 1) * 127.5).clamp(0, 255).to(torch.uint8)\n",
    "# Assuming 'tensor_list' contains a list of PyTorch tensors\n",
    "# Replace this with your actual list of tensors\n",
    "\n",
    "# Directory to save individual image files\n",
    "output_dir = f'{ROOT_DIR}diffusion-videos/ARGS={args[\"arg_num\"]}/{new[\"filenames\"]}/'\n",
    "\n",
    "# Create the output directory if it doesn't exist\n",
    "os.makedirs(output_dir, exist_ok=True)\n",
    "\n",
    "# Convert and save each tensor as an image\n",
    "for idx, tensor in enumerate(out):\n",
    "    # Convert the PyTorch tensor to a NumPy array\n",
    "    tensor = scale_img(tensor)\n",
    "    tensor = tensor.squeeze()\n",
    "    image_array = tensor.permute(0, 2, 1).cpu().contiguous().permute(2, 1, 0)\n",
    "    \n",
    "    \n",
    "    if idx%50==0 or idx==0:\n",
    "        # Define the filename for the image (e.g., frame_0001.png)\n",
    "        filename = os.path.join(output_dir, f'frame_{idx:04d}.png')\n",
    "\n",
    "        # Save the NumPy array as an image file (you can use other formats like PNG)\n",
    "        imageio.imwrite(filename, image_array, format='png')\n",
    "\n",
    "# # Create a list of image file paths\n",
    "# image_files = [os.path.join(output_dir, f'frame_{idx:04d}.png') for idx in range(len(out))]\n",
    "\n",
    "# # Create a GIF from the saved images\n",
    "# output_gif = f'{ROOT_DIR}diffusion-videos/ARGS={args[\"arg_num\"]}/image_frames/output.gif'\n",
    "# imageio.mimsave(output_gif, [imageio.imread(file) for file in image_files], duration=0.1)\n",
    "\n",
    "# # Remove the individual image files if needed\n",
    "# # for file in image_files:\n",
    "# #     os.remove(file)\n",
    "\n",
    "# print(f'GIF saved as {output_gif}')\n"
   ]
  },
  {
   "cell_type": "code",
   "execution_count": 19,
   "id": "edb74252",
   "metadata": {},
   "outputs": [],
   "source": [
    "imgs = [[ax.imshow(gridify_output(img, 2), animated=True)] for x in out]"
   ]
  },
  {
   "cell_type": "code",
   "execution_count": 20,
   "id": "03c0f119",
   "metadata": {},
   "outputs": [
    {
     "data": {
      "text/plain": [
       "601"
      ]
     },
     "execution_count": 20,
     "metadata": {},
     "output_type": "execute_result"
    }
   ],
   "source": [
    "len(imgs)"
   ]
  },
  {
   "cell_type": "code",
   "execution_count": 26,
   "id": "5e29e8c2",
   "metadata": {},
   "outputs": [
    {
     "data": {
      "image/png": "[encoded data removed]",
      "text/plain": [
       "<Figure size 640x480 with 1 Axes>"
      ]
     },
     "execution_count": 26,
     "metadata": {},
     "output_type": "execute_result"
    }
   ],
   "source": [
    "imgs[-1][0].figure"
   ]
  },
  {
   "cell_type": "code",
   "execution_count": null,
   "id": "d78a09b3",
   "metadata": {},
   "outputs": [],
   "source": [
    "ani = animation.ArtistAnimation(\n",
    "        fig, imgs, interval=50, blit=True,\n",
    "        repeat_delay=1000\n",
    "        )\n",
    "\n",
    "ani.save(f'{ROOT_DIR}diffusion-videos/ARGS={args[\"arg_num\"]}/Anno_sample.gif')\n",
    "\n",
    "plt.close('all')"
   ]
  },
  {
   "cell_type": "code",
   "execution_count": null,
   "id": "8017be46",
   "metadata": {},
   "outputs": [],
   "source": [
    "len(imgs)"
   ]
  },
  {
   "cell_type": "code",
   "execution_count": null,
   "id": "c47cb25b",
   "metadata": {},
   "outputs": [],
   "source": [
    "# imgs[-1][0].figure"
   ]
  },
  {
   "cell_type": "code",
   "execution_count": null,
   "id": "7738d9c3",
   "metadata": {},
   "outputs": [],
   "source": [
    "# imgs[0][0].figure"
   ]
  },
  {
   "cell_type": "code",
   "execution_count": null,
   "id": "dbd559bc",
   "metadata": {},
   "outputs": [],
   "source": [
    "# imgs[500][0].figure"
   ]
  },
  {
   "cell_type": "code",
   "execution_count": null,
   "id": "df17b50c",
   "metadata": {},
   "outputs": [],
   "source": [
    "out[0].shape"
   ]
  },
  {
   "cell_type": "code",
   "execution_count": null,
   "id": "10396855",
   "metadata": {},
   "outputs": [],
   "source": [
    "# import matplotlib.pyplot as plt\n",
    "# import torch\n",
    "\n",
    "# # Assuming 'image_tensor' contains the tensor with size torch.Size([1, 1, 256, 256])\n",
    "# # Replace this with your actual tensor\n",
    "\n",
    "# # Convert the PyTorch tensor to a NumPy array\n",
    "# image_array = out[0].squeeze().cpu().numpy()  # Squeeze removes single-dimension entries\n",
    "\n",
    "# # Plot the NumPy array as an image using Matplotlib\n",
    "# plt.imshow(image_array, cmap='gray')  # Use 'cmap' for grayscale images\n",
    "# plt.axis('off')  # Turn off axis labels\n",
    "# plt.show()\n"
   ]
  },
  {
   "cell_type": "code",
   "execution_count": 31,
   "id": "4d0493e9",
   "metadata": {},
   "outputs": [],
   "source": [
    "# import matplotlib.pyplot as plt\n",
    "# import torch\n",
    "\n",
    "# # Assuming 'image_tensor' contains the tensor with size torch.Size([1, 1, 256, 256])\n",
    "# # Replace this with your actual tensor\n",
    "\n",
    "# # Convert the PyTorch tensor to a NumPy array\n",
    "# image_array = out[-1].squeeze().cpu().numpy()  # Squeeze removes single-dimension entries\n",
    "\n",
    "# # Plot the NumPy array as an image using Matplotlib\n",
    "# plt.imshow(image_array, cmap='gray')  # Use 'cmap' for grayscale images\n",
    "# plt.axis('off')  # Turn off axis labels\n",
    "# plt.show()\n"
   ]
  },
  {
   "cell_type": "code",
   "execution_count": null,
   "id": "92598e67",
   "metadata": {},
   "outputs": [],
   "source": [
    "t_range = np.linspace(100, 800, 5).astype(np.int32)"
   ]
  },
  {
   "cell_type": "code",
   "execution_count": null,
   "id": "455557b8",
   "metadata": {},
   "outputs": [],
   "source": [
    "t_range"
   ]
  },
  {
   "cell_type": "code",
   "execution_count": 31,
   "id": "609e7de7",
   "metadata": {},
   "outputs": [],
   "source": [
    "import torch\n",
    "import torch.nn as nn\n",
    "\n",
    "class conv_block(nn.Module):\n",
    "    \n",
    "    def _init_(self,ch_in,ch_out):\n",
    "        super(conv_block,self)._init_()\n",
    "        self.conv = nn.Sequential(\n",
    "            nn.Conv2d(ch_in, ch_out, kernel_size=3,stride=1,padding=1,bias=True),\n",
    "            nn.BatchNorm2d(ch_out),\n",
    "            nn.ReLU(inplace=True),\n",
    "            nn.Conv2d(ch_out, ch_out, kernel_size=3,stride=1,padding=1,bias=True),\n",
    "            nn.BatchNorm2d(ch_out),\n",
    "            nn.ReLU(inplace=True)\n",
    "        )\n",
    "\n",
    "\n",
    "    def forward(self,x):\n",
    "        x = self.conv(x)\n",
    "        return x\n",
    "\n",
    "class up_conv(nn.Module):\n",
    "\n",
    "    def _init_(self,ch_in,ch_out):\n",
    "        super(up_conv,self)._init_()\n",
    "        self.up = nn.Sequential(\n",
    "            nn.Upsample(scale_factor=2),\n",
    "            nn.Conv2d(ch_in,ch_out,kernel_size=3,stride=1,padding=1,bias=True),\n",
    "            nn.BatchNorm2d(ch_out),\n",
    "            nn.ReLU(inplace=True)\n",
    "        )\n",
    "\n",
    "    def forward(self,x):\n",
    "        x = self.up(x)\n",
    "        return x\n",
    "\n",
    "class Recurrent_block(nn.Module):\n",
    "\n",
    "    def _init_(self,ch_out,t=2):\n",
    "        super(Recurrent_block,self)._init_()\n",
    "        self.t = t\n",
    "        self.ch_out = ch_out\n",
    "        self.conv = nn.Sequential(\n",
    "            nn.Conv2d(ch_out,ch_out,kernel_size=3,stride=1,padding=1,bias=True),\n",
    "            nn.BatchNorm2d(ch_out),\n",
    "            nn.ReLU(inplace=True)\n",
    "        )\n",
    "\n",
    "    def forward(self,x):\n",
    "        for i in range(self.t):\n",
    "\n",
    "            if i==0:\n",
    "                x1 = self.conv(x)\n",
    "            \n",
    "            x1 = self.conv(x+x1)\n",
    "        return x1\n",
    "        \n",
    "class RRCNN_block(nn.Module):\n",
    "\n",
    "    def _init_(self,ch_in,ch_out,t=2):\n",
    "        super(RRCNN_block,self)._init_()\n",
    "        self.RCNN = nn.Sequential(\n",
    "            Recurrent_block(ch_out,t=t),\n",
    "            Recurrent_block(ch_out,t=t)\n",
    "        )\n",
    "        self.Conv_1x1 = nn.Conv2d(ch_in,ch_out,kernel_size=1,stride=1,padding=0)\n",
    "\n",
    "    def forward(self,x):\n",
    "        x = self.Conv_1x1(x)\n",
    "        x1 = self.RCNN(x)\n",
    "        return x+x1\t#residual learning\n",
    "\n",
    "class RCNN_block(nn.Module):\n",
    "\n",
    "    def _init_(self,ch_in,ch_out,t=2):\n",
    "        super(RCNN_block,self)._init_()\n",
    "        self.RCNN = nn.Sequential(\n",
    "            Recurrent_block(ch_out,t=t),\n",
    "            Recurrent_block(ch_out,t=t)\n",
    "        )\n",
    "        self.Conv_1x1 = nn.Conv2d(ch_in,ch_out,kernel_size=1,stride=1,padding=0)\n",
    "\n",
    "    def forward(self,x):\n",
    "        x = self.Conv_1x1(x)\n",
    "        x = self.RCNN(x)\n",
    "        return x \n",
    "        \n",
    "class ResCNN_block(nn.Module):\n",
    "\n",
    "    def _init_(self,ch_in,ch_out):\n",
    "        super(ResCNN_block,self)._init_()\n",
    "        self.Conv = conv_block(ch_in, ch_out)\n",
    "        self.Conv_1x1 = nn.Conv2d(ch_in,ch_out,kernel_size=1,stride=1,padding=0)\n",
    "\n",
    "    def forward(self,x):\n",
    "        x1 = self.Conv_1x1(x)\n",
    "        x = self.Conv(x)\n",
    "        return x+x1 \n",
    "\n",
    "class U_Net(nn.Module):\n",
    "\n",
    "    def _init_(self,img_ch=3,output_ch=1):\n",
    "        super(U_Net,self)._init_()\n",
    "        \n",
    "        self.Maxpool = nn.MaxPool2d(kernel_size=2,stride=2)\n",
    "\n",
    "        self.Conv1 = conv_block(ch_in=img_ch,ch_out=64)\n",
    "        self.Conv2 = conv_block(ch_in=64,ch_out=128)\n",
    "        self.Conv3 = conv_block(ch_in=128,ch_out=256)\n",
    "        self.Conv4 = conv_block(ch_in=256,ch_out=512)\n",
    "        self.Conv5 = conv_block(ch_in=512,ch_out=1024)\n",
    "\n",
    "        self.Up5 = up_conv(ch_in=1024,ch_out=512)\n",
    "        self.Up_conv5 = conv_block(ch_in=1024, ch_out=512)\n",
    "\n",
    "        self.Up4 = up_conv(ch_in=512,ch_out=256)\n",
    "        self.Up_conv4 = conv_block(ch_in=512, ch_out=256)\n",
    "        \n",
    "        self.Up3 = up_conv(ch_in=256,ch_out=128)\n",
    "        self.Up_conv3 = conv_block(ch_in=256, ch_out=128)\n",
    "        \n",
    "        self.Up2 = up_conv(ch_in=128,ch_out=64)\n",
    "        self.Up_conv2 = conv_block(ch_in=128, ch_out=64)\n",
    "\n",
    "        self.Conv_1x1 = nn.Conv2d(64,output_ch,kernel_size=1,stride=1,padding=0)\n",
    "\n",
    "\n",
    "    def forward(self,x):\n",
    "        # encoding path\n",
    "        x1 = self.Conv1(x)\n",
    "\n",
    "        x2 = self.Maxpool(x1)\n",
    "        x2 = self.Conv2(x2)\n",
    "        \n",
    "        x3 = self.Maxpool(x2)\n",
    "        x3 = self.Conv3(x3)\n",
    "\n",
    "        x4 = self.Maxpool(x3)\n",
    "        x4 = self.Conv4(x4)\n",
    "\n",
    "        x5 = self.Maxpool(x4)\n",
    "        x5 = self.Conv5(x5)\n",
    "\n",
    "        # decoding + concat path\n",
    "        d5 = self.Up5(x5)\n",
    "        d5 = torch.cat((x4,d5),dim=1)\n",
    "        \n",
    "        d5 = self.Up_conv5(d5)\n",
    "        \n",
    "        d4 = self.Up4(d5)\n",
    "        d4 = torch.cat((x3,d4),dim=1)\n",
    "        d4 = self.Up_conv4(d4)\n",
    "\n",
    "        d3 = self.Up3(d4)\n",
    "        d3 = torch.cat((x2,d3),dim=1)\n",
    "        d3 = self.Up_conv3(d3)\n",
    "\n",
    "        d2 = self.Up2(d3)\n",
    "        d2 = torch.cat((x1,d2),dim=1)\n",
    "        d2 = self.Up_conv2(d2)\n",
    "\n",
    "        d1 = self.Conv_1x1(d2)\n",
    "\n",
    "        return d1\n",
    "\n",
    "\n",
    "class R2U_Net(nn.Module):\n",
    "\n",
    "    def _init_(self,img_ch=3,output_ch=1,t=2):\n",
    "        super(R2U_Net,self)._init_()\n",
    "        \n",
    "        self.Maxpool = nn.MaxPool2d(kernel_size=2,stride=2)\n",
    "        self.Upsample = nn.Upsample(scale_factor=2)\n",
    "\n",
    "        self.RRCNN1 = RRCNN_block(ch_in=img_ch,ch_out=64,t=t)\n",
    "\n",
    "        self.RRCNN2 = RRCNN_block(ch_in=64,ch_out=128,t=t)\n",
    "        \n",
    "        self.RRCNN3 = RRCNN_block(ch_in=128,ch_out=256,t=t)\n",
    "        \n",
    "        self.RRCNN4 = RRCNN_block(ch_in=256,ch_out=512,t=t)\n",
    "        \n",
    "        self.RRCNN5 = RRCNN_block(ch_in=512,ch_out=1024,t=t)\n",
    "        \n",
    "\n",
    "        self.Up5 = up_conv(ch_in=1024,ch_out=512)\n",
    "        self.Up_RRCNN5 = RRCNN_block(ch_in=1024, ch_out=512,t=t)\n",
    "        \n",
    "        self.Up4 = up_conv(ch_in=512,ch_out=256)\n",
    "        self.Up_RRCNN4 = RRCNN_block(ch_in=512, ch_out=256,t=t)\n",
    "        \n",
    "        self.Up3 = up_conv(ch_in=256,ch_out=128)\n",
    "        self.Up_RRCNN3 = RRCNN_block(ch_in=256, ch_out=128,t=t)\n",
    "        \n",
    "        self.Up2 = up_conv(ch_in=128,ch_out=64)\n",
    "        self.Up_RRCNN2 = RRCNN_block(ch_in=128, ch_out=64,t=t)\n",
    "\n",
    "        self.Conv_1x1 = nn.Conv2d(64,output_ch,kernel_size=1,stride=1,padding=0)\n",
    "\n",
    "\n",
    "    def forward(self,x):\n",
    "        # encoding path\n",
    "        x1 = self.RRCNN1(x)\n",
    "\n",
    "        x2 = self.Maxpool(x1)\n",
    "        x2 = self.RRCNN2(x2)\n",
    "        \n",
    "        x3 = self.Maxpool(x2)\n",
    "        x3 = self.RRCNN3(x3)\n",
    "\n",
    "        x4 = self.Maxpool(x3)\n",
    "        x4 = self.RRCNN4(x4)\n",
    "\n",
    "        x5 = self.Maxpool(x4)\n",
    "        x5 = self.RRCNN5(x5)\n",
    "\n",
    "        # decoding + concat path\n",
    "        d5 = self.Up5(x5)\n",
    "        d5 = torch.cat((x4,d5),dim=1)\n",
    "        d5 = self.Up_RRCNN5(d5)\n",
    "        \n",
    "        d4 = self.Up4(d5)\n",
    "        d4 = torch.cat((x3,d4),dim=1)\n",
    "        d4 = self.Up_RRCNN4(d4)\n",
    "\n",
    "        d3 = self.Up3(d4)\n",
    "        d3 = torch.cat((x2,d3),dim=1)\n",
    "        d3 = self.Up_RRCNN3(d3)\n",
    "\n",
    "        d2 = self.Up2(d3)\n",
    "        d2 = torch.cat((x1,d2),dim=1)\n",
    "        d2 = self.Up_RRCNN2(d2)\n",
    "\n",
    "        d1 = self.Conv_1x1(d2)\n",
    "\n",
    "        return d1\n",
    "\n",
    "class RecU_Net(nn.Module):\n",
    "\n",
    "    def _init_(self,img_ch=3,output_ch=1,t=2):\n",
    "        super(RecU_Net,self)._init_()\n",
    "        \n",
    "        self.Maxpool = nn.MaxPool2d(kernel_size=2,stride=2)\n",
    "        self.Upsample = nn.Upsample(scale_factor=2)\n",
    "\n",
    "        self.RCNN1 = RCNN_block(ch_in=img_ch,ch_out=64,t=t)\n",
    "\n",
    "        self.RCNN2 = RCNN_block(ch_in=64,ch_out=128,t=t)\n",
    "        \n",
    "        self.RCNN3 = RCNN_block(ch_in=128,ch_out=256,t=t)\n",
    "        \n",
    "        self.RCNN4 = RCNN_block(ch_in=256,ch_out=512,t=t)\n",
    "        \n",
    "        self.RCNN5 = RCNN_block(ch_in=512,ch_out=1024,t=t)\n",
    "        \n",
    "\n",
    "        self.Up5 = up_conv(ch_in=1024,ch_out=512)\n",
    "        self.Up_RCNN5 = RCNN_block(ch_in=1024, ch_out=512,t=t)\n",
    "        \n",
    "        self.Up4 = up_conv(ch_in=512,ch_out=256)\n",
    "        self.Up_RCNN4 = RCNN_block(ch_in=512, ch_out=256,t=t)\n",
    "        \n",
    "        self.Up3 = up_conv(ch_in=256,ch_out=128)\n",
    "        self.Up_RCNN3 = RCNN_block(ch_in=256, ch_out=128,t=t)\n",
    "        \n",
    "        self.Up2 = up_conv(ch_in=128,ch_out=64)\n",
    "        self.Up_RCNN2 = RCNN_block(ch_in=128, ch_out=64,t=t)\n",
    "\n",
    "        self.Conv_1x1 = nn.Conv2d(64,output_ch,kernel_size=1,stride=1,padding=0)\n",
    "\n",
    "\n",
    "    def forward(self,x):\n",
    "        # encoding path\n",
    "        x1 = self.RCNN1(x)\n",
    "\n",
    "        x2 = self.Maxpool(x1)\n",
    "        x2 = self.RCNN2(x2)\n",
    "        \n",
    "        x3 = self.Maxpool(x2)\n",
    "        x3 = self.RCNN3(x3)\n",
    "\n",
    "        x4 = self.Maxpool(x3)\n",
    "        x4 = self.RCNN4(x4)\n",
    "\n",
    "        x5 = self.Maxpool(x4)\n",
    "        x5 = self.RCNN5(x5)\n",
    "\n",
    "        # decoding + concat path\n",
    "        d5 = self.Up5(x5)\n",
    "        d5 = torch.cat((x4,d5),dim=1)\n",
    "        d5 = self.Up_RCNN5(d5)\n",
    "        \n",
    "        d4 = self.Up4(d5)\n",
    "        d4 = torch.cat((x3,d4),dim=1)\n",
    "        d4 = self.Up_RCNN4(d4)\n",
    "\n",
    "        d3 = self.Up3(d4)\n",
    "        d3 = torch.cat((x2,d3),dim=1)\n",
    "        d3 = self.Up_RCNN3(d3)\n",
    "\n",
    "        d2 = self.Up2(d3)\n",
    "        d2 = torch.cat((x1,d2),dim=1)\n",
    "        d2 = self.Up_RCNN2(d2)\n",
    "\n",
    "        d1 = self.Conv_1x1(d2)\n",
    "\n",
    "        return d1\n",
    "\n",
    "class ResU_Net(nn.Module):\n",
    "\n",
    "    def _init_(self,img_ch=3,output_ch=1):\n",
    "        super(ResU_Net,self)._init_()\n",
    "        \n",
    "        self.Maxpool = nn.MaxPool2d(kernel_size=2,stride=2)\n",
    "        self.Upsample = nn.Upsample(scale_factor=2)\n",
    "\n",
    "        self.ResCNN1 = ResCNN_block(ch_in=img_ch,ch_out=64)\n",
    "\n",
    "        self.ResCNN2 = ResCNN_block(ch_in=64,ch_out=128)\n",
    "        \n",
    "        self.ResCNN3 = ResCNN_block(ch_in=128,ch_out=256)\n",
    "        \n",
    "        self.ResCNN4 = ResCNN_block(ch_in=256,ch_out=512)\n",
    "        \n",
    "        self.ResCNN5 = ResCNN_block(ch_in=512,ch_out=1024)\n",
    "        \n",
    "\n",
    "        self.Up5 = up_conv(ch_in=1024,ch_out=512)\n",
    "        self.Up_ResCNN5 = ResCNN_block(ch_in=1024, ch_out=512)\n",
    "        \n",
    "        self.Up4 = up_conv(ch_in=512,ch_out=256)\n",
    "        self.Up_ResCNN4 = ResCNN_block(ch_in=512, ch_out=256)\n",
    "        \n",
    "        self.Up3 = up_conv(ch_in=256,ch_out=128)\n",
    "        self.Up_ResCNN3 = ResCNN_block(ch_in=256, ch_out=128)\n",
    "        \n",
    "        self.Up2 = up_conv(ch_in=128,ch_out=64)\n",
    "        self.Up_ResCNN2 = ResCNN_block(ch_in=128, ch_out=64)\n",
    "\n",
    "        self.Conv_1x1 = nn.Conv2d(64,output_ch,kernel_size=1,stride=1,padding=0)\n",
    "\n",
    "\n",
    "    def forward(self,x):\n",
    "        # encoding path\n",
    "        x1 = self.ResCNN1(x)\n",
    "\n",
    "        x2 = self.Maxpool(x1)\n",
    "        x2 = self.ResCNN2(x2)\n",
    "        \n",
    "        x3 = self.Maxpool(x2)\n",
    "        x3 = self.ResCNN3(x3)\n",
    "\n",
    "        x4 = self.Maxpool(x3)\n",
    "        x4 = self.ResCNN4(x4)\n",
    "\n",
    "        x5 = self.Maxpool(x4)\n",
    "        x5 = self.ResCNN5(x5)\n",
    "\n",
    "        # decoding + concat path\n",
    "        d5 = self.Up5(x5)\n",
    "        d5 = torch.cat((x4,d5),dim=1)\n",
    "        d5 = self.Up_ResCNN5(d5)\n",
    "        \n",
    "        d4 = self.Up4(d5)\n",
    "        d4 = torch.cat((x3,d4),dim=1)\n",
    "        d4 = self.Up_ResCNN4(d4)\n",
    "\n",
    "        d3 = self.Up3(d4)\n",
    "        d3 = torch.cat((x2,d3),dim=1)\n",
    "        d3 = self.Up_ResCNN3(d3)\n",
    "\n",
    "        d2 = self.Up2(d3)\n",
    "        d2 = torch.cat((x1,d2),dim=1)\n",
    "        d2 = self.Up_ResCNN2(d2)\n",
    "\n",
    "        d1 = self.Conv_1x1(d2)\n",
    "\n",
    "        return d1"
   ]
  },
  {
   "cell_type": "code",
   "execution_count": 34,
   "id": "dd245e47",
   "metadata": {},
   "outputs": [],
   "source": [
    "model = R2U_Net()"
   ]
  },
  {
   "cell_type": "code",
   "execution_count": 38,
   "id": "1ac6e368",
   "metadata": {},
   "outputs": [
    {
     "data": {
      "text/plain": [
       "<bound method Module.named_parameters of R2U_Net()>"
      ]
     },
     "execution_count": 38,
     "metadata": {},
     "output_type": "execute_result"
    }
   ],
   "source": [
    "model.named_parameters\n"
   ]
  },
  {
   "cell_type": "code",
   "execution_count": null,
   "id": "6b315553",
   "metadata": {},
   "outputs": [],
   "source": []
  }
 ],
 "metadata": {
  "kernelspec": {
   "display_name": "Python 3 (ipykernel)",
   "language": "python",
   "name": "python3"
  },
  "language_info": {
   "codemirror_mode": {
    "name": "ipython",
    "version": 3
   },
   "file_extension": ".py",
   "mimetype": "text/x-python",
   "name": "python",
   "nbconvert_exporter": "python",
   "pygments_lexer": "ipython3",
   "version": "3.9.12"
  }
 },
 "nbformat": 4,
 "nbformat_minor": 5
}
