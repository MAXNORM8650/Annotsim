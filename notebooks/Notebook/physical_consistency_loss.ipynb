{
 "cells": [
  {
   "cell_type": "code",
   "execution_count": 20,
   "id": "7d828d3c",
   "metadata": {},
   "outputs": [],
   "source": [
    "import torch\n",
    "import numpy as np\n",
    "import torch.nn as nn"
   ]
  },
  {
   "cell_type": "code",
   "execution_count": 107,
   "id": "87878823",
   "metadata": {},
   "outputs": [],
   "source": [
    "device = torch.device(\"cuda:0\" if torch.cuda.is_available() else \"cpu\")"
   ]
  },
  {
   "cell_type": "code",
   "execution_count": 108,
   "id": "485b1134",
   "metadata": {},
   "outputs": [],
   "source": [
    "def tv_loss(inputs):\n",
    "    # inputs: [N, C, H, W]\n",
    "    n, c, h, w = inputs.shape\n",
    "    grad_x = inputs[:,:,1:,:] - inputs[:,:,:-1,:]\n",
    "    grad_y = inputs[:,:,:,1:] - inputs[:,:,:,:-1]\n",
    "    tv = (grad_x.abs().sum() + grad_y.abs().sum()) / (n*c*h*w)\n",
    "    return tv"
   ]
  },
  {
   "cell_type": "code",
   "execution_count": 109,
   "id": "1ada522f",
   "metadata": {},
   "outputs": [],
   "source": [
    "batch = torch.rand(10, 3, 256, 256)"
   ]
  },
  {
   "cell_type": "code",
   "execution_count": 110,
   "id": "a3ce8e12",
   "metadata": {},
   "outputs": [],
   "source": [
    "comp_field = torch.complex(batch[1, 0,...], batch[1, 1,...])"
   ]
  },
  {
   "cell_type": "code",
   "execution_count": 111,
   "id": "a841817f",
   "metadata": {},
   "outputs": [
    {
     "data": {
      "text/plain": [
       "torch.Size([256, 256])"
      ]
     },
     "execution_count": 111,
     "metadata": {},
     "output_type": "execute_result"
    }
   ],
   "source": [
    "comp_field.shape"
   ]
  },
  {
   "cell_type": "code",
   "execution_count": 191,
   "id": "ca6ecc8c",
   "metadata": {},
   "outputs": [],
   "source": [
    "S = 512\n",
    "z_list = [300, 375]  # SPECIFY TRAINING SAMPLE-TO-SENSOR DISTANCES, [um]\n",
    "modes = 256\n",
    "width = 48\n",
    "\n",
    "batch_size = 2"
   ]
  },
  {
   "cell_type": "code",
   "execution_count": 192,
   "id": "b1654ee6",
   "metadata": {},
   "outputs": [],
   "source": [
    "def batch_fsp(batch, z_list):\n",
    "    # batch: [N, 2, H, W]\n",
    "    prop_batch = []\n",
    "    for n in range(batch.shape[0]):\n",
    "        comp_field = torch.complex(batch[n,0,...], batch[n,1,...])\n",
    "        wave = AxialPlane_torch(comp_field, 0, params)\n",
    "        prop_field = torch.stack([wave(z) for z in z_list], dim=0)  # [C=2, H, W]\n",
    "        prop_batch.append(prop_field)\n",
    "    return torch.stack(prop_batch, axis=0)  # [N, C=2, H, W]\n",
    "\n",
    "\n",
    "class AxialPlane_torch():\n",
    "    def __init__(self, init_guess, z0, params) -> None:\n",
    "\n",
    "        # initialize complex field\n",
    "        self.comp_field = init_guess\n",
    "\n",
    "        # parameters\n",
    "        self.z0 = z0\n",
    "        self.wl = params['wavelength'] / params['ref_ind']  # effective wavelength, [um]\n",
    "        self.k = 1 / self.wl\n",
    "        self.n_pixel = params['patch_size']\n",
    "        self.pixel_size = params['pixel_size']  # [um]\n",
    "        self.max_freq = 1/self.pixel_size  # [um-1]\n",
    "\n",
    "    def __call__(self, z):\n",
    "\n",
    "        # free space propagation using angular spectrum\n",
    "        ang_spectrum = torch.fft.fftshift(torch.fft.fft2(self.comp_field))\n",
    "\n",
    "        # create grid                                                    \n",
    "        uu, vv = np.meshgrid(self.max_freq*np.arange(-np.ceil((self.n_pixel-1)/2), np.floor((self.n_pixel+1)/2))/self.n_pixel,\n",
    "                    self.max_freq*np.arange(-np.ceil((self.n_pixel-1)/2), np.floor((self.n_pixel+1)/2))/self.n_pixel)\n",
    "        mask = ((self.k**2 - uu**2 - vv**2) >= 0).astype('float32')\n",
    "        ww = np.sqrt((self.k**2-uu**2-vv**2)*mask).astype('float32')\n",
    "        # transfer function\n",
    "        dz = z - self.z0\n",
    "        h = np.exp(1j * 2 * np.pi * ww * dz) * mask\n",
    "        ang_spectrum *= torch.from_numpy(h).to(device)\n",
    "\n",
    "        # IFFT\n",
    "        prop_field = torch.fft.ifft2(torch.fft.ifftshift(ang_spectrum))\n",
    "\n",
    "        return prop_field"
   ]
  },
  {
   "cell_type": "code",
   "execution_count": 193,
   "id": "dd476e0d",
   "metadata": {},
   "outputs": [],
   "source": [
    "import torch\n",
    "import numpy as np\n",
    "import torch.nn as nn\n",
    "import torch.nn.functional as F\n",
    "\n",
    "\n",
    "################################################################\n",
    "# fourier layer\n",
    "################################################################\n",
    "\n",
    "class SpectralConv2d_fast(nn.Module):\n",
    "    def __init__(self, in_channels, out_channels, modes1, modes2):\n",
    "        super(SpectralConv2d_fast, self).__init__()\n",
    "\n",
    "        \"\"\"\n",
    "        2D Fourier layer. It does FFT, linear transform, and Inverse FFT.    \n",
    "        \"\"\"\n",
    "\n",
    "        self.in_channels = in_channels\n",
    "        self.out_channels = out_channels\n",
    "        self.modes1 = modes1 # Number of Fourier modes to multiply, at most floor(N/2) + 1\n",
    "        self.modes2 = modes2\n",
    "\n",
    "        self.scale = (1 / (in_channels * out_channels))\n",
    "        self.weights1 = nn.Parameter(self.scale * torch.rand(1, out_channels, self.modes1, self.modes2, dtype=torch.cfloat))\n",
    "        self.weights2 = nn.Parameter(self.scale * torch.rand(1, out_channels, self.modes1, self.modes2, dtype=torch.cfloat))\n",
    "\n",
    "    # Complex multiplication\n",
    "    def compl_mul2d(self, input, weights):\n",
    "        # (batch, in_channel, x,y ), (in_channel, out_channel, x,y) -> (batch, out_channel, x,y)\n",
    "        return torch.einsum(\"bixy,ioxy->boxy\", input, weights)\n",
    "\n",
    "    def forward(self, x):\n",
    "        batchsize = x.shape[0]\n",
    "        #Compute Fourier coeffcients up to factor of e^(- something constant)\n",
    "        x_ft = torch.fft.rfft2(x)\n",
    "\n",
    "        # Multiply relevant Fourier modes\n",
    "        out_ft = torch.zeros(batchsize, self.out_channels,  x.size(-2), x.size(-1)//2 + 1, dtype=torch.cfloat, device=x.device)\n",
    "        out_ft[:, :, :self.modes1, :self.modes2] = \\\n",
    "            self.compl_mul2d(x_ft[:, :, :self.modes1, :self.modes2], self.weights1)\n",
    "        out_ft[:, :, -self.modes1:, :self.modes2] = \\\n",
    "            self.compl_mul2d(x_ft[:, :, -self.modes1:, :self.modes2], self.weights2)\n",
    "\n",
    "        # out_ft = self.ca(out_ft.abs()) * out_ft\n",
    "        # out_ft = self.sa(out_ft.abs()) * out_ft\n",
    "\n",
    "        #Return to physical space\n",
    "        x = torch.fft.irfft2(out_ft, s=(x.size(-2), x.size(-1)))\n",
    "        return x\n",
    "\n",
    "class FNO2d(nn.Module):\n",
    "    def __init__(self, modes, width, in_dim, out_dim=2):\n",
    "        super(FNO2d, self).__init__()\n",
    "        \n",
    "        \"\"\"\n",
    "        The overall network. It contains 4 layers of the Fourier layer.\n",
    "        1. Lift the input to the desire channel dimension by self.fc0 .\n",
    "        2. 4 layers of the integral operators u' = (W + K)(u).\n",
    "            W defined by self.w; K defined by self.conv .\n",
    "        3. Project from the channel space to the output space by self.fc1 and self.fc2 .\n",
    "        \n",
    "        input: the solution of the previous 10 timesteps + 2 locations (u(t-10, x, y), ..., u(t-1, x, y),  x, y)\n",
    "        input shape: (batchsize, x=64, y=64, c=12)\n",
    "        output: the solution of the next timestep\n",
    "        output shape: (batchsize, x=64, y=64, c=1)\n",
    "        \"\"\"\n",
    "\n",
    "        self.modes = modes\n",
    "        self.width = width\n",
    "        self.padding = 2 # pad the domain if input is non-periodic\n",
    "        self.conv_begin_0 = nn.Conv2d(in_dim+2, self.width, 1)  # GoPro dataset: RGB 3 channels\n",
    "        self.conv_begin_1 = nn.Conv2d(self.width, self.width, 1)\n",
    "        # input channel is 12: the solution of the previous 10 timesteps + 2 locations (u(t-10, x, y), ..., u(t-1, x, y),  x, y)\n",
    "        self.conv_end1 = nn.Conv2d(self.width, self.width, 1)\n",
    "        self.conv_end2 = nn.Conv2d(self.width, 2, 1)\n",
    "        self.prelu_begin = nn.PReLU(self.width)\n",
    "        self.prelu_end = nn.PReLU(self.width)\n",
    "        self.lsc = nn.Conv2d(self.width, self.width, 1)\n",
    "\n",
    "        self.scales_per_block = [1,1,2,2,2,4,4,4]\n",
    "        self.share_block = [True,True,True,True,True,False,False,False]\n",
    "        self.num_per_block = [2,2,2,2,2,2,2,2]\n",
    "        assert len(self.scales_per_block) == len(self.share_block) and len(self.scales_per_block) == len(self.num_per_block)\n",
    "\n",
    "        self.SConv2d_list = []\n",
    "        self.w_list = []\n",
    "        self.prelu_list = []\n",
    "        self.ssc_list = []\n",
    "        for i in range(len(self.scales_per_block)):\n",
    "            print(\"building scales\", i)\n",
    "            if self.share_block[i]:\n",
    "                print(\"\\tshared params\", end=' ')\n",
    "                print(self.scales_per_block[i])\n",
    "                self.SConv2d_list.append(SpectralConv2d_fast(self.width, self.width, self.modes//self.scales_per_block[i], self.modes//self.scales_per_block[i]))\n",
    "                self.w_list.append(nn.Conv2d(self.width, self.width, 1))\n",
    "                self.prelu_list.append(nn.PReLU(self.width))\n",
    "            else:\n",
    "                print(\"\\tnot shared params\", end=' ')\n",
    "                for _ in range(self.num_per_block[i]):\n",
    "                    print(self.scales_per_block[i], end=' ')\n",
    "                    self.SConv2d_list.append(SpectralConv2d_fast(self.width, self.width, self.modes//self.scales_per_block[i], self.modes//self.scales_per_block[i]))\n",
    "                    self.w_list.append(nn.Conv2d(self.width, self.width, 1))\n",
    "                    self.prelu_list.append(nn.PReLU(self.width))\n",
    "                print()\n",
    "            self.ssc_list.append(nn.Conv2d(self.width, self.width, 1))\n",
    "        self.SConv2d_list = nn.ModuleList(self.SConv2d_list)\n",
    "        self.w_list = nn.ModuleList(self.w_list)\n",
    "        self.prelu_list = nn.ModuleList(self.prelu_list)\n",
    "        self.ssc_list = nn.ModuleList(self.ssc_list)\n",
    "        \n",
    "\n",
    "    def forward(self, x):\n",
    "        grid = self.get_grid(x.shape, x.device)\n",
    "        x = torch.cat((x, grid), dim=1)\n",
    "        # x = x.permute(0, 3, 1, 2)\n",
    "        x = self.conv_begin_0(x)\n",
    "        x = self.prelu_begin(x)\n",
    "        x = self.conv_begin_1(x)\n",
    "        x_0 = x\n",
    "        x_s = x_0\n",
    "        x_t = x_0\n",
    "        \n",
    "\n",
    "        pointer = 0\n",
    "        for i in range(len(self.scales_per_block)):\n",
    "            # print(i)\n",
    "            if self.share_block[i]:\n",
    "                for _ in range(self.num_per_block[i]):\n",
    "                    # print(\"\\t\",pointer)\n",
    "                    x = self.SConv2d_list[pointer](x) + self.w_list[pointer](x)\n",
    "                    x = self.prelu_list[pointer](x)\n",
    "                    x = x + x_t\n",
    "                    x_t = x\n",
    "                pointer += 1\n",
    "            else:\n",
    "                for _ in range(self.num_per_block[i]):\n",
    "                    # print(\"\\t\",pointer)\n",
    "                    x = self.SConv2d_list[pointer](x) + self.w_list[pointer](x)\n",
    "                    x = self.prelu_list[pointer](x)\n",
    "                    x = x + x_t\n",
    "                    x_t = x\n",
    "                    pointer += 1\n",
    "            x = self.ssc_list[i](x)\n",
    "            x = x + x_s\n",
    "            x_s = x\n",
    "            x_t = x_s\n",
    "\n",
    "\n",
    "        x = self.lsc(x)\n",
    "        x = x + x_0\n",
    "\n",
    "        x = self.conv_end1(x)\n",
    "        x = self.prelu_end(x)\n",
    "        x = self.conv_end2(x)\n",
    "        # x = x.permute(0, 2, 3, 1)\n",
    "        return x\n",
    "\n",
    "    def get_grid(self, shape, device):\n",
    "        # return [N, C, H, W] grids\n",
    "        n, c, size_x, size_y = shape\n",
    "        gridx = torch.tensor(np.linspace(0, 1, size_x), dtype=torch.float)\n",
    "        gridx = gridx.reshape(1, 1, size_x, 1).repeat([n, 1, 1, size_y])\n",
    "        gridy = torch.tensor(np.linspace(0, 1, size_y), dtype=torch.float)\n",
    "        gridy = gridy.reshape(1, 1, 1, size_y).repeat([n, 1, size_x, 1])\n",
    "        return torch.cat((gridx, gridy), dim=1).to(device)"
   ]
  },
  {
   "cell_type": "code",
   "execution_count": 200,
   "id": "d8423e27",
   "metadata": {},
   "outputs": [
    {
     "name": "stdout",
     "output_type": "stream",
     "text": [
      "building scales 0\n",
      "\tshared params 1\n",
      "building scales 1\n",
      "\tshared params 1\n",
      "building scales 2\n",
      "\tshared params 2\n",
      "building scales 3\n",
      "\tshared params 2\n",
      "building scales 4\n",
      "\tshared params 2\n",
      "building scales 5\n",
      "\tnot shared params 4 4 \n",
      "building scales 6\n",
      "\tnot shared params 4 4 \n",
      "building scales 7\n",
      "\tnot shared params 4 4 \n"
     ]
    }
   ],
   "source": [
    "model = FNO2d(modes, width, len(z_list), 2).cuda()"
   ]
  },
  {
   "cell_type": "code",
   "execution_count": 201,
   "id": "35516b16",
   "metadata": {},
   "outputs": [
    {
     "data": {
      "text/plain": [
       "FNO2d(\n",
       "  (conv_begin_0): Conv2d(4, 48, kernel_size=(1, 1), stride=(1, 1))\n",
       "  (conv_begin_1): Conv2d(48, 48, kernel_size=(1, 1), stride=(1, 1))\n",
       "  (conv_end1): Conv2d(48, 48, kernel_size=(1, 1), stride=(1, 1))\n",
       "  (conv_end2): Conv2d(48, 2, kernel_size=(1, 1), stride=(1, 1))\n",
       "  (prelu_begin): PReLU(num_parameters=48)\n",
       "  (prelu_end): PReLU(num_parameters=48)\n",
       "  (lsc): Conv2d(48, 48, kernel_size=(1, 1), stride=(1, 1))\n",
       "  (SConv2d_list): ModuleList(\n",
       "    (0): SpectralConv2d_fast()\n",
       "    (1): SpectralConv2d_fast()\n",
       "    (2): SpectralConv2d_fast()\n",
       "    (3): SpectralConv2d_fast()\n",
       "    (4): SpectralConv2d_fast()\n",
       "    (5): SpectralConv2d_fast()\n",
       "    (6): SpectralConv2d_fast()\n",
       "    (7): SpectralConv2d_fast()\n",
       "    (8): SpectralConv2d_fast()\n",
       "    (9): SpectralConv2d_fast()\n",
       "    (10): SpectralConv2d_fast()\n",
       "  )\n",
       "  (w_list): ModuleList(\n",
       "    (0): Conv2d(48, 48, kernel_size=(1, 1), stride=(1, 1))\n",
       "    (1): Conv2d(48, 48, kernel_size=(1, 1), stride=(1, 1))\n",
       "    (2): Conv2d(48, 48, kernel_size=(1, 1), stride=(1, 1))\n",
       "    (3): Conv2d(48, 48, kernel_size=(1, 1), stride=(1, 1))\n",
       "    (4): Conv2d(48, 48, kernel_size=(1, 1), stride=(1, 1))\n",
       "    (5): Conv2d(48, 48, kernel_size=(1, 1), stride=(1, 1))\n",
       "    (6): Conv2d(48, 48, kernel_size=(1, 1), stride=(1, 1))\n",
       "    (7): Conv2d(48, 48, kernel_size=(1, 1), stride=(1, 1))\n",
       "    (8): Conv2d(48, 48, kernel_size=(1, 1), stride=(1, 1))\n",
       "    (9): Conv2d(48, 48, kernel_size=(1, 1), stride=(1, 1))\n",
       "    (10): Conv2d(48, 48, kernel_size=(1, 1), stride=(1, 1))\n",
       "  )\n",
       "  (prelu_list): ModuleList(\n",
       "    (0): PReLU(num_parameters=48)\n",
       "    (1): PReLU(num_parameters=48)\n",
       "    (2): PReLU(num_parameters=48)\n",
       "    (3): PReLU(num_parameters=48)\n",
       "    (4): PReLU(num_parameters=48)\n",
       "    (5): PReLU(num_parameters=48)\n",
       "    (6): PReLU(num_parameters=48)\n",
       "    (7): PReLU(num_parameters=48)\n",
       "    (8): PReLU(num_parameters=48)\n",
       "    (9): PReLU(num_parameters=48)\n",
       "    (10): PReLU(num_parameters=48)\n",
       "  )\n",
       "  (ssc_list): ModuleList(\n",
       "    (0): Conv2d(48, 48, kernel_size=(1, 1), stride=(1, 1))\n",
       "    (1): Conv2d(48, 48, kernel_size=(1, 1), stride=(1, 1))\n",
       "    (2): Conv2d(48, 48, kernel_size=(1, 1), stride=(1, 1))\n",
       "    (3): Conv2d(48, 48, kernel_size=(1, 1), stride=(1, 1))\n",
       "    (4): Conv2d(48, 48, kernel_size=(1, 1), stride=(1, 1))\n",
       "    (5): Conv2d(48, 48, kernel_size=(1, 1), stride=(1, 1))\n",
       "    (6): Conv2d(48, 48, kernel_size=(1, 1), stride=(1, 1))\n",
       "    (7): Conv2d(48, 48, kernel_size=(1, 1), stride=(1, 1))\n",
       "  )\n",
       ")"
      ]
     },
     "execution_count": 201,
     "metadata": {},
     "output_type": "execute_result"
    }
   ],
   "source": [
    "model"
   ]
  },
  {
   "cell_type": "code",
   "execution_count": null,
   "id": "93c2eba7",
   "metadata": {},
   "outputs": [],
   "source": []
  },
  {
   "cell_type": "code",
   "execution_count": 202,
   "id": "46aaf97f",
   "metadata": {},
   "outputs": [],
   "source": [
    "# myloss = LpLoss(size_average=False)\n",
    "maeloss = nn.L1Loss(reduction='mean')\n",
    "mseloss = nn.MSELoss()\n",
    "# wavelength: [um], pixel_size: [um], patch_size: [px], ref_ind: refractive index of the medium, air is 1.0\n",
    "params = {'wavelength':0.530,'pixel_size':0.3733,'patch_size':S,'ref_ind':1.00}  # SPECIFY YOUR TRAINING SETUPS\n",
    "# Fourier domain window\n",
    "hann_window = torch.outer(torch.hann_window(S), torch.hann_window(S))  # 2D Hann window\n",
    "hann_window = torch.fft.ifftshift(hann_window).unsqueeze(0).unsqueeze(0).cuda()"
   ]
  },
  {
   "cell_type": "code",
   "execution_count": 203,
   "id": "f72be0ff",
   "metadata": {},
   "outputs": [
    {
     "data": {
      "text/plain": [
       "torch.Size([1, 1, 512, 512])"
      ]
     },
     "execution_count": 203,
     "metadata": {},
     "output_type": "execute_result"
    }
   ],
   "source": [
    "hann_window.shape"
   ]
  },
  {
   "cell_type": "code",
   "execution_count": 204,
   "id": "a0a70402",
   "metadata": {},
   "outputs": [],
   "source": [
    "inputs = torch.rand(1, 3, 512, 512).cuda()"
   ]
  },
  {
   "cell_type": "code",
   "execution_count": 205,
   "id": "52982bc4",
   "metadata": {},
   "outputs": [],
   "source": [
    "tvl = tv_loss(inputs)"
   ]
  },
  {
   "cell_type": "code",
   "execution_count": 206,
   "id": "0250de72",
   "metadata": {},
   "outputs": [
    {
     "data": {
      "text/plain": [
       "tensor([0.6651])"
      ]
     },
     "execution_count": 206,
     "metadata": {},
     "output_type": "execute_result"
    }
   ],
   "source": [
    "tvl"
   ]
  },
  {
   "cell_type": "code",
   "execution_count": 207,
   "id": "5ff5c872",
   "metadata": {},
   "outputs": [],
   "source": [
    "xx = torch.rand(1, 2, 512, 512).cuda()\n",
    "im = model(xx)"
   ]
  },
  {
   "cell_type": "code",
   "execution_count": 208,
   "id": "b9f5a761",
   "metadata": {},
   "outputs": [
    {
     "data": {
      "text/plain": [
       "torch.Size([1, 2, 512, 512])"
      ]
     },
     "execution_count": 208,
     "metadata": {},
     "output_type": "execute_result"
    }
   ],
   "source": [
    "im.shape"
   ]
  },
  {
   "cell_type": "code",
   "execution_count": 209,
   "id": "f62fc404",
   "metadata": {},
   "outputs": [],
   "source": [
    "im_x = torch.abs(batch_fsp(im, z_list))"
   ]
  },
  {
   "cell_type": "code",
   "execution_count": 210,
   "id": "46b90576",
   "metadata": {},
   "outputs": [
    {
     "data": {
      "text/plain": [
       "torch.Size([1, 2, 512, 512])"
      ]
     },
     "execution_count": 210,
     "metadata": {},
     "output_type": "execute_result"
    }
   ],
   "source": [
    "im_x.shape"
   ]
  },
  {
   "cell_type": "code",
   "execution_count": null,
   "id": "1a49a989",
   "metadata": {},
   "outputs": [],
   "source": [
    "\n"
   ]
  },
  {
   "cell_type": "code",
   "execution_count": 211,
   "id": "05f65080",
   "metadata": {},
   "outputs": [],
   "source": [
    "# normalize a complex field by dividing its complex mean\n",
    "def comp_field_norm(comp_field):\n",
    "    # comp_field [N, C=2 (real&imag), H, W] or [C, H, W]\n",
    "    if isinstance(comp_field, np.ndarray):\n",
    "        if comp_field.ndim == 3:\n",
    "            comp_field = comp_field[0,...] + 1j*comp_field[1,...]\n",
    "            comp_field /= (np.mean(np.abs(comp_field), axis=(-2,-1), keepdims=True) * np.exp(1j*np.mean(np.angle(comp_field), axis=(-2,-1), keepdims=True)))\n",
    "            comp_field /= np.mean(comp_field, axis=(-2,-1), keepdims=True)\n",
    "            return np.stack((np.real(comp_field), np.imag(comp_field)), axis=0)\n",
    "        elif comp_field.ndim == 4:\n",
    "            comp_field = comp_field[:,0,...] + 1j*comp_field[:,1,...]\n",
    "            comp_field /= (np.mean(np.abs(comp_field), axis=(-2,-1), keepdims=True) * np.exp(1j*np.mean(np.angle(comp_field), axis=(-2,-1), keepdims=True)))\n",
    "            comp_field /= np.mean(comp_field, axis=(-2,-1), keepdims=True)\n",
    "            return np.stack((np.real(comp_field), np.imag(comp_field)), axis=1)\n",
    "    elif isinstance(comp_field, torch.Tensor):\n",
    "        comp_field = comp_field[:,0,...] + 1j*comp_field[:,1,...]\n",
    "        comp_field /= (torch.mean(torch.abs(comp_field), dim=(-2,-1), keepdim=True) * torch.exp(1j*torch.mean(torch.angle(comp_field), dim=(-2,-1), keepdim=True)))\n",
    "        comp_field /= torch.mean(comp_field, dim=(-2,-1), keepdim=True)\n",
    "        return torch.stack([torch.real(comp_field), torch.imag(comp_field)], dim=1)"
   ]
  },
  {
   "cell_type": "code",
   "execution_count": 212,
   "id": "a8103b0a",
   "metadata": {},
   "outputs": [
    {
     "ename": "RuntimeError",
     "evalue": "Expected all tensors to be on the same device, but found at least two devices, cuda:0 and cpu!",
     "output_type": "error",
     "traceback": [
      "\u001b[1;31m---------------------------------------------------------------------------\u001b[0m",
      "\u001b[1;31mRuntimeError\u001b[0m                              Traceback (most recent call last)",
      "Cell \u001b[1;32mIn[212], line 4\u001b[0m\n\u001b[0;32m      2\u001b[0m train_mse \u001b[38;5;241m=\u001b[39m \u001b[38;5;241m0\u001b[39m\n\u001b[0;32m      3\u001b[0m loss \u001b[38;5;241m+\u001b[39m\u001b[38;5;241m=\u001b[39m maeloss(torch\u001b[38;5;241m.\u001b[39mfft\u001b[38;5;241m.\u001b[39mfft2(im_x) \u001b[38;5;241m*\u001b[39m hann_window, torch\u001b[38;5;241m.\u001b[39mfft\u001b[38;5;241m.\u001b[39mfft2(xx) \u001b[38;5;241m*\u001b[39m hann_window) \u001b[38;5;241m*\u001b[39m \u001b[38;5;241m0.1\u001b[39m  \u001b[38;5;66;03m# LOSS WEIGHTS MAY VARY FROM CASE TO CASE\u001b[39;00m\n\u001b[1;32m----> 4\u001b[0m loss \u001b[38;5;241m+\u001b[39m\u001b[38;5;241m=\u001b[39m \u001b[43mmseloss\u001b[49m\u001b[43m(\u001b[49m\u001b[43mim_x\u001b[49m\u001b[43m,\u001b[49m\u001b[43m \u001b[49m\u001b[43mxx\u001b[49m\u001b[43m)\u001b[49m\u001b[38;5;241;43m*\u001b[39;49m\u001b[38;5;241;43m1.0\u001b[39;49m\u001b[43m \u001b[49m\u001b[38;5;241;43m+\u001b[39;49m\u001b[43m \u001b[49m\u001b[43mtv_loss\u001b[49m\u001b[43m(\u001b[49m\u001b[43mim\u001b[49m\u001b[43m)\u001b[49m\u001b[38;5;241;43m*\u001b[39;49m\u001b[38;5;241;43m20.0\u001b[39;49m\n\u001b[0;32m      6\u001b[0m \u001b[38;5;66;03m# train_mse += mseloss(comp_field_norm(im.detach().cpu()), comp_field_norm(xx.detach().cpu())).detach().item()\u001b[39;00m\n",
      "\u001b[1;31mRuntimeError\u001b[0m: Expected all tensors to be on the same device, but found at least two devices, cuda:0 and cpu!"
     ]
    }
   ],
   "source": [
    "loss = 0\n",
    "train_mse = 0\n",
    "loss += maeloss(torch.fft.fft2(im_x) * hann_window, torch.fft.fft2(xx) * hann_window) * 0.1  # LOSS WEIGHTS MAY VARY FROM CASE TO CASE\n",
    "loss += mseloss(im_x, xx)*1.0 + tv_loss(im)*20.0\n",
    "\n",
    "# train_mse += mseloss(comp_field_norm(im.detach().cpu()), comp_field_norm(xx.detach().cpu())).detach().item()"
   ]
  },
  {
   "cell_type": "code",
   "execution_count": 213,
   "id": "581cd2b9",
   "metadata": {},
   "outputs": [
    {
     "data": {
      "text/plain": [
       "tensor(3.3510, device='cuda:0', grad_fn=<AddBackward0>)"
      ]
     },
     "execution_count": 213,
     "metadata": {},
     "output_type": "execute_result"
    }
   ],
   "source": [
    "loss"
   ]
  },
  {
   "cell_type": "code",
   "execution_count": 214,
   "id": "e3fe14fc",
   "metadata": {},
   "outputs": [
    {
     "data": {
      "text/plain": [
       "torch.Size([1, 2, 512, 512])"
      ]
     },
     "execution_count": 214,
     "metadata": {},
     "output_type": "execute_result"
    }
   ],
   "source": [
    "(torch.fft.fft2(im_x) * hann_window).shape"
   ]
  },
  {
   "cell_type": "code",
   "execution_count": 215,
   "id": "abc34a59",
   "metadata": {},
   "outputs": [
    {
     "data": {
      "text/plain": [
       "torch.Size([1, 2, 512, 512])"
      ]
     },
     "execution_count": 215,
     "metadata": {},
     "output_type": "execute_result"
    }
   ],
   "source": [
    "(torch.fft.fft2(xx) * hann_window).shape"
   ]
  },
  {
   "cell_type": "code",
   "execution_count": 174,
   "id": "396853d0",
   "metadata": {},
   "outputs": [],
   "source": [
    "x = torch.rand(10, 3, 512, 512)"
   ]
  },
  {
   "cell_type": "code",
   "execution_count": 175,
   "id": "e398d268",
   "metadata": {},
   "outputs": [
    {
     "data": {
      "text/plain": [
       "tensor(0.)"
      ]
     },
     "execution_count": 175,
     "metadata": {},
     "output_type": "execute_result"
    }
   ],
   "source": [
    "mseloss(x, x)"
   ]
  },
  {
   "cell_type": "code",
   "execution_count": 171,
   "id": "c7776847",
   "metadata": {},
   "outputs": [
    {
     "ename": "ValueError",
     "evalue": "not enough values to unpack (expected 4, got 3)",
     "output_type": "error",
     "traceback": [
      "\u001b[1;31m---------------------------------------------------------------------------\u001b[0m",
      "\u001b[1;31mValueError\u001b[0m                                Traceback (most recent call last)",
      "Cell \u001b[1;32mIn[171], line 1\u001b[0m\n\u001b[1;32m----> 1\u001b[0m \u001b[43mtv_loss\u001b[49m\u001b[43m(\u001b[49m\u001b[43mx\u001b[49m\u001b[43m)\u001b[49m\n",
      "Cell \u001b[1;32mIn[108], line 3\u001b[0m, in \u001b[0;36mtv_loss\u001b[1;34m(inputs)\u001b[0m\n\u001b[0;32m      1\u001b[0m \u001b[38;5;28;01mdef\u001b[39;00m \u001b[38;5;21mtv_loss\u001b[39m(inputs):\n\u001b[0;32m      2\u001b[0m     \u001b[38;5;66;03m# inputs: [N, C, H, W]\u001b[39;00m\n\u001b[1;32m----> 3\u001b[0m     n, c, h, w \u001b[38;5;241m=\u001b[39m inputs\u001b[38;5;241m.\u001b[39mshape\n\u001b[0;32m      4\u001b[0m     grad_x \u001b[38;5;241m=\u001b[39m inputs[:,:,\u001b[38;5;241m1\u001b[39m:,:] \u001b[38;5;241m-\u001b[39m inputs[:,:,:\u001b[38;5;241m-\u001b[39m\u001b[38;5;241m1\u001b[39m,:]\n\u001b[0;32m      5\u001b[0m     grad_y \u001b[38;5;241m=\u001b[39m inputs[:,:,:,\u001b[38;5;241m1\u001b[39m:] \u001b[38;5;241m-\u001b[39m inputs[:,:,:,:\u001b[38;5;241m-\u001b[39m\u001b[38;5;241m1\u001b[39m]\n",
      "\u001b[1;31mValueError\u001b[0m: not enough values to unpack (expected 4, got 3)"
     ]
    }
   ],
   "source": [
    "tv_loss(x)"
   ]
  },
  {
   "cell_type": "code",
   "execution_count": 178,
   "id": "e9660ff5",
   "metadata": {},
   "outputs": [
    {
     "name": "stdout",
     "output_type": "stream",
     "text": [
      "tensor(4420240.5000)\n",
      "Total Variation Loss: 2.2482504844665527\n"
     ]
    }
   ],
   "source": [
    "import torch\n",
    "\n",
    "def tv_loss(inputs):\n",
    "    # inputs: [N, C, H, W]\n",
    "    n, c, h, w = inputs.shape\n",
    "    grad_x = inputs[:, :, :, 1:] - inputs[:, :, :, :-1]\n",
    "    grad_y = inputs[:, :, 1:, :] - inputs[:, :, :-1, :]\n",
    "    tv = torch.sum(torch.abs(grad_x)) + torch.sum(torch.abs(grad_y))\n",
    "    print(tv)\n",
    "    return tv / (n * c * h * w)\n",
    "\n",
    "# Example usage\n",
    "if __name__ == \"__main__\":\n",
    "    # Generate some random data (replace this with your own data)\n",
    "    N = 10  # Number of images in the batch\n",
    "    C = 3   # Number of channels\n",
    "    H = 256 # Height\n",
    "    W = 256 # Width\n",
    "\n",
    "    inputs = torch.randn(N, C, H, W)\n",
    "\n",
    "    # Calculate TV loss\n",
    "    tv_loss_value = tv_loss(inputs)\n",
    "\n",
    "    print(\"Total Variation Loss:\", tv_loss_value.item())\n"
   ]
  },
  {
   "cell_type": "code",
   "execution_count": 184,
   "id": "f4fe78fe",
   "metadata": {},
   "outputs": [
    {
     "name": "stdout",
     "output_type": "stream",
     "text": [
      "Batch Total Variation Loss: tensor([2.2500, 2.2514, 2.2482, 2.2516, 2.2480, 2.2408, 2.2477, 2.2461, 2.2428,\n",
      "        2.2504])\n"
     ]
    }
   ],
   "source": [
    "import torch\n",
    "\n",
    "def tv_loss(inputs):\n",
    "    # inputs: [N, C, H, W]\n",
    "    n, c, h, w = inputs.shape\n",
    "    tv_losses = torch.zeros(n)  # Initialize a tensor to store individual losses\n",
    "    \n",
    "    for i in range(n):\n",
    "        grad_x = inputs[i, :, :, 1:] - inputs[i, :, :, :-1]\n",
    "        grad_y = inputs[i, :, 1:, :] - inputs[i, :, :-1, :]\n",
    "        tv_losses[i] = torch.sum(torch.abs(grad_x)) + torch.sum(torch.abs(grad_y))\n",
    "    \n",
    "#     batch_tv_loss = torch.mean(tv_losses)  # Calculate the average TV loss for the batch\n",
    "    return tv_losses/ (c * h * w)\n",
    "\n",
    "# Example usage\n",
    "if __name__ == \"__main__\":\n",
    "    N = 10  # Number of images in the batch\n",
    "    C = 3   # Number of channels\n",
    "    H = 256 # Height\n",
    "    W = 256 # Width\n",
    "\n",
    "    inputs = torch.randn(N, C, H, W)\n",
    "\n",
    "    # Calculate TV loss for the batch\n",
    "    batch_tv_loss = tv_loss(inputs)\n",
    "\n",
    "    print(\"Batch Total Variation Loss:\", batch_tv_loss)\n"
   ]
  },
  {
   "cell_type": "code",
   "execution_count": null,
   "id": "3aa15eba",
   "metadata": {},
   "outputs": [],
   "source": []
  },
  {
   "cell_type": "code",
   "execution_count": null,
   "id": "84bfce0d",
   "metadata": {},
   "outputs": [],
   "source": []
  },
  {
   "cell_type": "code",
   "execution_count": null,
   "id": "5fb9c3d1",
   "metadata": {},
   "outputs": [],
   "source": []
  },
  {
   "cell_type": "code",
   "execution_count": 83,
   "id": "bea1145b",
   "metadata": {},
   "outputs": [
    {
     "data": {
      "text/plain": [
       "tensor(0.)"
      ]
     },
     "execution_count": 83,
     "metadata": {},
     "output_type": "execute_result"
    }
   ],
   "source": [
    "hann_window.min()"
   ]
  },
  {
   "cell_type": "code",
   "execution_count": 84,
   "id": "0c07f8cf",
   "metadata": {},
   "outputs": [
    {
     "data": {
      "image/png": "[encoded data removed]",
      "text/plain": [
       "<Figure size 640x480 with 1 Axes>"
      ]
     },
     "metadata": {},
     "output_type": "display_data"
    }
   ],
   "source": [
    "import matplotlib.pyplot as plt\n",
    "# Generate random noise\n",
    "noise = hann_window.flatten().cpu().numpy()\n",
    "# Plot the histogram\n",
    "plt.hist(noise, bins=50)  # Adjust the number of bins as needed\n",
    "plt.xlabel('Value')\n",
    "plt.ylabel('Frequency')\n",
    "plt.title('Histogram of 3D Simplex Noise')\n",
    "plt.show()"
   ]
  },
  {
   "cell_type": "code",
   "execution_count": null,
   "id": "ed3fcdd5",
   "metadata": {},
   "outputs": [],
   "source": []
  },
  {
   "cell_type": "code",
   "execution_count": null,
   "id": "bad14063",
   "metadata": {},
   "outputs": [],
   "source": []
  },
  {
   "cell_type": "code",
   "execution_count": null,
   "id": "0cba2295",
   "metadata": {},
   "outputs": [],
   "source": []
  },
  {
   "cell_type": "code",
   "execution_count": 85,
   "id": "57d970cf",
   "metadata": {},
   "outputs": [],
   "source": [
    "hann_window = torch.fft.ifftshift(hann_window).unsqueeze(0).unsqueeze(0).cuda()"
   ]
  },
  {
   "cell_type": "code",
   "execution_count": 86,
   "id": "3b3aa810",
   "metadata": {},
   "outputs": [
    {
     "data": {
      "text/plain": [
       "tensor([[[[1.0000, 1.0000, 0.9998,  ..., 0.9997, 0.9998, 1.0000],\n",
       "          [1.0000, 0.9999, 0.9998,  ..., 0.9996, 0.9998, 0.9999],\n",
       "          [0.9998, 0.9998, 0.9997,  ..., 0.9995, 0.9997, 0.9998],\n",
       "          ...,\n",
       "          [0.9997, 0.9996, 0.9995,  ..., 0.9993, 0.9995, 0.9996],\n",
       "          [0.9998, 0.9998, 0.9997,  ..., 0.9995, 0.9997, 0.9998],\n",
       "          [1.0000, 0.9999, 0.9998,  ..., 0.9996, 0.9998, 0.9999]]]],\n",
       "       device='cuda:0')"
      ]
     },
     "execution_count": 86,
     "metadata": {},
     "output_type": "execute_result"
    }
   ],
   "source": [
    "hann_window"
   ]
  },
  {
   "cell_type": "code",
   "execution_count": 87,
   "id": "3cb874d1",
   "metadata": {},
   "outputs": [
    {
     "data": {
      "image/png": "[encoded data removed]",
      "text/plain": [
       "<Figure size 640x480 with 1 Axes>"
      ]
     },
     "metadata": {},
     "output_type": "display_data"
    }
   ],
   "source": [
    "import matplotlib.pyplot as plt\n",
    "# Generate random noise\n",
    "noise = hann_window.flatten().cpu().numpy()\n",
    "# Plot the histogram\n",
    "plt.hist(noise, bins=50)  # Adjust the number of bins as needed\n",
    "plt.xlabel('Value')\n",
    "plt.ylabel('Frequency')\n",
    "plt.title('Histogram of 3D Simplex Noise')\n",
    "plt.show()"
   ]
  },
  {
   "cell_type": "code",
   "execution_count": null,
   "id": "2cecb2d7",
   "metadata": {},
   "outputs": [],
   "source": []
  }
 ],
 "metadata": {
  "kernelspec": {
   "display_name": "Python 3 (ipykernel)",
   "language": "python",
   "name": "python3"
  },
  "language_info": {
   "codemirror_mode": {
    "name": "ipython",
    "version": 3
   },
   "file_extension": ".py",
   "mimetype": "text/x-python",
   "name": "python",
   "nbconvert_exporter": "python",
   "pygments_lexer": "ipython3",
   "version": "3.9.12"
  }
 },
 "nbformat": 4,
 "nbformat_minor": 5
}
