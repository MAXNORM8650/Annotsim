{
 "cells": [
  {
   "cell_type": "code",
   "execution_count": null,
   "id": "30db2bf7",
   "metadata": {},
   "outputs": [],
   "source": []
  },
  {
   "cell_type": "code",
   "execution_count": 11,
   "id": "cfdd8add",
   "metadata": {},
   "outputs": [
    {
     "name": "stdout",
     "output_type": "stream",
     "text": [
      "Expected Calibration Error (ECE) for a single image: 0.24700344697137272\n"
     ]
    }
   ],
   "source": [
    "import numpy as np\n",
    "\n",
    "def calculate_ece(predicted_probabilities, ground_truth_segmentation, num_bins=10):\n",
    "    # Define the bin limits\n",
    "    bin_limits = np.linspace(0, 1, num_bins + 1)\n",
    "\n",
    "    # Initialize variables to track ECE components\n",
    "    ece = 0.0\n",
    "    total_samples = 0\n",
    "\n",
    "    # Calculate ECE\n",
    "    for bin_idx in range(num_bins):\n",
    "        bin_lower, bin_upper = bin_limits[bin_idx], bin_limits[bin_idx + 1]\n",
    "\n",
    "        # Mask for pixels falling in the current probability bin\n",
    "        bin_mask = (predicted_probabilities >= bin_lower) & (predicted_probabilities < bin_upper)\n",
    "\n",
    "        # Calculate the number of pixels in this bin\n",
    "        bin_samples = np.sum(bin_mask)\n",
    "\n",
    "        if bin_samples > 0:\n",
    "            # Calculate the proportion of correctly predicted pixels in this bin\n",
    "            bin_accuracy = np.mean(ground_truth_segmentation[bin_mask])\n",
    "\n",
    "            # Calculate the average confidence in this bin\n",
    "            bin_confidence = np.mean(predicted_probabilities[bin_mask])\n",
    "\n",
    "            # Update the ECE with the contribution from this bin\n",
    "            ece += bin_samples * np.abs(bin_accuracy - bin_confidence)\n",
    "            total_samples += bin_samples\n",
    "\n",
    "    if total_samples > 0:\n",
    "        # Normalize ECE\n",
    "        ece /= total_samples\n",
    "\n",
    "    return ece\n",
    "\n",
    "# Example usage:\n",
    "predicted_probabilities = np.random.rand(1, 1, 256, 256)\n",
    "ground_truth_segmentation = np.random.randint(2, size=(1, 1, 256, 256))\n",
    "\n",
    "ece = calculate_ece(predicted_probabilities, ground_truth_segmentation)\n",
    "print(\"Expected Calibration Error (ECE) for a single image:\", ece)\n"
   ]
  },
  {
   "cell_type": "code",
   "execution_count": null,
   "id": "1387587c",
   "metadata": {},
   "outputs": [],
   "source": []
  },
  {
   "cell_type": "code",
   "execution_count": null,
   "id": "ab9a7984",
   "metadata": {},
   "outputs": [],
   "source": []
  },
  {
   "cell_type": "code",
   "execution_count": 1,
   "id": "a9fb31ee",
   "metadata": {},
   "outputs": [
    {
     "name": "stdout",
     "output_type": "stream",
     "text": [
      "Expected Calibration Error (ECE): 0.2500600181797582\n"
     ]
    }
   ],
   "source": [
    "import numpy as np\n",
    "\n",
    "# Generate example predicted probabilities (between 0 and 1)\n",
    "predicted_probabilities = np.random.rand(1000, 256, 256)\n",
    "\n",
    "# Generate example binary ground truth segmentations (0 or 1)\n",
    "ground_truth_segmentations = np.random.randint(2, size=(1000, 256, 256))\n",
    "\n",
    "# Define the number of bins and bin limits\n",
    "num_bins = 10\n",
    "bin_limits = np.linspace(0, 1, num_bins + 1)\n",
    "\n",
    "# Initialize variables to track ECE components\n",
    "ece = 0.0\n",
    "total_samples = 0\n",
    "\n",
    "# Calculate ECE\n",
    "for bin_idx in range(num_bins):\n",
    "    bin_lower, bin_upper = bin_limits[bin_idx], bin_limits[bin_idx + 1]\n",
    "\n",
    "    # Mask for samples falling in the current probability bin\n",
    "    bin_mask = (predicted_probabilities >= bin_lower) & (predicted_probabilities < bin_upper)\n",
    "\n",
    "    # Calculate the proportion of correctly predicted pixels in this bin\n",
    "    bin_accuracy = np.mean(ground_truth_segmentations[bin_mask])\n",
    "\n",
    "    # Calculate the average confidence in this bin\n",
    "    bin_confidence = np.mean(predicted_probabilities[bin_mask])\n",
    "\n",
    "    # Calculate the number of samples in this bin\n",
    "    bin_samples = np.sum(bin_mask)\n",
    "\n",
    "    # Update the ECE with the contribution from this bin\n",
    "    ece += bin_samples * np.abs(bin_accuracy - bin_confidence)\n",
    "    total_samples += bin_samples\n",
    "\n",
    "# Normalize ECE\n",
    "ece /= total_samples\n",
    "\n",
    "print(\"Expected Calibration Error (ECE):\", ece)"
   ]
  },
  {
   "cell_type": "code",
   "execution_count": null,
   "id": "473b1dbe",
   "metadata": {},
   "outputs": [],
   "source": []
  }
 ],
 "metadata": {
  "kernelspec": {
   "display_name": "Python 3 (ipykernel)",
   "language": "python",
   "name": "python3"
  },
  "language_info": {
   "codemirror_mode": {
    "name": "ipython",
    "version": 3
   },
   "file_extension": ".py",
   "mimetype": "text/x-python",
   "name": "python",
   "nbconvert_exporter": "python",
   "pygments_lexer": "ipython3",
   "version": "3.9.17"
  }
 },
 "nbformat": 4,
 "nbformat_minor": 5
}
