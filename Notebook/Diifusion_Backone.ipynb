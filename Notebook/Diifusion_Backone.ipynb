{
 "cells": [
  {
   "cell_type": "code",
   "execution_count": 23,
   "id": "d405d3f6",
   "metadata": {},
   "outputs": [],
   "source": [
    "from UViT import UViT\n",
    "from maskdit import EDMPrecond\n",
    "import torch\n",
    "from GaussianDiffusion import GaussianDiffusionModel, get_beta_schedule"
   ]
  },
  {
   "cell_type": "code",
   "execution_count": 24,
   "id": "1d2718c1",
   "metadata": {},
   "outputs": [],
   "source": [
    "model = UViT()"
   ]
  },
  {
   "cell_type": "code",
   "execution_count": 25,
   "id": "faaac742",
   "metadata": {},
   "outputs": [],
   "source": [
    "betas = get_beta_schedule(num_diffusion_steps=1000)"
   ]
  },
  {
   "cell_type": "code",
   "execution_count": 28,
   "id": "61e1e37d",
   "metadata": {},
   "outputs": [],
   "source": [
    "diffusion = GaussianDiffusionModel(img_size=256, betas=betas)"
   ]
  },
  {
   "cell_type": "code",
   "execution_count": null,
   "id": "de2688a6",
   "metadata": {},
   "outputs": [],
   "source": [
    "diffusion."
   ]
  },
  {
   "cell_type": "code",
   "execution_count": null,
   "id": "bbba6184",
   "metadata": {},
   "outputs": [],
   "source": []
  },
  {
   "cell_type": "code",
   "execution_count": null,
   "id": "00c3769b",
   "metadata": {},
   "outputs": [],
   "source": [
    "if __name__ == \"__main__\":\n",
    "    args = {\n",
    "        'img_size':          256,\n",
    "        'base_channels':     64,\n",
    "        'dropout':           0.3,\n",
    "        'num_heads':         4,\n",
    "        'num_head_channels': '32,16,8',\n",
    "        'lr':                1e-4,\n",
    "        'Batch_Size':        64\n",
    "        }\n",
    "    model = UNetModel(\n",
    "            args['img_size'], args['base_channels'], dropout=args[\n",
    "                \"dropout\"], n_heads=args[\"num_heads\"], attention_resolutions=args[\"num_head_channels\"],\n",
    "            in_channels=1\n",
    "            )\n",
    "\n",
    "    x = torch.randn(1, 3, 512, 512)\n",
    "    t_batch = torch.tensor([1], device=x.device).repeat(x.shape[0])\n",
    "    print(model(x, t_batch).shape)"
   ]
  },
  {
   "cell_type": "code",
   "execution_count": null,
   "id": "b19021b1",
   "metadata": {},
   "outputs": [],
   "source": []
  },
  {
   "cell_type": "code",
   "execution_count": 6,
   "id": "988fbad3",
   "metadata": {},
   "outputs": [
    {
     "name": "stdout",
     "output_type": "stream",
     "text": [
      "torch.Size([1, 3, 224, 224])\n"
     ]
    }
   ],
   "source": [
    "x = torch.randn(1, 3, 224, 224)\n",
    "t_batch = torch.tensor([1], device=x.device).repeat(x.shape[0])\n",
    "print(model(x, t_batch).shape)"
   ]
  },
  {
   "cell_type": "code",
   "execution_count": 8,
   "id": "a35e55df",
   "metadata": {},
   "outputs": [],
   "source": [
    "model1 = EDMPrecond(img_resolution=224, img_channels=3)"
   ]
  },
  {
   "cell_type": "code",
   "execution_count": 14,
   "id": "9eff3296",
   "metadata": {},
   "outputs": [],
   "source": [
    "sig = torch.tensor([0.5])"
   ]
  },
  {
   "cell_type": "code",
   "execution_count": 15,
   "id": "d0af031c",
   "metadata": {},
   "outputs": [],
   "source": [
    "y_test = model1(x, sig)"
   ]
  },
  {
   "cell_type": "code",
   "execution_count": 18,
   "id": "aa7bdaa1",
   "metadata": {},
   "outputs": [
    {
     "data": {
      "text/plain": [
       "torch.Size([1, 3, 224, 224])"
      ]
     },
     "execution_count": 18,
     "metadata": {},
     "output_type": "execute_result"
    }
   ],
   "source": [
    "y_test['x'].shape"
   ]
  },
  {
   "cell_type": "code",
   "execution_count": null,
   "id": "a2db2a28",
   "metadata": {},
   "outputs": [],
   "source": []
  }
 ],
 "metadata": {
  "kernelspec": {
   "display_name": "Python 3 (ipykernel)",
   "language": "python",
   "name": "python3"
  },
  "language_info": {
   "codemirror_mode": {
    "name": "ipython",
    "version": 3
   },
   "file_extension": ".py",
   "mimetype": "text/x-python",
   "name": "python",
   "nbconvert_exporter": "python",
   "pygments_lexer": "ipython3",
   "version": "3.9.12"
  }
 },
 "nbformat": 4,
 "nbformat_minor": 5
}
