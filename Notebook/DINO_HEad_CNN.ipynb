{
 "cells": [
  {
   "cell_type": "code",
   "execution_count": 1,
   "id": "4e1a0d57",
   "metadata": {},
   "outputs": [],
   "source": [
    "import torch\n",
    "import torch.nn as nn\n",
    "from timm.models.layers import trunc_normal_\n",
    "\n",
    "class DINOHead(nn.Module):\n",
    "    def __init__(self, in_chans, out_chans, use_bn=False, norm_last_layer=True, nlayers=3, hidden_dim=2048, bottleneck_dim=256):\n",
    "        super().__init__()\n",
    "        nlayers = max(nlayers, 1)\n",
    "        self.in_chans = in_chans\n",
    "        \n",
    "        if nlayers == 1:\n",
    "            self.mlp = nn.Conv2d(in_chans, bottleneck_dim, 3, padding=1)\n",
    "        else:\n",
    "            layers = [nn.Conv2d(in_chans, hidden_dim, 3, padding=1)]\n",
    "            if use_bn:\n",
    "                layers.append(nn.BatchNorm2d(hidden_dim))\n",
    "            layers.append(nn.GELU())\n",
    "            for _ in range(nlayers - 2):\n",
    "                layers.append(nn.Conv2d(hidden_dim, hidden_dim, 3, padding=1))\n",
    "                if use_bn:\n",
    "                    layers.append(nn.BatchNorm2d(hidden_dim))\n",
    "                layers.append(nn.GELU())\n",
    "            layers.append(nn.Conv2d(hidden_dim, bottleneck_dim, 3, padding=1))\n",
    "            self.mlp = nn.Sequential(*layers)\n",
    "        \n",
    "        self.apply(self._init_weights)\n",
    "        self.last_layer = nn.utils.weight_norm(nn.Conv2d(bottleneck_dim, out_chans, 1, bias=False))\n",
    "        self.last_layer.weight_g.data.fill_(1)\n",
    "        if norm_last_layer:\n",
    "            self.last_layer.weight_g.requires_grad = False\n",
    "\n",
    "    def _init_weights(self, m):\n",
    "        if isinstance(m, nn.Conv2d):\n",
    "            trunc_normal_(m.weight, std=.02)\n",
    "            if m.bias is not None:\n",
    "                nn.init.constant_(m.bias, 0)\n",
    "\n",
    "    def forward(self, x):\n",
    "        x = self.mlp(x)\n",
    "        x = nn.functional.normalize(x, dim=1, p=2)  # Normalize along channel dimension\n",
    "        x = self.last_layer(x)\n",
    "        return x"
   ]
  },
  {
   "cell_type": "code",
   "execution_count": 2,
   "id": "cd616547",
   "metadata": {},
   "outputs": [],
   "source": [
    "# Example usage:\n",
    "model = DINOHead(in_chans=3, out_chans=3)\n",
    "input_image = torch.randn(1, 3, 224, 224)\n",
    "output = model(input_image)"
   ]
  },
  {
   "cell_type": "code",
   "execution_count": 22,
   "id": "1e3b6ae1",
   "metadata": {},
   "outputs": [
    {
     "data": {
      "text/plain": [
       "torch.Size([1, 3, 224, 224])"
      ]
     },
     "execution_count": 22,
     "metadata": {},
     "output_type": "execute_result"
    }
   ],
   "source": [
    "output.shape"
   ]
  },
  {
   "cell_type": "code",
   "execution_count": 25,
   "id": "02fa370f",
   "metadata": {},
   "outputs": [
    {
     "data": {
      "text/plain": [
       "torch.Size([1, 3, 224, 224])"
      ]
     },
     "execution_count": 25,
     "metadata": {},
     "output_type": "execute_result"
    }
   ],
   "source": [
    "output[:1, ...].shape"
   ]
  },
  {
   "cell_type": "code",
   "execution_count": 18,
   "id": "6259f762",
   "metadata": {},
   "outputs": [],
   "source": [
    "noise = (torch.rand(4, 3, 224, 224), torch.rand(4, 3, 224, 224))"
   ]
  },
  {
   "cell_type": "code",
   "execution_count": 21,
   "id": "b13c3121",
   "metadata": {},
   "outputs": [
    {
     "name": "stdout",
     "output_type": "stream",
     "text": [
      "torch.Size([8, 3, 224, 224])\n"
     ]
    }
   ],
   "source": [
    "import torch\n",
    "\n",
    "# Assuming noise is a tuple of two tensors\n",
    "noise = (torch.rand(4, 3, 224, 224), torch.rand(4, 3, 224, 224))\n",
    "\n",
    "# Concatenate the tensors along the batch dimension (dim=0)\n",
    "concatenated_noise = torch.cat(noise, dim=0)\n",
    "\n",
    "# Print the shape of the result to confirm\n",
    "print(concatenated_noise.shape)\n"
   ]
  },
  {
   "cell_type": "code",
   "execution_count": 20,
   "id": "ea50e725",
   "metadata": {},
   "outputs": [
    {
     "ename": "AttributeError",
     "evalue": "'tuple' object has no attribute 'shape'",
     "output_type": "error",
     "traceback": [
      "\u001b[1;31m---------------------------------------------------------------------------\u001b[0m",
      "\u001b[1;31mAttributeError\u001b[0m                            Traceback (most recent call last)",
      "Cell \u001b[1;32mIn[20], line 1\u001b[0m\n\u001b[1;32m----> 1\u001b[0m \u001b[43mnoise\u001b[49m\u001b[38;5;241;43m.\u001b[39;49m\u001b[43mshape\u001b[49m\n",
      "\u001b[1;31mAttributeError\u001b[0m: 'tuple' object has no attribute 'shape'"
     ]
    }
   ],
   "source": [
    "noise.shape"
   ]
  },
  {
   "cell_type": "code",
   "execution_count": null,
   "id": "00c7ad56",
   "metadata": {},
   "outputs": [],
   "source": []
  }
 ],
 "metadata": {
  "kernelspec": {
   "display_name": "Python 3 (ipykernel)",
   "language": "python",
   "name": "python3"
  },
  "language_info": {
   "codemirror_mode": {
    "name": "ipython",
    "version": 3
   },
   "file_extension": ".py",
   "mimetype": "text/x-python",
   "name": "python",
   "nbconvert_exporter": "python",
   "pygments_lexer": "ipython3",
   "version": "3.9.17"
  }
 },
 "nbformat": 4,
 "nbformat_minor": 5
}
