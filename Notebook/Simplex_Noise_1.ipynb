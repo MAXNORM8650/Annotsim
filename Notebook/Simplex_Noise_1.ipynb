{
 "cells": [
  {
   "cell_type": "code",
   "execution_count": 1,
   "id": "481450aa",
   "metadata": {},
   "outputs": [],
   "source": [
    "from simplex import Simplex_CLASS\n",
    "import torch\n",
    "import numpy as np\n",
    "import matplotlib.pyplot as plt\n",
    "from PIL import Image\n",
    "import torchvision.transforms as transform"
   ]
  },
  {
   "cell_type": "code",
   "execution_count": 2,
   "id": "6264b7ec",
   "metadata": {},
   "outputs": [],
   "source": [
    "from Simplex import noise, generate_noise"
   ]
  },
  {
   "cell_type": "code",
   "execution_count": 3,
   "id": "db29d4c7",
   "metadata": {},
   "outputs": [],
   "source": [
    "Simplex_instance = Simplex_CLASS()"
   ]
  },
  {
   "cell_type": "code",
   "execution_count": 4,
   "id": "7ab9398a",
   "metadata": {},
   "outputs": [],
   "source": [
    "def generate_simplex_noise(\n",
    "        Simplex_instance, x, t, random_param=False, octave=6, persistence=0.8, frequency=64,\n",
    "        in_channels=4\n",
    "        ):\n",
    "    noise = torch.empty(x.shape).to(x.device)\n",
    "#     print(\"x\", x.shape)\n",
    "#     print(\"noise\", noise.shape)\n",
    "    for i in range(in_channels):\n",
    "        Simplex_instance.newSeed()\n",
    "        if random_param:\n",
    "            param = random.choice(\n",
    "                    [(2, 0.6, 16), (6, 0.6, 32), (7, 0.7, 32), (10, 0.8, 64), (5, 0.8, 16), (4, 0.6, 16), (1, 0.6, 64),\n",
    "                     (7, 0.8, 128), (6, 0.9, 64), (2, 0.85, 128), (2, 0.85, 64), (2, 0.85, 32), (2, 0.85, 16),\n",
    "                     (2, 0.85, 8),\n",
    "                     (2, 0.85, 4), (2, 0.85, 2), (1, 0.85, 128), (1, 0.85, 64), (1, 0.85, 32), (1, 0.85, 16),\n",
    "                     (1, 0.85, 8),\n",
    "                     (1, 0.85, 4), (1, 0.85, 2), ]\n",
    "                    )\n",
    "            # 2D octaves seem to introduce directional artifacts in the top left\n",
    "            noise[:, i, ...] = torch.unsqueeze(\n",
    "                    torch.from_numpy(\n",
    "                            # Simplex_instance.rand_2d_octaves(\n",
    "                            #         x.shape[-2:], param[0], param[1],\n",
    "                            #         param[2]\n",
    "                            #         )\n",
    "                            Simplex_instance.rand_3d_fixed_T_octaves(\n",
    "                                    x.shape[-2:], t.detach().cpu().numpy(), param[0], param[1],\n",
    "                                    param[2]\n",
    "                                    )\n",
    "                            ).to(x.device), 0\n",
    "                    ).repeat(x.shape[0], 1, 1, 1)\n",
    "#         print(f\"i and in_channels {i} / {in_channels}\")\n",
    "#         print(\"noise shape\", noise.shape)\n",
    "#         print(\"t shape\", t.shape)\n",
    "        noise[:, i, ...] = torch.unsqueeze(\n",
    "                torch.from_numpy(\n",
    "                        # Simplex_instance.rand_2d_octaves(\n",
    "                        #         x.shape[-2:], octave,\n",
    "                        #         persistence, frequency\n",
    "                        #         )\n",
    "                        Simplex_instance.rand_3d_fixed_T_octaves(\n",
    "                                x.shape[-2:], t.detach().cpu().numpy(), octave,\n",
    "                                persistence, frequency\n",
    "                                )\n",
    "                        ).to(x.device), 0\n",
    "                ).repeat(x.shape[0], 1, 1, 1)\n",
    "    return noise"
   ]
  },
  {
   "cell_type": "code",
   "execution_count": 5,
   "id": "dd9edb81",
   "metadata": {},
   "outputs": [],
   "source": [
    "octave=8\n",
    "persistence=0.8\n",
    "frequency=2\n",
    "in_channels = 1\n",
    "num_timesteps = 1000"
   ]
  },
  {
   "cell_type": "code",
   "execution_count": null,
   "id": "4c56bda1",
   "metadata": {},
   "outputs": [],
   "source": []
  },
  {
   "cell_type": "code",
   "execution_count": null,
   "id": "edcea321",
   "metadata": {},
   "outputs": [],
   "source": []
  },
  {
   "cell_type": "code",
   "execution_count": 6,
   "id": "0a47b3a8",
   "metadata": {},
   "outputs": [],
   "source": [
    "def plot_tensor(tensor):\n",
    "    array = tensor.numpy()\n",
    "    array = array.transpose(1, 2, 0)\n",
    "    plt.imshow(array, cmap='gray')\n",
    "    plt.axis('off')  # Optional: turn off the axis\n",
    "    plt.show()\n",
    "#     return array"
   ]
  },
  {
   "cell_type": "code",
   "execution_count": 7,
   "id": "1f036f96",
   "metadata": {},
   "outputs": [],
   "source": [
    "# Open the PNG image using PIL\n",
    "path = r\"C:\\Users\\Admin\\Dropbox\\PC\\Documents\\Anomaly Detection\\AnoDDPM\\DATASETS\\brainMRI\\train\\good\\No21.png\"\n",
    "input_size = 32\n",
    "image = Image.open(path)\n",
    "image = np.array(image)\n",
    "image = Image.fromarray(image)\n",
    "image = transform.Resize((input_size, input_size))(image)\n",
    "image = transform.ToTensor()(image)\n",
    "x = image.unsqueeze(dim = 0)"
   ]
  },
  {
   "cell_type": "code",
   "execution_count": 8,
   "id": "c596d13e",
   "metadata": {},
   "outputs": [],
   "source": [
    "simplex = Simplex_CLASS()\n",
    "# x = torch.rand(1, in_channels, 64, 1, 64)"
   ]
  },
  {
   "cell_type": "code",
   "execution_count": 9,
   "id": "4be25b37",
   "metadata": {},
   "outputs": [],
   "source": [
    "t = torch.randint(0, num_timesteps, (x.shape[0],), device=x.device)"
   ]
  },
  {
   "cell_type": "code",
   "execution_count": 10,
   "id": "ac06918d",
   "metadata": {},
   "outputs": [
    {
     "data": {
      "text/plain": [
       "tensor([410])"
      ]
     },
     "execution_count": 10,
     "metadata": {},
     "output_type": "execute_result"
    }
   ],
   "source": [
    "t"
   ]
  },
  {
   "cell_type": "code",
   "execution_count": 11,
   "id": "a90f0c77",
   "metadata": {},
   "outputs": [
    {
     "data": {
      "text/plain": [
       "torch.Size([1, 1, 32, 32])"
      ]
     },
     "execution_count": 11,
     "metadata": {},
     "output_type": "execute_result"
    }
   ],
   "source": [
    "x.shape"
   ]
  },
  {
   "cell_type": "code",
   "execution_count": 12,
   "id": "7d6adfbc",
   "metadata": {},
   "outputs": [],
   "source": [
    "noise = generate_simplex_noise(simplex, x=x, t=t, in_channels=in_channels, octave = octave, persistence= persistence, frequency= frequency)"
   ]
  },
  {
   "cell_type": "code",
   "execution_count": 13,
   "id": "d38d9c66",
   "metadata": {},
   "outputs": [
    {
     "data": {
      "text/plain": [
       "torch.Size([1, 1, 32, 32])"
      ]
     },
     "execution_count": 13,
     "metadata": {},
     "output_type": "execute_result"
    }
   ],
   "source": [
    "noise.shape"
   ]
  },
  {
   "cell_type": "code",
   "execution_count": 14,
   "id": "a38c4c01",
   "metadata": {},
   "outputs": [
    {
     "data": {
      "image/png": "[encoded data removed]",
      "text/plain": [
       "<Figure size 640x480 with 1 Axes>"
      ]
     },
     "metadata": {},
     "output_type": "display_data"
    }
   ],
   "source": [
    "# Generate random noise\n",
    "noise = noise.flatten().numpy()\n",
    "# Plot the histogram\n",
    "plt.hist(noise, bins=50)  # Adjust the number of bins as needed\n",
    "plt.xlabel('Value')\n",
    "plt.ylabel('Frequency')\n",
    "plt.title('Histogram of Simplex Noise')\n",
    "plt.show()"
   ]
  },
  {
   "cell_type": "code",
   "execution_count": 15,
   "id": "4c3a0893",
   "metadata": {},
   "outputs": [],
   "source": [
    "# plot_tensor(noise[0])"
   ]
  },
  {
   "cell_type": "code",
   "execution_count": 16,
   "id": "9f782a4f",
   "metadata": {},
   "outputs": [],
   "source": [
    "x = x.unsqueeze(-1)"
   ]
  },
  {
   "cell_type": "code",
   "execution_count": 17,
   "id": "b31d01d1",
   "metadata": {},
   "outputs": [
    {
     "data": {
      "text/plain": [
       "torch.Size([1, 1, 32, 32, 1])"
      ]
     },
     "execution_count": 17,
     "metadata": {},
     "output_type": "execute_result"
    }
   ],
   "source": [
    "x.shape"
   ]
  },
  {
   "cell_type": "code",
   "execution_count": 18,
   "id": "fbf643f7",
   "metadata": {},
   "outputs": [
    {
     "ename": "TypeError",
     "evalue": "generate_simplex_4noise() missing 1 required positional argument: 't'",
     "output_type": "error",
     "traceback": [
      "\u001b[1;31m---------------------------------------------------------------------------\u001b[0m",
      "\u001b[1;31mTypeError\u001b[0m                                 Traceback (most recent call last)",
      "Cell \u001b[1;32mIn[18], line 1\u001b[0m\n\u001b[1;32m----> 1\u001b[0m noise \u001b[38;5;241m=\u001b[39m \u001b[43mgenerate_noise\u001b[49m\u001b[38;5;241;43m.\u001b[39;49m\u001b[43mgenerate_simplex_4noise\u001b[49m\u001b[43m(\u001b[49m\u001b[43mx\u001b[49m\u001b[43m,\u001b[49m\u001b[43m \u001b[49m\u001b[43mt\u001b[49m\u001b[43m,\u001b[49m\u001b[43m \u001b[49m\u001b[43min_channels\u001b[49m\u001b[38;5;241;43m=\u001b[39;49m\u001b[43min_channels\u001b[49m\u001b[43m,\u001b[49m\u001b[43m \u001b[49m\u001b[43moctave\u001b[49m\u001b[38;5;241;43m=\u001b[39;49m\u001b[38;5;241;43m8\u001b[39;49m\u001b[43m,\u001b[49m\u001b[43m \u001b[49m\u001b[43mpersistence\u001b[49m\u001b[38;5;241;43m=\u001b[39;49m\u001b[43m \u001b[49m\u001b[43mpersistence\u001b[49m\u001b[43m,\u001b[49m\u001b[43m \u001b[49m\u001b[43mfrequency\u001b[49m\u001b[38;5;241;43m=\u001b[39;49m\u001b[43m \u001b[49m\u001b[43mfrequency\u001b[49m\u001b[43m)\u001b[49m\n",
      "\u001b[1;31mTypeError\u001b[0m: generate_simplex_4noise() missing 1 required positional argument: 't'"
     ]
    }
   ],
   "source": [
    "noise = generate_noise.generate_simplex_4noise(x, t, in_channels=in_channels, octave=8, persistence= persistence, frequency= frequency)"
   ]
  },
  {
   "cell_type": "code",
   "execution_count": null,
   "id": "ed21e66e",
   "metadata": {},
   "outputs": [],
   "source": [
    "t[0].numpy().size"
   ]
  },
  {
   "cell_type": "code",
   "execution_count": null,
   "id": "04baa609",
   "metadata": {},
   "outputs": [],
   "source": [
    "noise.shape"
   ]
  },
  {
   "cell_type": "code",
   "execution_count": null,
   "id": "aab90eb0",
   "metadata": {},
   "outputs": [],
   "source": [
    "noise.squeeze(3).shape"
   ]
  },
  {
   "cell_type": "code",
   "execution_count": null,
   "id": "aaae4b85",
   "metadata": {},
   "outputs": [],
   "source": [
    "plot_tensor(noise.squeeze(-1)[0])"
   ]
  },
  {
   "cell_type": "code",
   "execution_count": null,
   "id": "d92b2bf7",
   "metadata": {},
   "outputs": [],
   "source": [
    "# Generate random noise\n",
    "noise = noise.flatten().numpy()\n",
    "# Plot the histogram\n",
    "plt.hist(noise, bins=50)  # Adjust the number of bins as needed\n",
    "plt.xlabel('Value')\n",
    "plt.ylabel('Frequency')\n",
    "plt.title('Histogram of Simplex Noise')\n",
    "plt.show()"
   ]
  },
  {
   "cell_type": "code",
   "execution_count": null,
   "id": "0f19705e",
   "metadata": {},
   "outputs": [],
   "source": []
  },
  {
   "cell_type": "code",
   "execution_count": null,
   "id": "56ca3e03",
   "metadata": {},
   "outputs": [],
   "source": [
    "# image.shape"
   ]
  },
  {
   "cell_type": "code",
   "execution_count": null,
   "id": "44082768",
   "metadata": {},
   "outputs": [],
   "source": []
  },
  {
   "cell_type": "code",
   "execution_count": null,
   "id": "60ecbb40",
   "metadata": {},
   "outputs": [],
   "source": [
    "# plt.imshow(noise[0])"
   ]
  },
  {
   "cell_type": "code",
   "execution_count": null,
   "id": "c801572a",
   "metadata": {},
   "outputs": [],
   "source": [
    "# noise = noise.flatten()"
   ]
  },
  {
   "cell_type": "code",
   "execution_count": null,
   "id": "81e5a30f",
   "metadata": {},
   "outputs": [],
   "source": [
    "noise.shape"
   ]
  },
  {
   "cell_type": "code",
   "execution_count": null,
   "id": "2a74e9fe",
   "metadata": {},
   "outputs": [],
   "source": [
    "# Generate random noise\n",
    "noise = noise.flatten().numpy()\n",
    "# Plot the histogram\n",
    "plt.hist(noise, bins=50)  # Adjust the number of bins as needed\n",
    "plt.xlabel('Value')\n",
    "plt.ylabel('Frequency')\n",
    "plt.title('Histogram of Simplex Noise')\n",
    "plt.show()"
   ]
  },
  {
   "cell_type": "code",
   "execution_count": null,
   "id": "d4577bc1",
   "metadata": {},
   "outputs": [],
   "source": [
    "noise.mean()"
   ]
  },
  {
   "cell_type": "code",
   "execution_count": null,
   "id": "cd266252",
   "metadata": {},
   "outputs": [],
   "source": [
    "noise.var()"
   ]
  },
  {
   "cell_type": "code",
   "execution_count": null,
   "id": "4c6544ee",
   "metadata": {},
   "outputs": [],
   "source": [
    "# x= torch.rand(1, 2, 32, 32)"
   ]
  },
  {
   "cell_type": "code",
   "execution_count": null,
   "id": "bd40d258",
   "metadata": {},
   "outputs": [],
   "source": [
    "noise_fn = lambda x, t: torch.randn_like(x)"
   ]
  },
  {
   "cell_type": "code",
   "execution_count": null,
   "id": "6077586b",
   "metadata": {},
   "outputs": [],
   "source": [
    "g_noise =  noise_fn(x, t)"
   ]
  },
  {
   "cell_type": "code",
   "execution_count": null,
   "id": "dfb7bbd3",
   "metadata": {},
   "outputs": [],
   "source": [
    "g_noise.shape"
   ]
  },
  {
   "cell_type": "code",
   "execution_count": null,
   "id": "e0d9ed46",
   "metadata": {},
   "outputs": [],
   "source": [
    "# Generate random noise\n",
    "g_noise = g_noise.flatten().numpy()\n",
    "# Plot the histogram\n",
    "plt.hist(g_noise, bins=50)  # Adjust the number of bins as needed\n",
    "plt.xlabel('Value')\n",
    "plt.ylabel('Frequency')\n",
    "plt.title('Histogram of Noise')\n",
    "plt.show()"
   ]
  },
  {
   "cell_type": "code",
   "execution_count": null,
   "id": "b025c795",
   "metadata": {},
   "outputs": [],
   "source": [
    "g_noise.mean()"
   ]
  },
  {
   "cell_type": "code",
   "execution_count": null,
   "id": "6347007f",
   "metadata": {},
   "outputs": [],
   "source": [
    "g_noise.var()"
   ]
  },
  {
   "cell_type": "code",
   "execution_count": null,
   "id": "91683d5e",
   "metadata": {},
   "outputs": [],
   "source": [
    "import numpy as np\n",
    "from scipy.stats import ks_2samp\n",
    "\n",
    "# Generate two example distributions\n",
    "dist1 = noise\n",
    "dist2 = g_noise\n",
    "\n",
    "# Perform the Kolmogorov-Smirnov test\n",
    "statistic, p_value = ks_2samp(dist1, dist2)\n",
    "\n",
    "print(\"Kolmogorov-Smirnov statistic:\", statistic)\n",
    "print(\"p-value:\", p_value)"
   ]
  },
  {
   "cell_type": "code",
   "execution_count": null,
   "id": "ac8c9490",
   "metadata": {},
   "outputs": [],
   "source": [
    "from opensimplex import OpenSimplex\n",
    "\n",
    "def generate_simplex_noise_3d(width = 64, height = 64, depth = 64, T = 10, scale = 0.1, octaves = 6, persistence = 0.8, lacunarity = 2):\n",
    "    simplex = OpenSimplex(seed=100)\n",
    "\n",
    "    noise = [[[[0 for _ in range(depth)] for _ in range(height)] for _ in range(width)] for _ in range(T)]\n",
    "    print(len(noise))\n",
    "    for t in range(T):\n",
    "        for z in range(depth):\n",
    "            for y in range(height):\n",
    "                for x in range(width):\n",
    "                    amplitude = 1\n",
    "                    frequency = 1\n",
    "                    value = 0\n",
    "\n",
    "                    for _ in range(octaves):\n",
    "                        nx = x / scale * frequency\n",
    "                        ny = y / scale * frequency\n",
    "                        nz = z / scale * frequency\n",
    "                        nw = T / scale * frequency # Fourth dimension for 4D noise\n",
    "\n",
    "                        value += simplex.noise4array(nx, ny, nz, nw) * amplitude\n",
    "\n",
    "                        amplitude *= persistence\n",
    "                        frequency *= lacunarity\n",
    "\n",
    "                    noise[t][x][y][z] = value\n",
    "    return noise"
   ]
  },
  {
   "cell_type": "code",
   "execution_count": null,
   "id": "0e7991f6",
   "metadata": {},
   "outputs": [],
   "source": [
    "simplex = OpenSimplex(seed=100)"
   ]
  },
  {
   "cell_type": "code",
   "execution_count": null,
   "id": "84e8cff4",
   "metadata": {},
   "outputs": [],
   "source": [
    "ix"
   ]
  },
  {
   "cell_type": "code",
   "execution_count": null,
   "id": "37a41703",
   "metadata": {},
   "outputs": [],
   "source": [
    "# rng = np.random.default_rng(seed=1)\n",
    "# ix, iy, iz, iw = rng.random(2), rng.random(2), rng.random(2), rng.random(2)\n",
    "# out = simplex.noise4array(ix, iy, iz, iw)\n",
    "# # array([[[[0.30334626, 0.29860705],\n",
    "# #          [0.28271858, 0.27805178]],\n",
    "# #         [[0.26601215, 0.25305428],\n",
    "# #          [0.23387872, 0.22151356]]],\n",
    "# #        [[[0.3392759 , 0.33585534],\n",
    "# #          [0.3343468 , 0.33118285]],\n",
    "# #         [[0.36930335, 0.36046537],\n",
    "# #          [0.36360679, 0.35500328]]]])"
   ]
  },
  {
   "cell_type": "code",
   "execution_count": null,
   "id": "19c8c26d",
   "metadata": {},
   "outputs": [],
   "source": [
    "out"
   ]
  },
  {
   "cell_type": "code",
   "execution_count": null,
   "id": "b0a55aba",
   "metadata": {},
   "outputs": [],
   "source": [
    "def rand_4d_fixed_T_octaves(self, shape, T, octaves=1, persistence=0.5, frequency=32):\n",
    "    \"\"\"\n",
    "    Returns a layered fractal noise in 3D\n",
    "\n",
    "    :param shape: Shape of 3D tensor output\n",
    "    :param octaves: Number of levels of fractal noise\n",
    "    :param persistence: float between (0-1) -> Rate at which amplitude of each level decreases\n",
    "    :param frequency: Frequency of initial octave of noise\n",
    "    :return: Fractal noise sample with n lots of 2D images\n",
    "    \"\"\"\n",
    "    assert len(shape) == 3\n",
    "    noise = np.zeros((1, *shape))\n",
    "    z, y, x = [np.arange(0, end) for end in shape]\n",
    "    amplitude = 1\n",
    "    for _ in range(octaves):\n",
    "        noise += amplitude * self.noise4array(x / scale * frequency, y / scale * frequency, z / scale * frequency, T / scale * frequency)\n",
    "        frequency /= 2\n",
    "        amplitude *= persistence\n",
    "    return noise    "
   ]
  },
  {
   "cell_type": "code",
   "execution_count": null,
   "id": "bcb1877b",
   "metadata": {},
   "outputs": [],
   "source": [
    "shape = (64, 64, 64)"
   ]
  },
  {
   "cell_type": "code",
   "execution_count": null,
   "id": "b823e42e",
   "metadata": {},
   "outputs": [],
   "source": [
    "z, y, x = [np.arange(0, end) for end in shape]"
   ]
  },
  {
   "cell_type": "code",
   "execution_count": null,
   "id": "4437f2c6",
   "metadata": {},
   "outputs": [],
   "source": []
  },
  {
   "cell_type": "code",
   "execution_count": null,
   "id": "9b6d7ad5",
   "metadata": {},
   "outputs": [],
   "source": [
    "noise = generate_simplex_noise_3d(width = 32, height = 32, depth = 1, T = 1)"
   ]
  },
  {
   "cell_type": "code",
   "execution_count": null,
   "id": "80d8657f",
   "metadata": {},
   "outputs": [],
   "source": [
    "noise = torch.tensor(noise)"
   ]
  },
  {
   "cell_type": "code",
   "execution_count": null,
   "id": "a5032657",
   "metadata": {},
   "outputs": [],
   "source": [
    "plot_tensor(noise.squeeze(-1))"
   ]
  },
  {
   "cell_type": "code",
   "execution_count": null,
   "id": "a4bcec1d",
   "metadata": {},
   "outputs": [],
   "source": [
    "noise.shape"
   ]
  },
  {
   "cell_type": "code",
   "execution_count": null,
   "id": "6be5491c",
   "metadata": {},
   "outputs": [],
   "source": [
    "octaves_list = [i for i in ]"
   ]
  },
  {
   "cell_type": "code",
   "execution_count": null,
   "id": "aa4d82da",
   "metadata": {},
   "outputs": [],
   "source": [
    "noise = noise.flatten().numpy()"
   ]
  },
  {
   "cell_type": "code",
   "execution_count": null,
   "id": "fe95b911",
   "metadata": {},
   "outputs": [],
   "source": [
    "plt.hist(noise, bins=50)  # Adjust the number of bins as needed\n",
    "plt.xlabel('Value')\n",
    "plt.ylabel('Frequency')\n",
    "plt.title('Histogram of Noise')\n",
    "plt.show()"
   ]
  },
  {
   "cell_type": "code",
   "execution_count": null,
   "id": "4b05c8ec",
   "metadata": {},
   "outputs": [],
   "source": [
    "x= np.random.randn(10)"
   ]
  },
  {
   "cell_type": "code",
   "execution_count": null,
   "id": "92a12ff7",
   "metadata": {},
   "outputs": [],
   "source": [
    "x"
   ]
  },
  {
   "cell_type": "code",
   "execution_count": null,
   "id": "d4414588",
   "metadata": {},
   "outputs": [],
   "source": [
    "scale = 0.1\n",
    "frequency = 32"
   ]
  },
  {
   "cell_type": "code",
   "execution_count": null,
   "id": "40f67790",
   "metadata": {},
   "outputs": [],
   "source": [
    "x / scale * frequency"
   ]
  },
  {
   "cell_type": "code",
   "execution_count": null,
   "id": "97c87234",
   "metadata": {},
   "outputs": [],
   "source": [
    "x / frequency"
   ]
  },
  {
   "cell_type": "code",
   "execution_count": null,
   "id": "d9203060",
   "metadata": {},
   "outputs": [],
   "source": [
    "torch.sq"
   ]
  }
 ],
 "metadata": {
  "kernelspec": {
   "display_name": "Python 3 (ipykernel)",
   "language": "python",
   "name": "python3"
  },
  "language_info": {
   "codemirror_mode": {
    "name": "ipython",
    "version": 3
   },
   "file_extension": ".py",
   "mimetype": "text/x-python",
   "name": "python",
   "nbconvert_exporter": "python",
   "pygments_lexer": "ipython3",
   "version": "3.9.17"
  }
 },
 "nbformat": 4,
 "nbformat_minor": 5
}
