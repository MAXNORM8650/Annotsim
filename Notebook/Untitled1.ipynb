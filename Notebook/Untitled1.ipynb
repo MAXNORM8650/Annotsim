{
 "cells": [
  {
   "cell_type": "code",
   "execution_count": 38,
   "id": "294421dc",
   "metadata": {},
   "outputs": [],
   "source": [
    "import collections\n",
    "import copy\n",
    "import sys\n",
    "import time\n",
    "from random import seed\n",
    "\n",
    "import matplotlib.pyplot as plt\n",
    "import numpy as np\n",
    "from matplotlib import animation\n",
    "from torch import optim\n",
    "\n",
    "import dataset\n",
    "import evaluation\n",
    "from GaussianDiffusion import GaussianDiffusionModel, get_beta_schedule\n",
    "from helpers import *\n",
    "from UNet import UNetModel, update_ema_params\n",
    "\n",
    "torch.cuda.empty_cache()\n",
    "\n",
    "ROOT_DIR = \"./\""
   ]
  },
  {
   "cell_type": "code",
   "execution_count": 39,
   "id": "baac531b",
   "metadata": {},
   "outputs": [],
   "source": [
    "import torch\n",
    "import torchvision\n",
    "from torch.utils.tensorboard import SummaryWriter\n",
    "from torchvision import datasets, transforms"
   ]
  },
  {
   "cell_type": "code",
   "execution_count": 47,
   "id": "ebfdf8f6",
   "metadata": {},
   "outputs": [],
   "source": [
    "import json\n",
    "import os\n",
    "from collections import defaultdict\n",
    "\n",
    "import torch\n",
    "import torchvision.utils\n",
    "\n",
    "\n",
    "def gridify_output(img, row_size=-1):\n",
    "    scale_img = lambda img: ((img + 1) * 127.5).clamp(0, 255).to(torch.uint8)\n",
    "    return torchvision.utils.make_grid(scale_img(img), nrow=row_size, pad_value=-1).cpu().data.permute(\n",
    "            0, 2,\n",
    "            1\n",
    "            ).contiguous().permute(\n",
    "            2, 1, 0\n",
    "            )\n",
    "\n",
    "\n",
    "def defaultdict_from_json(jsonDict):\n",
    "    func = lambda: defaultdict(str)\n",
    "    dd = func()\n",
    "    dd.update(jsonDict)\n",
    "    return dd\n",
    "\n",
    "\n",
    "def load_checkpoint(param, use_checkpoint, device):\n",
    "    \"\"\"\n",
    "    loads the most recent (non-corrupted) checkpoint or the final model\n",
    "    :param param: args number\n",
    "    :param use_checkpoint: checkpointed or final model\n",
    "    :return:\n",
    "    \"\"\"\n",
    "    if not use_checkpoint:\n",
    "        return torch.load(f'./model/diff-params-ARGS={param}/params-final.pt', map_location=device)\n",
    "    else:\n",
    "        checkpoints = os.listdir(f'./model/diff-params-ARGS={param}/checkpoint')\n",
    "        checkpoints.sort(reverse=True)\n",
    "        for i in checkpoints:\n",
    "            try:\n",
    "                file_dir = f\"./model/diff-params-ARGS={param}/checkpoint/{i}\"\n",
    "                loaded_model = torch.load(file_dir, map_location=device)\n",
    "                break\n",
    "            except RuntimeError:\n",
    "                continue\n",
    "        return loaded_model\n",
    "\n",
    "\n",
    "def load_parameters(device, argN, use_checkpoint):\n",
    "    \"\"\"\n",
    "    Loads the trained parameters for the detection model\n",
    "    :return:\n",
    "    \"\"\"\n",
    "    import sys\n",
    "    params = os.listdir(\"./model\")\n",
    "    if \".DS_Store\" in params:\n",
    "        params.remove(\".DS_Store\")\n",
    "    output = load_checkpoint(argN, use_checkpoint, device)\n",
    "        \n",
    "    if \"args\" in output:\n",
    "        args = output[\"args\"]\n",
    "    else:\n",
    "        try:\n",
    "            with open(f'./test_args/args{argN}.json', 'r') as f:\n",
    "                args = json.load(f)\n",
    "            args['arg_num'] = argN\n",
    "            args = defaultdict_from_json(args)\n",
    "        except FileNotFoundError:\n",
    "            raise ValueError(f\"args{argN} doesn't exist\")\n",
    "\n",
    "    if \"noise_fn\" not in args:\n",
    "        args[\"noise_fn\"] = \"gauss\"\n",
    "\n",
    "    return args, output\n",
    "\n",
    "\n",
    "def main():\n",
    "    pass\n",
    "\n",
    "\n",
    "if __name__ == '__main__':\n",
    "    main()\n"
   ]
  },
  {
   "cell_type": "code",
   "execution_count": 53,
   "id": "09f952f2",
   "metadata": {},
   "outputs": [],
   "source": [
    "file_dir = r\"C:\\Users\\Admin\\Dropbox\\PC\\Documents\\Anomaly Detection\\AnoDDPM\\model\\diff-params-ARGS=35\\checkpoint\\diff_epoch=1000.pt\"\n",
    "loaded_model = torch.load(file_dir, map_location=device)"
   ]
  },
  {
   "cell_type": "code",
   "execution_count": 48,
   "id": "a84a6f06",
   "metadata": {},
   "outputs": [],
   "source": [
    "params = os.listdir(\"./model\")"
   ]
  },
  {
   "cell_type": "code",
   "execution_count": 49,
   "id": "528dec13",
   "metadata": {},
   "outputs": [],
   "source": [
    "param = params[-1]"
   ]
  },
  {
   "cell_type": "code",
   "execution_count": null,
   "id": "c59f9199",
   "metadata": {},
   "outputs": [],
   "source": []
  },
  {
   "cell_type": "code",
   "execution_count": 54,
   "id": "7587e63c",
   "metadata": {},
   "outputs": [],
   "source": [
    "# device = torch.device(\"cuda\" if torch.cuda.is_available() else \"cpu\")\n",
    "# args, output = load_parameters(device, 35, True)"
   ]
  },
  {
   "cell_type": "code",
   "execution_count": null,
   "id": "664d6024",
   "metadata": {},
   "outputs": [],
   "source": []
  },
  {
   "cell_type": "code",
   "execution_count": 5,
   "id": "786b17d3",
   "metadata": {},
   "outputs": [],
   "source": [
    "# import UNet"
   ]
  },
  {
   "cell_type": "code",
   "execution_count": 6,
   "id": "6013b736",
   "metadata": {},
   "outputs": [],
   "source": [
    "# if __name__ == \"__main__\":\n",
    "#     args = {\n",
    "#         'img_size':          256,\n",
    "#         'base_channels':     64,\n",
    "#         'dropout':           0.3,\n",
    "#         'num_heads':         4,\n",
    "#         'num_head_channels': '32,16,8',\n",
    "#         'lr':                1e-4,\n",
    "#         'Batch_Size':        64\n",
    "#         }\n",
    "#     model = UNetModel(\n",
    "#             args['img_size'], args['base_channels'], dropout=args[\n",
    "#                 \"dropout\"], n_heads=args[\"num_heads\"], attention_resolutions=args[\"num_head_channels\"],\n",
    "#             in_channels=4\n",
    "#             )\n",
    "\n",
    "#     x = torch.randn(1, 4, 512, 512)\n",
    "#     t_batch = torch.tensor([1], device=x.device).repeat(x.shape[0])\n",
    "#     print(model(x, t_batch))"
   ]
  },
  {
   "cell_type": "code",
   "execution_count": 7,
   "id": "b1ff65e1",
   "metadata": {},
   "outputs": [],
   "source": [
    "# t_batch"
   ]
  },
  {
   "cell_type": "code",
   "execution_count": 8,
   "id": "189c4479",
   "metadata": {},
   "outputs": [],
   "source": [
    "from torchviz import make_dot"
   ]
  },
  {
   "cell_type": "code",
   "execution_count": 9,
   "id": "95bbf020",
   "metadata": {},
   "outputs": [],
   "source": [
    "# model = UNetModel(\n",
    "#         args['img_size'], args['base_channels'], dropout=args[\n",
    "#             \"dropout\"], n_heads=args[\"num_heads\"], attention_resolutions=args[\"num_head_channels\"],\n",
    "#         in_channels=3\n",
    "#         )\n",
    "\n",
    "# x = torch.randn(10, 3, 512, 512)\n",
    "# t_batch = torch.tensor([1], device=x.device).repeat(x.shape[0])\n",
    "# y_hat = model(x, t_batch)"
   ]
  },
  {
   "cell_type": "code",
   "execution_count": 10,
   "id": "11126438",
   "metadata": {
    "scrolled": true
   },
   "outputs": [],
   "source": [
    "# model"
   ]
  },
  {
   "cell_type": "code",
   "execution_count": 11,
   "id": "d0b2b954",
   "metadata": {},
   "outputs": [],
   "source": [
    "import os\n",
    "from random import randint\n",
    "\n",
    "import cv2\n",
    "import nibabel\n",
    "import numpy as np\n",
    "import torch\n",
    "from matplotlib import animation\n",
    "from torch.utils.data import Dataset\n",
    "from torchvision import datasets, transforms\n",
    "import imageio.v2 as imageio\n",
    "import os\n",
    "from PIL import Image\n",
    "from torchvision import transforms\n",
    "import pandas as pd\n",
    "import random\n",
    "from scipy import ndimage\n",
    "import matplotlib.pyplot as plt"
   ]
  },
  {
   "cell_type": "code",
   "execution_count": 12,
   "id": "55d52372",
   "metadata": {},
   "outputs": [],
   "source": [
    "# import mat73\n",
    "# # data_dict = mat73.loadmat('data.mat')\n",
    "\n",
    "# file_path = r\"C:\\Users\\Admin\\Dropbox\\PC\\Documents\\Anomaly Detection\\AnoDDPM\\DATASETS\\brainTumorDataPublic_1-766\\2.mat\"\n",
    "# mat = mat73.loadmat(file_path)\n",
    "# # data = mat['data']\n",
    "# # print(type(data))\n",
    "# # print(data)"
   ]
  },
  {
   "cell_type": "code",
   "execution_count": 13,
   "id": "d3fb7835",
   "metadata": {},
   "outputs": [],
   "source": [
    "# directory = os.path.expanduser(r\"C:\\Users\\Admin\\Dropbox\\PC\\Documents\\Anomaly Detection\\AnoDDPM\\DATASETS\\brainTumorDataPublic_1-766\")"
   ]
  },
  {
   "cell_type": "code",
   "execution_count": 14,
   "id": "ee690fbb",
   "metadata": {},
   "outputs": [],
   "source": [
    "# database = os.listdir(directory)"
   ]
  },
  {
   "cell_type": "code",
   "execution_count": 15,
   "id": "3f189b54",
   "metadata": {},
   "outputs": [],
   "source": [
    "# di_r = r\"C:\\Users\\Admin\\Dropbox\\PC\\Documents\\Anomaly Detection\\AnoDDPM\\DATASETS\\brainTumorDataPublic_1-766\"\n",
    "# ano_dataset = dataset.MatTDataset(di_r)"
   ]
  },
  {
   "cell_type": "code",
   "execution_count": 16,
   "id": "5abf78f4",
   "metadata": {},
   "outputs": [],
   "source": [
    "# for i in  ano_dataset:\n",
    "#     print(i[\"image\"].shape)"
   ]
  },
  {
   "cell_type": "code",
   "execution_count": 20,
   "id": "89dee346",
   "metadata": {},
   "outputs": [],
   "source": []
  },
  {
   "cell_type": "code",
   "execution_count": 21,
   "id": "36fe0267",
   "metadata": {},
   "outputs": [
    {
     "data": {
      "text/plain": [
       "device(type='cuda')"
      ]
     },
     "execution_count": 21,
     "metadata": {},
     "output_type": "execute_result"
    }
   ],
   "source": [
    "device"
   ]
  },
  {
   "cell_type": "code",
   "execution_count": 22,
   "id": "6cc32bc2",
   "metadata": {},
   "outputs": [
    {
     "name": "stdout",
     "output_type": "stream",
     "text": [
      "['.ipynb_checkpoints', 'diff-params-ARGS=', 'diff-params-ARGS=10', 'diff-params-ARGS=12', 'diff-params-ARGS=14', 'diff-params-ARGS=26', 'diff-params-ARGS=27', 'diff-params-ARGS=28', 'diff-params-ARGS=30', 'diff-params-ARGS=31', 'diff-params-ARGS=32', 'diff-params-ARGS=33', 'diff-params-ARGS=34', 'diff-params-ARGS=35']\n"
     ]
    },
    {
     "ename": "KeyError",
     "evalue": "\"filename 'storages' not found\"",
     "output_type": "error",
     "traceback": [
      "\u001b[1;31m---------------------------------------------------------------------------\u001b[0m",
      "\u001b[1;31mKeyError\u001b[0m                                  Traceback (most recent call last)",
      "Cell \u001b[1;32mIn[22], line 1\u001b[0m\n\u001b[1;32m----> 1\u001b[0m args, output \u001b[38;5;241m=\u001b[39m \u001b[43mload_parameters\u001b[49m\u001b[43m(\u001b[49m\u001b[43mdevice\u001b[49m\u001b[43m)\u001b[49m\n",
      "Cell \u001b[1;32mIn[3], line 73\u001b[0m, in \u001b[0;36mload_parameters\u001b[1;34m(device)\u001b[0m\n\u001b[0;32m     71\u001b[0m     output \u001b[38;5;241m=\u001b[39m load_checkpoint(param[\u001b[38;5;241m4\u001b[39m:], use_checkpoint, device)\n\u001b[0;32m     72\u001b[0m \u001b[38;5;28;01melse\u001b[39;00m:\n\u001b[1;32m---> 73\u001b[0m     output \u001b[38;5;241m=\u001b[39m \u001b[43mload_checkpoint\u001b[49m\u001b[43m(\u001b[49m\u001b[43mparam\u001b[49m\u001b[43m[\u001b[49m\u001b[38;5;241;43m-\u001b[39;49m\u001b[38;5;241;43m2\u001b[39;49m\u001b[43m:\u001b[49m\u001b[43m]\u001b[49m\u001b[43m,\u001b[49m\u001b[43m \u001b[49m\u001b[43muse_checkpoint\u001b[49m\u001b[43m,\u001b[49m\u001b[43m \u001b[49m\u001b[43mdevice\u001b[49m\u001b[43m)\u001b[49m\n\u001b[0;32m     75\u001b[0m \u001b[38;5;28;01mif\u001b[39;00m \u001b[38;5;124m\"\u001b[39m\u001b[38;5;124margs\u001b[39m\u001b[38;5;124m\"\u001b[39m \u001b[38;5;129;01min\u001b[39;00m output:\n\u001b[0;32m     76\u001b[0m     args \u001b[38;5;241m=\u001b[39m output[\u001b[38;5;124m\"\u001b[39m\u001b[38;5;124margs\u001b[39m\u001b[38;5;124m\"\u001b[39m]\n",
      "Cell \u001b[1;32mIn[3], line 41\u001b[0m, in \u001b[0;36mload_checkpoint\u001b[1;34m(param, use_checkpoint, device)\u001b[0m\n\u001b[0;32m     39\u001b[0m \u001b[38;5;28;01mtry\u001b[39;00m:\n\u001b[0;32m     40\u001b[0m     file_dir \u001b[38;5;241m=\u001b[39m \u001b[38;5;124mf\u001b[39m\u001b[38;5;124m\"\u001b[39m\u001b[38;5;124m./model/diff-params-ARGS=\u001b[39m\u001b[38;5;132;01m{\u001b[39;00mparam\u001b[38;5;132;01m}\u001b[39;00m\u001b[38;5;124m/checkpoint/\u001b[39m\u001b[38;5;132;01m{\u001b[39;00mi\u001b[38;5;132;01m}\u001b[39;00m\u001b[38;5;124m\"\u001b[39m\n\u001b[1;32m---> 41\u001b[0m     loaded_model \u001b[38;5;241m=\u001b[39m \u001b[43mtorch\u001b[49m\u001b[38;5;241;43m.\u001b[39;49m\u001b[43mload\u001b[49m\u001b[43m(\u001b[49m\u001b[43mfile_dir\u001b[49m\u001b[43m,\u001b[49m\u001b[43m \u001b[49m\u001b[43mmap_location\u001b[49m\u001b[38;5;241;43m=\u001b[39;49m\u001b[43mdevice\u001b[49m\u001b[43m)\u001b[49m\n\u001b[0;32m     42\u001b[0m     \u001b[38;5;28;01mbreak\u001b[39;00m\n\u001b[0;32m     43\u001b[0m \u001b[38;5;28;01mexcept\u001b[39;00m \u001b[38;5;167;01mRuntimeError\u001b[39;00m:\n",
      "File \u001b[1;32m~\\anaconda3\\envs\\en_2\\lib\\site-packages\\torch\\serialization.py:810\u001b[0m, in \u001b[0;36mload\u001b[1;34m(f, map_location, pickle_module, weights_only, **pickle_load_args)\u001b[0m\n\u001b[0;32m    808\u001b[0m     \u001b[38;5;28;01mexcept\u001b[39;00m \u001b[38;5;167;01mRuntimeError\u001b[39;00m \u001b[38;5;28;01mas\u001b[39;00m e:\n\u001b[0;32m    809\u001b[0m         \u001b[38;5;28;01mraise\u001b[39;00m pickle\u001b[38;5;241m.\u001b[39mUnpicklingError(UNSAFE_MESSAGE \u001b[38;5;241m+\u001b[39m \u001b[38;5;28mstr\u001b[39m(e)) \u001b[38;5;28;01mfrom\u001b[39;00m \u001b[38;5;28mNone\u001b[39m\n\u001b[1;32m--> 810\u001b[0m \u001b[38;5;28;01mreturn\u001b[39;00m _legacy_load(opened_file, map_location, pickle_module, \u001b[38;5;241m*\u001b[39m\u001b[38;5;241m*\u001b[39mpickle_load_args)\n",
      "File \u001b[1;32m~\\anaconda3\\envs\\en_2\\lib\\site-packages\\torch\\serialization.py:1006\u001b[0m, in \u001b[0;36m_legacy_load\u001b[1;34m(f, map_location, pickle_module, **pickle_load_args)\u001b[0m\n\u001b[0;32m   1002\u001b[0m \u001b[38;5;28;01mif\u001b[39;00m f_should_read_directly \u001b[38;5;129;01mand\u001b[39;00m f\u001b[38;5;241m.\u001b[39mtell() \u001b[38;5;241m==\u001b[39m \u001b[38;5;241m0\u001b[39m:\n\u001b[0;32m   1003\u001b[0m     \u001b[38;5;66;03m# legacy_load requires that f has fileno()\u001b[39;00m\n\u001b[0;32m   1004\u001b[0m     \u001b[38;5;66;03m# only if offset is zero we can attempt the legacy tar file loader\u001b[39;00m\n\u001b[0;32m   1005\u001b[0m     \u001b[38;5;28;01mtry\u001b[39;00m:\n\u001b[1;32m-> 1006\u001b[0m         \u001b[38;5;28;01mreturn\u001b[39;00m \u001b[43mlegacy_load\u001b[49m\u001b[43m(\u001b[49m\u001b[43mf\u001b[49m\u001b[43m)\u001b[49m\n\u001b[0;32m   1007\u001b[0m     \u001b[38;5;28;01mexcept\u001b[39;00m tarfile\u001b[38;5;241m.\u001b[39mTarError:\n\u001b[0;32m   1008\u001b[0m         \u001b[38;5;28;01mif\u001b[39;00m _is_zipfile(f):\n\u001b[0;32m   1009\u001b[0m             \u001b[38;5;66;03m# .zip is used for torch.jit.save and will throw an un-pickling error here\u001b[39;00m\n",
      "File \u001b[1;32m~\\anaconda3\\envs\\en_2\\lib\\site-packages\\torch\\serialization.py:899\u001b[0m, in \u001b[0;36m_legacy_load.<locals>.legacy_load\u001b[1;34m(f)\u001b[0m\n\u001b[0;32m    894\u001b[0m     \u001b[38;5;28;01mreturn\u001b[39;00m deserialized_objects[\u001b[38;5;28mint\u001b[39m(saved_id)]\n\u001b[0;32m    896\u001b[0m \u001b[38;5;28;01mwith\u001b[39;00m closing(tarfile\u001b[38;5;241m.\u001b[39mopen(fileobj\u001b[38;5;241m=\u001b[39mf, mode\u001b[38;5;241m=\u001b[39m\u001b[38;5;124m'\u001b[39m\u001b[38;5;124mr:\u001b[39m\u001b[38;5;124m'\u001b[39m, \u001b[38;5;28mformat\u001b[39m\u001b[38;5;241m=\u001b[39mtarfile\u001b[38;5;241m.\u001b[39mPAX_FORMAT)) \u001b[38;5;28;01mas\u001b[39;00m tar, \\\n\u001b[0;32m    897\u001b[0m         mkdtemp() \u001b[38;5;28;01mas\u001b[39;00m tmpdir:\n\u001b[1;32m--> 899\u001b[0m     \u001b[43mtar\u001b[49m\u001b[38;5;241;43m.\u001b[39;49m\u001b[43mextract\u001b[49m\u001b[43m(\u001b[49m\u001b[38;5;124;43m'\u001b[39;49m\u001b[38;5;124;43mstorages\u001b[39;49m\u001b[38;5;124;43m'\u001b[39;49m\u001b[43m,\u001b[49m\u001b[43m \u001b[49m\u001b[43mpath\u001b[49m\u001b[38;5;241;43m=\u001b[39;49m\u001b[43mtmpdir\u001b[49m\u001b[43m)\u001b[49m\n\u001b[0;32m    900\u001b[0m     \u001b[38;5;28;01mwith\u001b[39;00m \u001b[38;5;28mopen\u001b[39m(os\u001b[38;5;241m.\u001b[39mpath\u001b[38;5;241m.\u001b[39mjoin(tmpdir, \u001b[38;5;124m'\u001b[39m\u001b[38;5;124mstorages\u001b[39m\u001b[38;5;124m'\u001b[39m), \u001b[38;5;124m'\u001b[39m\u001b[38;5;124mrb\u001b[39m\u001b[38;5;124m'\u001b[39m, \u001b[38;5;241m0\u001b[39m) \u001b[38;5;28;01mas\u001b[39;00m f:\n\u001b[0;32m    901\u001b[0m         num_storages \u001b[38;5;241m=\u001b[39m pickle_module\u001b[38;5;241m.\u001b[39mload(f, \u001b[38;5;241m*\u001b[39m\u001b[38;5;241m*\u001b[39mpickle_load_args)\n",
      "File \u001b[1;32m~\\anaconda3\\envs\\en_2\\lib\\tarfile.py:2077\u001b[0m, in \u001b[0;36mTarFile.extract\u001b[1;34m(self, member, path, set_attrs, numeric_owner)\u001b[0m\n\u001b[0;32m   2074\u001b[0m \u001b[38;5;28mself\u001b[39m\u001b[38;5;241m.\u001b[39m_check(\u001b[38;5;124m\"\u001b[39m\u001b[38;5;124mr\u001b[39m\u001b[38;5;124m\"\u001b[39m)\n\u001b[0;32m   2076\u001b[0m \u001b[38;5;28;01mif\u001b[39;00m \u001b[38;5;28misinstance\u001b[39m(member, \u001b[38;5;28mstr\u001b[39m):\n\u001b[1;32m-> 2077\u001b[0m     tarinfo \u001b[38;5;241m=\u001b[39m \u001b[38;5;28;43mself\u001b[39;49m\u001b[38;5;241;43m.\u001b[39;49m\u001b[43mgetmember\u001b[49m\u001b[43m(\u001b[49m\u001b[43mmember\u001b[49m\u001b[43m)\u001b[49m\n\u001b[0;32m   2078\u001b[0m \u001b[38;5;28;01melse\u001b[39;00m:\n\u001b[0;32m   2079\u001b[0m     tarinfo \u001b[38;5;241m=\u001b[39m member\n",
      "File \u001b[1;32m~\\anaconda3\\envs\\en_2\\lib\\tarfile.py:1799\u001b[0m, in \u001b[0;36mTarFile.getmember\u001b[1;34m(self, name)\u001b[0m\n\u001b[0;32m   1797\u001b[0m tarinfo \u001b[38;5;241m=\u001b[39m \u001b[38;5;28mself\u001b[39m\u001b[38;5;241m.\u001b[39m_getmember(name\u001b[38;5;241m.\u001b[39mrstrip(\u001b[38;5;124m'\u001b[39m\u001b[38;5;124m/\u001b[39m\u001b[38;5;124m'\u001b[39m))\n\u001b[0;32m   1798\u001b[0m \u001b[38;5;28;01mif\u001b[39;00m tarinfo \u001b[38;5;129;01mis\u001b[39;00m \u001b[38;5;28;01mNone\u001b[39;00m:\n\u001b[1;32m-> 1799\u001b[0m     \u001b[38;5;28;01mraise\u001b[39;00m \u001b[38;5;167;01mKeyError\u001b[39;00m(\u001b[38;5;124m\"\u001b[39m\u001b[38;5;124mfilename \u001b[39m\u001b[38;5;132;01m%r\u001b[39;00m\u001b[38;5;124m not found\u001b[39m\u001b[38;5;124m\"\u001b[39m \u001b[38;5;241m%\u001b[39m name)\n\u001b[0;32m   1800\u001b[0m \u001b[38;5;28;01mreturn\u001b[39;00m tarinfo\n",
      "\u001b[1;31mKeyError\u001b[0m: \"filename 'storages' not found\""
     ]
    }
   ],
   "source": []
  },
  {
   "cell_type": "code",
   "execution_count": 22,
   "id": "c5bacebb",
   "metadata": {},
   "outputs": [
    {
     "data": {
      "text/plain": [
       "defaultdict(str,\n",
       "            {'img_size': [256, 256],\n",
       "             'Batch_Size': 1,\n",
       "             'EPOCHS': 4000,\n",
       "             'T': 1000,\n",
       "             'base_channels': 128,\n",
       "             'channels': 1,\n",
       "             'beta_schedule': 'cosine',\n",
       "             'channel_mults': '',\n",
       "             'loss-type': 'l2',\n",
       "             'loss_weight': 'none',\n",
       "             'train_start': True,\n",
       "             'lr': 0.0001,\n",
       "             'random_slice': False,\n",
       "             'sample_distance': 800,\n",
       "             'weight_decay': 0.0,\n",
       "             'save_imgs': True,\n",
       "             'save_vids': True,\n",
       "             'dropout': 0,\n",
       "             'attention_resolutions': '16,8',\n",
       "             'num_heads': 2,\n",
       "             'num_head_channels': -1,\n",
       "             'noise_fn': 'simplex',\n",
       "             'dataset': 'mri',\n",
       "             'arg_num': '34'})"
      ]
     },
     "execution_count": 22,
     "metadata": {},
     "output_type": "execute_result"
    }
   ],
   "source": [
    "args"
   ]
  },
  {
   "cell_type": "code",
   "execution_count": 15,
   "id": "aec7de79",
   "metadata": {},
   "outputs": [
    {
     "ename": "IndexError",
     "evalue": "list index out of range",
     "output_type": "error",
     "traceback": [
      "\u001b[1;31m---------------------------------------------------------------------------\u001b[0m",
      "\u001b[1;31mIndexError\u001b[0m                                Traceback (most recent call last)",
      "Cell \u001b[1;32mIn[15], line 9\u001b[0m\n\u001b[0;32m      7\u001b[0m \u001b[38;5;66;03m# extract all files as channels\u001b[39;00m\n\u001b[0;32m      8\u001b[0m \u001b[38;5;28;01mfor\u001b[39;00m f \u001b[38;5;129;01min\u001b[39;00m files:\n\u001b[1;32m----> 9\u001b[0m     seqtype \u001b[38;5;241m=\u001b[39m \u001b[43mf\u001b[49m\u001b[38;5;241;43m.\u001b[39;49m\u001b[43msplit\u001b[49m\u001b[43m(\u001b[49m\u001b[38;5;124;43m'\u001b[39;49m\u001b[38;5;124;43m_\u001b[39;49m\u001b[38;5;124;43m'\u001b[39;49m\u001b[43m)\u001b[49m\u001b[43m[\u001b[49m\u001b[38;5;241;43m3\u001b[39;49m\u001b[43m]\u001b[49m\n\u001b[0;32m     10\u001b[0m     datapoint[seqtype] \u001b[38;5;241m=\u001b[39m os\u001b[38;5;241m.\u001b[39mpath\u001b[38;5;241m.\u001b[39mjoin(root, f)\n\u001b[0;32m     11\u001b[0m database\u001b[38;5;241m.\u001b[39mappend(datapoint)\n",
      "\u001b[1;31mIndexError\u001b[0m: list index out of range"
     ]
    }
   ],
   "source": [
    "database = []\n",
    "for root, dirs, files in os.walk(directory):\n",
    "    # if there are no subdirs, we have data\n",
    "    if not dirs:\n",
    "        files.sort()\n",
    "        datapoint = dict()\n",
    "        # extract all files as channels\n",
    "        for f in files:\n",
    "            seqtype = f.split('_')[3]\n",
    "            datapoint[seqtype] = os.path.join(root, f)\n",
    "        database.append(datapoint)"
   ]
  },
  {
   "cell_type": "code",
   "execution_count": 16,
   "id": "039cb9a2",
   "metadata": {},
   "outputs": [
    {
     "data": {
      "text/plain": [
       "{'cjdata': {'PID': '100360',\n",
       "  'image': array([[0, 0, 0, ..., 0, 0, 0],\n",
       "         [0, 1, 0, ..., 0, 0, 0],\n",
       "         [0, 0, 0, ..., 0, 0, 0],\n",
       "         ...,\n",
       "         [0, 0, 0, ..., 0, 0, 0],\n",
       "         [0, 0, 0, ..., 0, 0, 0],\n",
       "         [0, 0, 0, ..., 0, 0, 0]], dtype=int16),\n",
       "  'label': array(1.),\n",
       "  'tumorBorder': array([319.33101045, 153.42160279, 302.38327526, 161.44947735,\n",
       "         292.57142857, 160.55749129, 283.65156794, 165.90940767,\n",
       "         272.94773519, 176.61324042, 268.48780488, 184.64111498,\n",
       "         269.37979094, 195.34494774, 270.271777  , 200.69686411,\n",
       "         264.02787456, 209.61672474, 264.91986063, 215.86062718,\n",
       "         272.94773519, 222.99651568, 267.59581882, 231.91637631,\n",
       "         272.05574913, 242.62020906, 279.19163763, 244.40418118,\n",
       "         288.11149826, 255.10801394, 296.13937282, 256.89198606,\n",
       "         304.16724739, 256.89198606, 312.19512195, 253.32404181,\n",
       "         321.11498258, 248.8641115 , 325.57491289, 248.8641115 ,\n",
       "         334.49477352, 248.8641115 , 340.73867596, 249.75609756,\n",
       "         354.1184669 , 245.29616725, 363.93031359, 231.91637631,\n",
       "         368.3902439 , 220.32055749, 374.63414634, 201.58885017,\n",
       "         377.31010453, 188.20905923, 373.74216028, 176.61324042,\n",
       "         364.82229965, 170.36933798, 355.01045296, 170.36933798,\n",
       "         338.95470383, 162.34146341, 327.35888502, 156.09756098]),\n",
       "  'tumorMask': array([[False, False, False, ..., False, False, False],\n",
       "         [False, False, False, ..., False, False, False],\n",
       "         [False, False, False, ..., False, False, False],\n",
       "         ...,\n",
       "         [False, False, False, ..., False, False, False],\n",
       "         [False, False, False, ..., False, False, False],\n",
       "         [False, False, False, ..., False, False, False]])}}"
      ]
     },
     "execution_count": 16,
     "metadata": {},
     "output_type": "execute_result"
    }
   ],
   "source": [
    "mat"
   ]
  },
  {
   "cell_type": "code",
   "execution_count": 17,
   "id": "ea63c67c",
   "metadata": {},
   "outputs": [],
   "source": [
    "image = mat[\"cjdata\"][\"image\"]"
   ]
  },
  {
   "cell_type": "code",
   "execution_count": 18,
   "id": "6d68c0f9",
   "metadata": {},
   "outputs": [
    {
     "data": {
      "text/plain": [
       "<matplotlib.image.AxesImage at 0x23e15c098b0>"
      ]
     },
     "execution_count": 18,
     "metadata": {},
     "output_type": "execute_result"
    },
    {
     "data": {
      "image/png": "[encoded data removed]",
      "text/plain": [
       "<Figure size 640x480 with 1 Axes>"
      ]
     },
     "metadata": {},
     "output_type": "display_data"
    }
   ],
   "source": [
    "plt.imshow(mat[\"cjdata\"][\"image\"])"
   ]
  },
  {
   "cell_type": "code",
   "execution_count": 19,
   "id": "7c36ea8b",
   "metadata": {},
   "outputs": [
    {
     "data": {
      "text/plain": [
       "<matplotlib.image.AxesImage at 0x23e15f51b80>"
      ]
     },
     "execution_count": 19,
     "metadata": {},
     "output_type": "execute_result"
    },
    {
     "data": {
      "image/png": "[encoded data removed]",
      "text/plain": [
       "<Figure size 640x480 with 1 Axes>"
      ]
     },
     "metadata": {},
     "output_type": "display_data"
    }
   ],
   "source": [
    "plt.imshow(mat[\"cjdata\"][\"tumorMask\"])"
   ]
  },
  {
   "cell_type": "code",
   "execution_count": null,
   "id": "26766a33",
   "metadata": {},
   "outputs": [],
   "source": [
    "args = {\n",
    "  \"img_size\": [\n",
    "    256,\n",
    "    256\n",
    "  ],\n",
    "  \"Batch_Size\": 1,\n",
    "  \"train_dir\": r\"C:\\Users\\Admin\\Dropbox\\PC\\Documents\\Anomaly Detection\\AnoDDPM\\data\\brats\\training\",\n",
    "  \"test_dir\": r\"C:\\Users\\Admin\\Dropbox\\PC\\Documents\\Anomaly Detection\\AnoDDPM\\data\\brats\\testing\",\n",
    "  \"EPOCHS\": 3000,\n",
    "  \"T\": 1000,\n",
    "  \"base_channels\": 128,\n",
    "  \"beta_schedule\": \"linear\",\n",
    "  \"channel_mults\": \"\",\n",
    "  \"loss-type\": \"l2\",\n",
    "  \"loss_weight\": \"none\",\n",
    "  \"train_start\": True,\n",
    "  \"lr\": 1e-4,\n",
    "  \"random_slice\": False,\n",
    "  \"sample_distance\": 800,\n",
    "  \"weight_decay\": 0.0,\n",
    "  \"save_imgs\": False,\n",
    "  \"save_vids\": True,\n",
    "  \"dropout\": 0,\n",
    "  \"attention_resolutions\": \"16,8\",\n",
    "  \"num_heads\": 2,\n",
    "  \"num_head_channels\": -1,\n",
    "  \"noise_fn\": \"simplex\",\n",
    "  \"dataset\": \"brats\"\n",
    "}"
   ]
  },
  {
   "cell_type": "code",
   "execution_count": null,
   "id": "a300ded3",
   "metadata": {},
   "outputs": [],
   "source": [
    "import os\n",
    "directory = os.path.expanduser(args[\"train_dir\"])"
   ]
  },
  {
   "cell_type": "code",
   "execution_count": null,
   "id": "acb3dfd9",
   "metadata": {},
   "outputs": [],
   "source": [
    "import torch\n",
    "import dataset"
   ]
  },
  {
   "cell_type": "code",
   "execution_count": null,
   "id": "6a146f1b",
   "metadata": {},
   "outputs": [],
   "source": [
    "train , test= dataset.init_datasets(\"./\", args)"
   ]
  },
  {
   "cell_type": "code",
   "execution_count": null,
   "id": "0537e590",
   "metadata": {},
   "outputs": [],
   "source": [
    "train_data = dataset.init_dataset_loader(train, args)"
   ]
  },
  {
   "cell_type": "code",
   "execution_count": null,
   "id": "5f18035a",
   "metadata": {},
   "outputs": [],
   "source": [
    "train"
   ]
  },
  {
   "cell_type": "code",
   "execution_count": null,
   "id": "b18619f0",
   "metadata": {},
   "outputs": [],
   "source": []
  },
  {
   "cell_type": "code",
   "execution_count": null,
   "id": "4a2ce245",
   "metadata": {},
   "outputs": [],
   "source": [
    "fp = test.database[0]"
   ]
  },
  {
   "cell_type": "code",
   "execution_count": null,
   "id": "161292e8",
   "metadata": {},
   "outputs": [],
   "source": [
    "fp['t1'].split('\\\\')"
   ]
  },
  {
   "cell_type": "code",
   "execution_count": null,
   "id": "e94fd9bb",
   "metadata": {},
   "outputs": [],
   "source": []
  },
  {
   "cell_type": "code",
   "execution_count": null,
   "id": "6a3ce095",
   "metadata": {},
   "outputs": [],
   "source": [
    "datal = torch.utils.data.DataLoader(\n",
    "    train,\n",
    "    batch_size=2,\n",
    "    shuffle=True)"
   ]
  },
  {
   "cell_type": "code",
   "execution_count": null,
   "id": "317881f8",
   "metadata": {},
   "outputs": [],
   "source": [
    "# len(train_data)"
   ]
  },
  {
   "cell_type": "code",
   "execution_count": null,
   "id": "bbe4c7d1",
   "metadata": {},
   "outputs": [],
   "source": [
    "for i in datal:\n",
    "    print(i['image'].shape)"
   ]
  },
  {
   "cell_type": "code",
   "execution_count": null,
   "id": "d40ea03c",
   "metadata": {},
   "outputs": [],
   "source": [
    "import torch\n",
    "import torchvision.transforms as transforms\n",
    "\n",
    "# # Load your image as a tensor\n",
    "# img = ...\n",
    "\n",
    "# Define the resize transformation\n",
    "resize = transforms.Resize((256, 256))\n",
    "\n",
    "# Apply the transformation to the image\n",
    "img_resized = resize(i['mask'])"
   ]
  },
  {
   "cell_type": "code",
   "execution_count": null,
   "id": "6e5f5b00",
   "metadata": {},
   "outputs": [],
   "source": [
    "torch.Tensor"
   ]
  },
  {
   "cell_type": "code",
   "execution_count": null,
   "id": "c06a4fe1",
   "metadata": {},
   "outputs": [],
   "source": [
    "plt.imshow(img_resized[0])"
   ]
  },
  {
   "cell_type": "code",
   "execution_count": null,
   "id": "062497de",
   "metadata": {},
   "outputs": [],
   "source": []
  },
  {
   "cell_type": "code",
   "execution_count": null,
   "id": "4cdd7f2a",
   "metadata": {},
   "outputs": [],
   "source": [
    "def train(training_dataset_loader, testing_dataset_loader, args, resume):\n",
    "    \"\"\"\n",
    "    :param training_dataset_loader: cycle(dataloader) instance for training\n",
    "    :param testing_dataset_loader:  cycle(dataloader) instance for testing\n",
    "    :param args: dictionary of parameters\n",
    "    :param resume: dictionary of parameters if continuing training from checkpoint\n",
    "    :return: Trained model and tested\n",
    "    \"\"\"\n",
    "\n",
    "    in_channels = 1\n",
    "    if args[\"dataset\"].lower() == \"cifar\" or args[\"dataset\"].lower() == \"leather\":\n",
    "        in_channels = 3\n",
    "\n",
    "    if args[\"channels\"] != \"\":\n",
    "        in_channels = args[\"channels\"]\n",
    "\n",
    "    model = UNetModel(\n",
    "            args['img_size'][0], args['base_channels'], channel_mults=args['channel_mults'], dropout=args[\n",
    "                \"dropout\"], n_heads=args[\"num_heads\"], n_head_channels=args[\"num_head_channels\"],\n",
    "            in_channels=in_channels\n",
    "            )\n",
    "\n",
    "    betas = get_beta_schedule(args['T'], args['beta_schedule'])\n",
    "\n",
    "    diffusion = GaussianDiffusionModel(\n",
    "            args['img_size'], betas, loss_weight=args['loss_weight'],\n",
    "            loss_type=args['loss-type'], noise=args[\"noise_fn\"], img_channels=in_channels\n",
    "            )\n",
    "\n",
    "    if resume:\n",
    "\n",
    "        if \"unet\" in resume:\n",
    "            model.load_state_dict(resume[\"unet\"])\n",
    "        else:\n",
    "            model.load_state_dict(resume[\"ema\"])\n",
    "\n",
    "        ema = UNetModel(\n",
    "                args['img_size'][0], args['base_channels'], channel_mults=args['channel_mults'],\n",
    "                dropout=args[\"dropout\"], n_heads=args[\"num_heads\"], n_head_channels=args[\"num_head_channels\"],\n",
    "                in_channels=in_channels\n",
    "                )\n",
    "        ema.load_state_dict(resume[\"ema\"])\n",
    "        start_epoch = resume['n_epoch']\n",
    "\n",
    "    else:\n",
    "        start_epoch = 0\n",
    "        ema = copy.deepcopy(model)\n",
    "\n",
    "    tqdm_epoch = range(start_epoch, args['EPOCHS'] + 1)\n",
    "    model.to(device)\n",
    "    ema.to(device)\n",
    "    optimiser = optim.AdamW(model.parameters(), lr=args['lr'], weight_decay=args['weight_decay'], betas=(0.9, 0.999))\n",
    "    if resume:\n",
    "        optimiser.load_state_dict(resume[\"optimizer_state_dict\"])\n",
    "\n",
    "    del resume\n",
    "    start_time = time.time()\n",
    "    losses = []\n",
    "    vlb = collections.deque([], maxlen=10)\n",
    "    iters = range(100 // args['Batch_Size']) if args[\"dataset\"].lower() != \"cifar\" else range(200)\n",
    "    # iters = range(100 // args['Batch_Size']) if args[\"dataset\"].lower() != \"cifar\" else range(150)\n",
    "\n",
    "    # dataset loop\n",
    "    for epoch in tqdm_epoch:\n",
    "        mean_loss = []\n",
    "\n",
    "        for i in iters:\n",
    "            data = next(training_dataset_loader)\n",
    "            if args[\"dataset\"] == \"cifar\":\n",
    "                # cifar outputs [data,class]\n",
    "                x = data[0].to(device)\n",
    "            else:\n",
    "                x = data[\"image\"]\n",
    "                x = x.to(device)\n",
    "\n",
    "            loss, estimates = diffusion.p_loss(model, x, args)\n",
    "\n",
    "            noisy, est = estimates[1], estimates[2]\n",
    "            optimiser.zero_grad()\n",
    "            loss.backward()\n",
    "            torch.nn.utils.clip_grad_norm_(model.parameters(), 1)\n",
    "            optimiser.step()\n",
    "\n",
    "            update_ema_params(ema, model)\n",
    "            mean_loss.append(loss.data.cpu())\n",
    "\n",
    "            if epoch % 50 == 0 and i == 0:\n",
    "                row_size = min(8, args['Batch_Size'])\n",
    "                training_outputs(\n",
    "                        diffusion, x, est, noisy, epoch, row_size, save_imgs=args['save_imgs'],\n",
    "                        save_vids=args['save_vids'], ema=ema, args=args\n",
    "                        )\n",
    "\n",
    "        losses.append(np.mean(mean_loss))\n",
    "        if epoch % 200 == 0:\n",
    "            time_taken = time.time() - start_time\n",
    "            remaining_epochs = args['EPOCHS'] - epoch\n",
    "            time_per_epoch = time_taken / (epoch + 1 - start_epoch)\n",
    "            hours = remaining_epochs * time_per_epoch / 3600\n",
    "            mins = (hours % 1) * 60\n",
    "            hours = int(hours)\n",
    "\n",
    "            vlb_terms = diffusion.calc_total_vlb(x, model, args)\n",
    "            vlb.append(vlb_terms[\"total_vlb\"].mean(dim=-1).cpu().item())\n",
    "            print(\n",
    "                    f\"epoch: {epoch}, most recent total VLB: {vlb[-1]} mean total VLB:\"\n",
    "                    f\" {np.mean(vlb):.4f}, \"\n",
    "                    f\"prior vlb: {vlb_terms['prior_vlb'].mean(dim=-1).cpu().item():.2f}, vb: \"\n",
    "                    f\"{torch.mean(vlb_terms['vb'], dim=list(range(2))).cpu().item():.2f}, x_0_mse: \"\n",
    "                    f\"{torch.mean(vlb_terms['x_0_mse'], dim=list(range(2))).cpu().item():.2f}, mse: \"\n",
    "                    f\"{torch.mean(vlb_terms['mse'], dim=list(range(2))).cpu().item():.2f}\"\n",
    "                    f\" time elapsed {int(time_taken / 3600)}:{((time_taken / 3600) % 1) * 60:02.0f}, \"\n",
    "                    f\"est time remaining: {hours}:{mins:02.0f}\\r\"\n",
    "                    )\n",
    "            # else:\n",
    "            #\n",
    "            #     print(\n",
    "            #             f\"epoch: {epoch}, imgs trained: {(i + 1) * args['Batch_Size'] + epoch * 100}, last 20 epoch mean loss:\"\n",
    "            #             f\" {np.mean(losses[-20:]):.4f} , last 100 epoch mean loss:\"\n",
    "            #             f\" {np.mean(losses[-100:]) if len(losses) > 0 else 0:.4f}, \"\n",
    "            #             f\"time per epoch {time_per_epoch:.2f}s, time elapsed {int(time_taken / 3600)}:\"\n",
    "            #             f\"{((time_taken / 3600) % 1) * 60:02.0f}, est time remaining: {hours}:{mins:02.0f}\\r\"\n",
    "            #             )\n",
    "\n",
    "        if epoch % 1000 == 0 and epoch >= 0:\n",
    "            save(unet=model, args=args, optimiser=optimiser, final=False, ema=ema, epoch=epoch)\n",
    "\n",
    "    save(unet=model, args=args, optimiser=optimiser, final=True, ema=ema)\n",
    "\n",
    "    evaluation.testing(testing_dataset_loader, diffusion, ema=ema, args=args, model=model)\n",
    "\n",
    "\n",
    "def save(final, unet, optimiser, args, ema, loss=0, epoch=0):\n",
    "    \"\"\"\n",
    "    Save model final or checkpoint\n",
    "    :param final: bool for final vs checkpoint\n",
    "    :param unet: unet instance\n",
    "    :param optimiser: ADAM optim\n",
    "    :param args: model parameters\n",
    "    :param ema: ema instance\n",
    "    :param loss: loss for checkpoint\n",
    "    :param epoch: epoch for checkpoint\n",
    "    :return: saved model\n",
    "    \"\"\"\n",
    "    if final:\n",
    "        torch.save(\n",
    "                {\n",
    "                    'n_epoch':              args[\"EPOCHS\"],\n",
    "                    'model_state_dict':     unet.state_dict(),\n",
    "                    'optimizer_state_dict': optimiser.state_dict(),\n",
    "                    \"ema\":                  ema.state_dict(),\n",
    "                    \"args\":                 args\n",
    "                    # 'loss': LOSS,\n",
    "                    }, f'{ROOT_DIR}model/diff-params-ARGS={args[\"arg_num\"]}/params-final.pt'\n",
    "                )\n",
    "    else:\n",
    "        torch.save(\n",
    "                {\n",
    "                    'n_epoch':              epoch,\n",
    "                    'model_state_dict':     unet.state_dict(),\n",
    "                    'optimizer_state_dict': optimiser.state_dict(),\n",
    "                    \"args\":                 args,\n",
    "                    \"ema\":                  ema.state_dict(),\n",
    "                    'loss':                 loss,\n",
    "                    }, f'{ROOT_DIR}model/diff-params-ARGS={args[\"arg_num\"]}/checkpoint/diff_epoch={epoch}.pt'\n",
    "                )\n",
    "\n",
    "\n",
    "def training_outputs(diffusion, x, est, noisy, epoch, row_size, ema, args, save_imgs=False, save_vids=False):\n",
    "    \"\"\"\n",
    "    Saves video & images based on args info\n",
    "    :param diffusion: diffusion model instance\n",
    "    :param x: x_0 real data value\n",
    "    :param est: estimate of the noise at x_t (output of the model)\n",
    "    :param noisy: x_t\n",
    "    :param epoch:\n",
    "    :param row_size: rows for outputs into torchvision.utils.make_grid\n",
    "    :param ema: exponential moving average unet for sampling\n",
    "    :param save_imgs: bool for saving imgs\n",
    "    :param save_vids: bool for saving diffusion videos\n",
    "    :return:\n",
    "    \"\"\"\n",
    "    try:\n",
    "        os.makedirs(f'./diffusion-videos/ARGS={args[\"arg_num\"]}')\n",
    "        os.makedirs(f'./diffusion-training-images/ARGS={args[\"arg_num\"]}')\n",
    "    except OSError:\n",
    "        pass\n",
    "    if save_imgs:\n",
    "        if epoch % 100 == 0:\n",
    "            # for a given t, output x_0, & prediction of x_(t-1), and x_0\n",
    "            noise = torch.rand_like(x)\n",
    "            t = torch.randint(0, diffusion.num_timesteps, (x.shape[0],), device=x.device)\n",
    "            x_t = diffusion.sample_q(x, t, noise)\n",
    "            temp = diffusion.sample_p(ema, x_t, t)\n",
    "            out = torch.cat(\n",
    "                    (x[:row_size, ...].cpu(), temp[\"sample\"][:row_size, ...].cpu(),\n",
    "                     temp[\"pred_x_0\"][:row_size, ...].cpu())\n",
    "                    )\n",
    "            plt.title(f'real,sample,prediction x_0-{epoch}epoch')\n",
    "        else:\n",
    "            # for a given t, output x_0, x_t, & prediction of noise in x_t & MSE\n",
    "            out = torch.cat(\n",
    "                    (x[:row_size, ...].cpu(), noisy[:row_size, ...].cpu(), est[:row_size, ...].cpu(),\n",
    "                     (est - noisy).square().cpu()[:row_size, ...])\n",
    "                    )\n",
    "            plt.title(f'real,noisy,noise prediction,mse-{epoch}epoch')\n",
    "        plt.rcParams['figure.dpi'] = 150\n",
    "        plt.grid(False)\n",
    "        plt.imshow(gridify_output(out, row_size), cmap='gray')\n",
    "\n",
    "        plt.savefig(f'./diffusion-training-images/ARGS={args[\"arg_num\"]}/EPOCH={epoch}.png')\n",
    "        plt.clf()\n",
    "    if save_vids:\n",
    "        fig, ax = plt.subplots()\n",
    "        if epoch % 500 == 0:\n",
    "            plt.rcParams['figure.dpi'] = 200\n",
    "            if epoch % 1000 == 0:\n",
    "                out = diffusion.forward_backward(ema, x, \"half\", args['sample_distance'] // 2, denoise_fn=\"noise_fn\")\n",
    "            else:\n",
    "                out = diffusion.forward_backward(ema, x, \"half\", args['sample_distance'] // 4, denoise_fn=\"noise_fn\")\n",
    "            imgs = [[ax.imshow(gridify_output(x, row_size), animated=True)] for x in out]\n",
    "#             ani = animation.FuncAnimation(\n",
    "#                     fig, imgs, frames=np.arange(0, 3)\n",
    "#                     )\n",
    "#             fig.savefig(f\"{ROOT_DIR}diffusion-videos/ARGS28_sample-EPOCH={epoch}_figure.png\")\n",
    "#             my_writer=animation.PillowWriter(fps=20, codec='libx264', bitrate=2)\n",
    "            \n",
    "# #             ani = animation.ArtistAnimation(\n",
    "# #                     fig, imgs, interval=50, blit=True,\n",
    "# #                     repeat_delay=1000\n",
    "# #                     )\n",
    "#             ani.save(f'{ROOT_DIR}diffusion-videos/ARGS/sample-EPOCH={epoch}.gif', writer = my_writer)\n",
    "\n",
    "    plt.close('all')\n",
    "\n",
    "\n"
   ]
  },
  {
   "cell_type": "code",
   "execution_count": null,
   "id": "106681de",
   "metadata": {},
   "outputs": [],
   "source": [
    "import os\n",
    "from random import randint\n",
    "\n",
    "import cv2\n",
    "import nibabel as nib\n",
    "import numpy as np\n",
    "import torch\n",
    "from matplotlib import animation\n",
    "from torch.utils.data import Dataset\n",
    "from torchvision import datasets, transforms\n",
    "\n",
    "class MRIDataset(Dataset):\n",
    "    \"\"\"Healthy MRI dataset.\"\"\"\n",
    "\n",
    "    def __init__(self, ROOT_DIR, transform=None, img_size=(32, 32), random_slice=False):\n",
    "        \"\"\"\n",
    "        Args:\n",
    "            ROOT_DIR (string): Directory with all the images.\n",
    "            transform (callable, optional): Optional transform to be applied\n",
    "                on a sample.\n",
    "        \"\"\"\n",
    "        self.transform = transforms.Compose(\n",
    "                [transforms.ToPILImage(),\n",
    "                 transforms.RandomAffine(3, translate=(0.02, 0.09)),\n",
    "                 transforms.CenterCrop(235),\n",
    "                 transforms.Resize(img_size, transforms.InterpolationMode.BILINEAR),\n",
    "                 # transforms.CenterCrop(256),\n",
    "                 transforms.ToTensor(),\n",
    "                 transforms.Normalize((0.5), (0.5))\n",
    "                 ]\n",
    "                ) if not transform else transform\n",
    "\n",
    "        self.filenames = os.listdir(ROOT_DIR)\n",
    "        if \".DS_Store\" in self.filenames:\n",
    "            self.filenames.remove(\".DS_Store\")\n",
    "        self.ROOT_DIR = ROOT_DIR\n",
    "        self.random_slice = random_slice\n",
    "\n",
    "    def __len__(self):\n",
    "        return len(self.filenames)\n",
    "\n",
    "    def __getitem__(self, idx):\n",
    "        # print(repr(idx))\n",
    "        if torch.is_tensor(idx):\n",
    "            idx = idx.tolist()\n",
    "        if os.path.exists(os.path.join(self.ROOT_DIR, self.filenames[idx], f\"{self.filenames[idx]}.npy\")):\n",
    "            image = np.load(os.path.join(self.ROOT_DIR, self.filenames[idx], f\"{self.filenames[idx]}.npy\"))\n",
    "            pass\n",
    "        else:\n",
    "            print(\"NBF3\")\n",
    "            img_name = os.path.join(\n",
    "                    self.ROOT_DIR, self.filenames[idx], f\"sub-{self.filenames[idx]}_ses-NFB3_T1w_brain.nii.gz\"\n",
    "                    )\n",
    "            # random between 40 and 130\n",
    "            print(nib.load(img_name).slicer[:,90:91,:].dataobj.shape)\n",
    "            img = nib.load(img_name)\n",
    "            image = img.get_fdata()\n",
    "\n",
    "            image_mean = np.mean(image)\n",
    "            image_std = np.std(image)\n",
    "            img_range = (image_mean - 1 * image_std, image_mean + 2 * image_std)\n",
    "            image = np.clip(image, img_range[0], img_range[1])\n",
    "            image = image / (img_range[1] - img_range[0])\n",
    "            np.save(\n",
    "                    os.path.join(self.ROOT_DIR, self.filenames[idx], f\"{self.filenames[idx]}.npy\"), image.astype(\n",
    "                            np.float32\n",
    "                            )\n",
    "                    )\n",
    "        if self.random_slice:\n",
    "            # slice_idx = randint(32, 122)\n",
    "            slice_idx = randint(40, 100)\n",
    "        else:\n",
    "            slice_idx = 80\n",
    "\n",
    "        image = image[:, slice_idx:slice_idx + 1, :].reshape(256, 192).astype(np.float32)\n",
    "\n",
    "        if self.transform:\n",
    "            image = self.transform(image)\n",
    "\n",
    "        sample = {'image': image, \"filenames\": self.filenames[idx]}\n",
    "        return sample\n"
   ]
  },
  {
   "cell_type": "code",
   "execution_count": null,
   "id": "ce86a9b1",
   "metadata": {},
   "outputs": [],
   "source": []
  },
  {
   "cell_type": "code",
   "execution_count": null,
   "id": "96f17977",
   "metadata": {},
   "outputs": [],
   "source": [
    "import numpy as np\n",
    "import imageio.v2 as imageio\n",
    "import os\n",
    "from PIL import Image\n",
    "from torchvision import transforms\n",
    "# from torchvision import functional\n",
    "import torch\n",
    "import pandas as pd\n",
    "import random\n",
    "class TUMOR():\n",
    "    def __init__(self, input_size, root, is_train=True, data_len=None):\n",
    "        self.input_size = input_size\n",
    "        self.root = root\n",
    "#         self.transform = transform\n",
    "#         self.to_pil = transforms.ToPILImage()\n",
    "        self.is_train = is_train\n",
    "        train_img_path = os.path.join(self.root)\n",
    "        test_img_path = os.path.join(self.root)\n",
    "        train_label_file = open(os.path.join(self.root, 'train.txt'))\n",
    "        test_label_file = open(os.path.join(self.root, 'test.txt'))\n",
    "        train_img_label = []\n",
    "        test_img_label = []\n",
    "        for line in train_label_file:\n",
    "            train_img_label.append([os.path.join(train_img_path, line[:-2]), int(line[-2])])\n",
    "        for line in test_label_file:\n",
    "            test_img_label.append([os.path.join(test_img_path, line[:-2]), int(line[-2])])\n",
    "        self.train_img_label = train_img_label[:data_len]\n",
    "        self.test_img_label = test_img_label[:data_len]\n",
    "\n",
    "\n",
    "    def __getitem__(self, index):\n",
    "        if self.is_train:\n",
    "            img, target = imageio.imread(self.train_img_label[index][0]), self.train_img_label[index][1]\n",
    "            if len(img.shape) == 2:\n",
    "                img = np.stack([img] * 3, 2)\n",
    "            img = Image.fromarray(img, mode='RGB')\n",
    "\n",
    "            img = transforms.Resize(self.input_size, Image.Resampling.BILINEAR)(img)\n",
    "            # img = transforms.RandomResizedCrop(size=self.input_size,scale=(0.4, 0.75),ratio=(0.5,1.5))(img)\n",
    "            # img = transforms.RandomCrop(self.input_size)(img)\n",
    "            img = transforms.RandomHorizontalFlip()(img)\n",
    "            img = transforms.ColorJitter(brightness=0.2, contrast=0.2)(img)\n",
    "\n",
    "            img = transforms.ToTensor()(img)\n",
    "            img = transforms.Normalize([0.485, 0.456, 0.406], [0.229, 0.224, 0.225])(img)\n",
    "\n",
    "        else:\n",
    "            img, target = imageio.imread(self.test_img_label[index][0]), self.test_img_label[index][1]\n",
    "            if len(img.shape) == 2:\n",
    "                img = np.stack([img] * 3, 2)\n",
    "            img = Image.fromarray(img, mode='RGB')\n",
    "            img = transforms.Resize(self.input_size, Image.BILINEAR)(img)\n",
    "            # img = transforms.CenterCrop(self.input_size)(img)\n",
    "            img = transforms.ToTensor()(img)\n",
    "            img = transforms.Normalize([0.485, 0.456, 0.406], [0.229, 0.224, 0.225])(img)\n",
    "        sample = {'image': img, \"filenames\": target}\n",
    "        return sample\n",
    "\n",
    "    def __len__(self):\n",
    "        if self.is_train:\n",
    "            return len(self.train_img_label)\n",
    "        else:\n",
    "            return len(self.test_img_label)"
   ]
  },
  {
   "cell_type": "code",
   "execution_count": null,
   "id": "1ba895fa",
   "metadata": {},
   "outputs": [],
   "source": []
  },
  {
   "cell_type": "code",
   "execution_count": null,
   "id": "816fc218",
   "metadata": {},
   "outputs": [],
   "source": [
    "unet = UNetModel(args['img_size'][0], args['base_channels'], channel_mults=args['channel_mults'])\n"
   ]
  },
  {
   "cell_type": "code",
   "execution_count": null,
   "id": "1d0f91ae",
   "metadata": {},
   "outputs": [],
   "source": [
    "betas = get_beta_schedule(args['T'], args['beta_schedule'])\n",
    "\n",
    "diff = GaussianDiffusionModel(\n",
    "        args['img_size'], betas, loss_weight=args['loss_weight'],\n",
    "        loss_type=args['loss-type'], noise=args[\"noise_fn\"]\n",
    "        )"
   ]
  },
  {
   "cell_type": "code",
   "execution_count": null,
   "id": "41a3ac0e",
   "metadata": {},
   "outputs": [],
   "source": [
    "img = torch.rand(10, 1, 256, 256)"
   ]
  },
  {
   "cell_type": "code",
   "execution_count": null,
   "id": "6a615f9f",
   "metadata": {},
   "outputs": [],
   "source": [
    "# im"
   ]
  },
  {
   "cell_type": "code",
   "execution_count": null,
   "id": "0a986a0b",
   "metadata": {},
   "outputs": [],
   "source": [
    "timestep = random.randint(int(args[\"sample_distance\"] * 0.2), int(args[\"sample_distance\"] * 0.6))"
   ]
  },
  {
   "cell_type": "code",
   "execution_count": null,
   "id": "f29c431d",
   "metadata": {},
   "outputs": [],
   "source": [
    "timestep"
   ]
  },
  {
   "cell_type": "code",
   "execution_count": null,
   "id": "6823cd66",
   "metadata": {},
   "outputs": [],
   "source": [
    "unet = unet.cuda()\n",
    "image = image.cuda()"
   ]
  },
  {
   "cell_type": "code",
   "execution_count": null,
   "id": "a90f466b",
   "metadata": {},
   "outputs": [],
   "source": [
    "device"
   ]
  },
  {
   "cell_type": "code",
   "execution_count": null,
   "id": "be607c55",
   "metadata": {},
   "outputs": [],
   "source": [
    "use_checkpoint"
   ]
  },
  {
   "cell_type": "code",
   "execution_count": 19,
   "id": "d20fe4a3",
   "metadata": {},
   "outputs": [
    {
     "ename": "NameError",
     "evalue": "name 'params' is not defined",
     "output_type": "error",
     "traceback": [
      "\u001b[1;31m---------------------------------------------------------------------------\u001b[0m",
      "\u001b[1;31mNameError\u001b[0m                                 Traceback (most recent call last)",
      "Cell \u001b[1;32mIn[19], line 1\u001b[0m\n\u001b[1;32m----> 1\u001b[0m output \u001b[38;5;241m=\u001b[39m load_checkpoint(\u001b[43mparams\u001b[49m[\u001b[38;5;241m-\u001b[39m\u001b[38;5;241m1\u001b[39m][\u001b[38;5;241m-\u001b[39m\u001b[38;5;241m2\u001b[39m:], use_checkpoint, device)\n",
      "\u001b[1;31mNameError\u001b[0m: name 'params' is not defined"
     ]
    }
   ],
   "source": [
    "output = load_checkpoint(params[-1][-2:], use_checkpoint, device)"
   ]
  },
  {
   "cell_type": "code",
   "execution_count": null,
   "id": "61b2713f",
   "metadata": {},
   "outputs": [],
   "source": [
    "output[\"args\"]"
   ]
  },
  {
   "cell_type": "code",
   "execution_count": null,
   "id": "020a851a",
   "metadata": {},
   "outputs": [],
   "source": [
    "params = os.listdir(\"./model\")\n",
    "params"
   ]
  },
  {
   "cell_type": "code",
   "execution_count": null,
   "id": "904cb618",
   "metadata": {},
   "outputs": [],
   "source": [
    "params[-1][-2:]"
   ]
  },
  {
   "cell_type": "code",
   "execution_count": null,
   "id": "24427262",
   "metadata": {},
   "outputs": [],
   "source": []
  },
  {
   "cell_type": "code",
   "execution_count": null,
   "id": "ad9e6422",
   "metadata": {},
   "outputs": [],
   "source": [
    "if len(sys.argv[1:]) > 0:\n",
    "    params = sys.argv[1:]\n",
    "else:\n",
    "    params = os.listdir(\"./model\")\n",
    "if \".DS_Store\" in params:\n",
    "    params.remove(\".DS_Store\")\n",
    "\n",
    "if params[0] == \"CHECKPOINT\":\n",
    "    use_checkpoint = True\n",
    "    params = params[1:]\n",
    "else:\n",
    "    use_checkpoint = False\n",
    "\n",
    "params = 28\n",
    "for param in params:\n",
    "    if param.isnumeric():\n",
    "        output = load_checkpoint(param, use_checkpoint, device)\n",
    "    elif param[:4] == \"args\" and param[-5:] == \".json\":\n",
    "        output = load_checkpoint(param[4:-5], use_checkpoint, device)\n",
    "    elif param[:4] == \"args\":\n",
    "        output = load_checkpoint(param[4:], use_checkpoint, device)\n",
    "    else:\n",
    "        raise ValueError(f\"Unsupported input {param}\")\n",
    "\n",
    "    if \"args\" in output:\n",
    "        args = output[\"args\"]\n",
    "    else:\n",
    "        try:\n",
    "            with open(f'./test_args/args{param[17:]}.json', 'r') as f:\n",
    "                args = json.load(f)\n",
    "            args['arg_num'] = param[17:]\n",
    "            args = defaultdict_from_json(args)\n",
    "        except FileNotFoundError:\n",
    "            raise ValueError(f\"args{param[17:]} doesn't exist for {param}\")\n",
    "\n",
    "    if \"noise_fn\" not in args:\n",
    "        args[\"noise_fn\"] = \"gauss\""
   ]
  },
  {
   "cell_type": "code",
   "execution_count": null,
   "id": "45e8954d",
   "metadata": {},
   "outputs": [],
   "source": [
    "from helpers import load_parameters"
   ]
  },
  {
   "cell_type": "code",
   "execution_count": null,
   "id": "fc632ef4",
   "metadata": {},
   "outputs": [],
   "source": [
    "device = torch.device(\"cuda\" if torch.cuda.is_available() else \"cpu\")"
   ]
  },
  {
   "cell_type": "code",
   "execution_count": null,
   "id": "db895166",
   "metadata": {},
   "outputs": [],
   "source": []
  },
  {
   "cell_type": "code",
   "execution_count": null,
   "id": "939ef3d4",
   "metadata": {},
   "outputs": [],
   "source": []
  },
  {
   "cell_type": "code",
   "execution_count": null,
   "id": "990f9366",
   "metadata": {},
   "outputs": [],
   "source": [
    "args, output = load_parameters(device)"
   ]
  },
  {
   "cell_type": "code",
   "execution_count": null,
   "id": "55a5415c",
   "metadata": {},
   "outputs": [],
   "source": [
    "args"
   ]
  },
  {
   "cell_type": "code",
   "execution_count": null,
   "id": "9984bd90",
   "metadata": {},
   "outputs": [],
   "source": [
    "\n",
    "in_channels = 1\n",
    "unet = UNetModel(\n",
    "        args['img_size'][0], args['base_channels'], channel_mults=args['channel_mults'], in_channels=in_channels\n",
    "        )\n",
    "\n",
    "betas = get_beta_schedule(args['T'], args['beta_schedule'])\n",
    "\n",
    "diff = GaussianDiffusionModel(\n",
    "        args['img_size'], betas, loss_weight=args['loss_weight'],\n",
    "        loss_type=args['loss-type'], noise=args[\"noise_fn\"], img_channels=in_channels\n",
    "        )\n",
    "unet.load_state_dict(output[\"ema\"])\n",
    "unet.to(device)"
   ]
  },
  {
   "cell_type": "code",
   "execution_count": null,
   "id": "6d7c9f69",
   "metadata": {},
   "outputs": [],
   "source": []
  },
  {
   "cell_type": "code",
   "execution_count": null,
   "id": "99d0716b",
   "metadata": {},
   "outputs": [],
   "source": [
    "output = diff.forward_backward(\n",
    "                unet, image,\n",
    "                see_whole_sequence=None,\n",
    "                t_distance=200, denoise_fn=args[\"noise_fn\"]\n",
    "                )"
   ]
  },
  {
   "cell_type": "code",
   "execution_count": null,
   "id": "6114d123",
   "metadata": {},
   "outputs": [],
   "source": [
    "output.shape"
   ]
  },
  {
   "cell_type": "code",
   "execution_count": null,
   "id": "9d097432",
   "metadata": {},
   "outputs": [],
   "source": [
    "imm = transform(output[0])\n",
    "imm"
   ]
  },
  {
   "cell_type": "code",
   "execution_count": null,
   "id": "05effa39",
   "metadata": {},
   "outputs": [],
   "source": [
    "import matplotlib.pyplot as plt"
   ]
  },
  {
   "cell_type": "code",
   "execution_count": null,
   "id": "bcdca3c3",
   "metadata": {},
   "outputs": [],
   "source": [
    "out = output[0].cuda()"
   ]
  },
  {
   "cell_type": "code",
   "execution_count": null,
   "id": "8ff22379",
   "metadata": {},
   "outputs": [],
   "source": [
    "mse = (image - output).square()"
   ]
  },
  {
   "cell_type": "code",
   "execution_count": null,
   "id": "4ab7704d",
   "metadata": {},
   "outputs": [],
   "source": [
    "imm = transform(mse[0])\n",
    "imm"
   ]
  },
  {
   "cell_type": "code",
   "execution_count": null,
   "id": "d0572eef",
   "metadata": {},
   "outputs": [],
   "source": [
    "len(output)"
   ]
  },
  {
   "cell_type": "code",
   "execution_count": null,
   "id": "4f3991cf",
   "metadata": {},
   "outputs": [],
   "source": [
    "output[0].shape"
   ]
  },
  {
   "cell_type": "code",
   "execution_count": null,
   "id": "a668105a",
   "metadata": {},
   "outputs": [],
   "source": [
    "import matplotlib\n",
    "# matplotlib.matplotlib_fname()"
   ]
  },
  {
   "cell_type": "code",
   "execution_count": null,
   "id": "fe83f84d",
   "metadata": {},
   "outputs": [],
   "source": [
    "# !pip install matplotlib"
   ]
  },
  {
   "cell_type": "code",
   "execution_count": null,
   "id": "46fcca1a",
   "metadata": {},
   "outputs": [],
   "source": [
    "# import matplotlib\n",
    "# matplotlib.use('qtagg')"
   ]
  },
  {
   "cell_type": "code",
   "execution_count": null,
   "id": "9321f8b7",
   "metadata": {},
   "outputs": [],
   "source": [
    "transform = transforms .ToPILImage()"
   ]
  },
  {
   "cell_type": "code",
   "execution_count": null,
   "id": "c58f08ee",
   "metadata": {},
   "outputs": [],
   "source": [
    "imm = transform(mse[0])\n",
    "imm"
   ]
  },
  {
   "cell_type": "code",
   "execution_count": null,
   "id": "ac98dfef",
   "metadata": {},
   "outputs": [],
   "source": [
    "imm = transform(output[0][0])\n",
    "imm.show()"
   ]
  },
  {
   "cell_type": "code",
   "execution_count": null,
   "id": "f0c4bd1c",
   "metadata": {},
   "outputs": [],
   "source": [
    "imm = transform(output[1][0])\n",
    "imm"
   ]
  },
  {
   "cell_type": "code",
   "execution_count": null,
   "id": "b98be378",
   "metadata": {},
   "outputs": [],
   "source": [
    "imm = transform(output[2][0])\n",
    "imm"
   ]
  },
  {
   "cell_type": "code",
   "execution_count": null,
   "id": "ea51b0f3",
   "metadata": {},
   "outputs": [],
   "source": [
    "imm = transform(output[3][0])\n",
    "imm"
   ]
  },
  {
   "cell_type": "code",
   "execution_count": null,
   "id": "251da46a",
   "metadata": {},
   "outputs": [],
   "source": [
    "imm = transform(output[4][0])\n",
    "imm"
   ]
  },
  {
   "cell_type": "code",
   "execution_count": null,
   "id": "7d4137dd",
   "metadata": {},
   "outputs": [],
   "source": [
    "imm = transform(output[5][0])\n",
    "imm"
   ]
  },
  {
   "cell_type": "code",
   "execution_count": null,
   "id": "cc5695ce",
   "metadata": {},
   "outputs": [],
   "source": [
    "imm = transform(output[6][0])\n",
    "imm"
   ]
  },
  {
   "cell_type": "code",
   "execution_count": null,
   "id": "c66d8dda",
   "metadata": {},
   "outputs": [],
   "source": [
    "imm = transform(output[7][0])\n",
    "imm"
   ]
  },
  {
   "cell_type": "code",
   "execution_count": null,
   "id": "896fc199",
   "metadata": {},
   "outputs": [],
   "source": [
    "imm = transform(output[8][0])\n",
    "imm"
   ]
  },
  {
   "cell_type": "code",
   "execution_count": null,
   "id": "c31953e8",
   "metadata": {},
   "outputs": [],
   "source": [
    "imm = transform(output[9][0])\n",
    "imm"
   ]
  },
  {
   "cell_type": "code",
   "execution_count": null,
   "id": "fa6205c6",
   "metadata": {},
   "outputs": [],
   "source": [
    "imm = transform(output[-1][0])\n",
    "imm.show()"
   ]
  },
  {
   "cell_type": "code",
   "execution_count": null,
   "id": "92dd5a48",
   "metadata": {},
   "outputs": [],
   "source": []
  },
  {
   "cell_type": "code",
   "execution_count": null,
   "id": "ca12dad6",
   "metadata": {},
   "outputs": [],
   "source": [
    "# for i in range(7, 50):\n",
    "#     imm = transform(output[i][0])\n",
    "#     imm.show()"
   ]
  },
  {
   "cell_type": "code",
   "execution_count": null,
   "id": "74c52b40",
   "metadata": {},
   "outputs": [],
   "source": [
    "# plt.imshow(output[0])"
   ]
  },
  {
   "cell_type": "code",
   "execution_count": null,
   "id": "cd25ad53",
   "metadata": {},
   "outputs": [],
   "source": [
    "# fl = os.listdir(ROOT_DIR)"
   ]
  },
  {
   "cell_type": "code",
   "execution_count": null,
   "id": "e42cb4d1",
   "metadata": {},
   "outputs": [],
   "source": [
    "# fl"
   ]
  },
  {
   "cell_type": "code",
   "execution_count": null,
   "id": "7f5678fa",
   "metadata": {},
   "outputs": [],
   "source": [
    "p = r\"C:\\Users\\Admin\\Dropbox\\PC\\Documents\\Anomaly Detection\\AnoDDPM\\DATASETS\\Train\\A00056627\\sub-A00056627_ses-NFB3_T1w_brain.nii.gz\""
   ]
  },
  {
   "cell_type": "code",
   "execution_count": null,
   "id": "ed1af8f1",
   "metadata": {},
   "outputs": [],
   "source": [
    "# img = nib.load(p)\n",
    "# image = img.get_fdata()\n",
    "\n",
    "# image_mean = np.mean(image)\n",
    "# image_std = np.std(image)\n",
    "# img_range = (image_mean - 1 * image_std, image_mean + 2 * image_std)\n",
    "# image = np.clip(image, img_range[0], img_range[1])\n",
    "# image = image / (img_range[1] - img_range[0])"
   ]
  },
  {
   "cell_type": "code",
   "execution_count": null,
   "id": "fdcb2e00",
   "metadata": {},
   "outputs": [],
   "source": [
    "# img"
   ]
  },
  {
   "cell_type": "code",
   "execution_count": null,
   "id": "926e494a",
   "metadata": {},
   "outputs": [],
   "source": [
    "def cycle(iterable):\n",
    "    while True:\n",
    "        for x in iterable:\n",
    "            yield x"
   ]
  },
  {
   "cell_type": "code",
   "execution_count": null,
   "id": "d71cdf67",
   "metadata": {},
   "outputs": [],
   "source": [
    "def init_datasets(ROOT_DIR, args):\n",
    "    training_dataset = MRIDataset(\n",
    "            ROOT_DIR=f'{ROOT_DIR}DATASETS/Train/', img_size=args['img_size'], random_slice=args['random_slice']\n",
    "            )\n",
    "    testing_dataset = MRIDataset(\n",
    "            ROOT_DIR=f'{ROOT_DIR}DATASETS/Test/', img_size=args['img_size'], random_slice=args['random_slice']\n",
    "            )\n",
    "    return training_dataset, testing_dataset\n",
    "\n",
    "\n",
    "def init_dataset_loader(dataset, args, shuffle=True):\n",
    "    dataset_loader = cycle(\n",
    "            torch.utils.data.DataLoader(\n",
    "                    dataset,\n",
    "                    batch_size=args['Batch_Size'], shuffle=shuffle,\n",
    "                    num_workers=0, drop_last=True\n",
    "                    )\n",
    "            )\n",
    "\n",
    "    return dataset_loader"
   ]
  },
  {
   "cell_type": "code",
   "execution_count": null,
   "id": "de37c88d",
   "metadata": {},
   "outputs": [],
   "source": [
    "class AnoClsDataset(Dataset):\n",
    "    def __init__(self, input_size, root, data_len=None):\n",
    "        self.input_size = input_size\n",
    "        self.root = root\n",
    "        l1  = [[os.path.join(root, 'no', x), 0, x] for x in os.listdir(os.path.join(root, \"no\"))]\n",
    "        l2  = [[os.path.join(root, 'yes', x), 1, x] for x in os.listdir(os.path.join(root, \"yes\"))]\n",
    "        self.img_label = l1+l2\n",
    "\n",
    "    def __getitem__(self, index):\n",
    "            img, target, filename = imageio.imread(self.img_label[index][0]), self.img_label[index][1], self.img_label[index][2]\n",
    "            if len(img.shape) == 2:\n",
    "                img = np.stack([img] * 3, 2)\n",
    "            img = Image.fromarray(img, mode='RGB')\n",
    "            img = transforms.Resize(self.input_size, Image.BILINEAR)(img)\n",
    "            # img = transforms.CenterCrop(self.input_size)(img)\n",
    "            img = transforms.ToTensor()(img)\n",
    "            img = transforms.Normalize([0.485, 0.456, 0.406], [0.229, 0.224, 0.225])(img)\n",
    "            sample = {'image': img, \"label\": target, \"filenames\": filename}\n",
    "            return sample\n",
    "\n",
    "    def __len__(self):\n",
    "        return len(self.test_img_label)"
   ]
  },
  {
   "cell_type": "code",
   "execution_count": null,
   "id": "b961b15e",
   "metadata": {},
   "outputs": [],
   "source": [
    "path = r\"C:\\Users\\Admin\\Dropbox\\PC\\Documents\\Anomaly Detection\\AnoDDPM\\Brain_Tumor\\brain_tumor_dataset\""
   ]
  },
  {
   "cell_type": "code",
   "execution_count": null,
   "id": "34465ac8",
   "metadata": {},
   "outputs": [],
   "source": [
    "os.listdir(path)"
   ]
  },
  {
   "cell_type": "code",
   "execution_count": null,
   "id": "b6b4e8b4",
   "metadata": {},
   "outputs": [],
   "source": [
    "AnoData = AnoClsDataset((256, 256), path)"
   ]
  },
  {
   "cell_type": "code",
   "execution_count": null,
   "id": "03058002",
   "metadata": {},
   "outputs": [],
   "source": [
    "# for i in AnoData:\n",
    "#     print(i[\"filenames\"])"
   ]
  },
  {
   "cell_type": "code",
   "execution_count": null,
   "id": "fa0e1c96",
   "metadata": {},
   "outputs": [],
   "source": [
    "ff = []\n",
    "# for y in os.listdir(path):\n",
    "#     print(y)\n",
    "#     ff.append([os.path.join(path, y , x), y] for x in [os.listdir(os.path.join(path, y))])\n",
    "#     ff"
   ]
  },
  {
   "cell_type": "code",
   "execution_count": null,
   "id": "1714f534",
   "metadata": {},
   "outputs": [],
   "source": [
    "l1 = [[os.path.join(path, 'no' , x), 0] for x in os.listdir(os.path.join(path, 'no'))]\n",
    "l2= [[os.path.join(path, 'no' , x), 'no'] for x in os.listdir(os.path.join(path, 'no'))]"
   ]
  },
  {
   "cell_type": "code",
   "execution_count": null,
   "id": "89ecd527",
   "metadata": {},
   "outputs": [],
   "source": [
    "l1  = [[os.path.join(path, 'no', x), 0] for x in os.listdir(os.path.join(path, \"no\"))]\n",
    "l2  = [[os.path.join(path, 'yes', x), 1] for x in os.listdir(os.path.join(path, \"yes\"))]"
   ]
  },
  {
   "cell_type": "code",
   "execution_count": null,
   "id": "c5eb03e0",
   "metadata": {},
   "outputs": [],
   "source": [
    "l = l1+l2"
   ]
  },
  {
   "cell_type": "code",
   "execution_count": null,
   "id": "368589f9",
   "metadata": {},
   "outputs": [],
   "source": [
    "l"
   ]
  },
  {
   "cell_type": "code",
   "execution_count": null,
   "id": "b86c31c4",
   "metadata": {},
   "outputs": [],
   "source": [
    "filenames = list(map(lambda name: f\"{path}/{name}\", f))"
   ]
  },
  {
   "cell_type": "code",
   "execution_count": null,
   "id": "b7d17ab0",
   "metadata": {},
   "outputs": [],
   "source": [
    "ff"
   ]
  },
  {
   "cell_type": "code",
   "execution_count": null,
   "id": "9f2d8457",
   "metadata": {},
   "outputs": [],
   "source": [
    "image = imageio.imread(l[0][0])"
   ]
  },
  {
   "cell_type": "code",
   "execution_count": null,
   "id": "22cd37ad",
   "metadata": {},
   "outputs": [],
   "source": [
    "# importing Image class from PIL package\n",
    "from PIL import Image\n",
    "\n",
    "# creating a object\n",
    "im = Image.open(l[0][0])\n",
    "\n",
    "im.show()\n"
   ]
  },
  {
   "cell_type": "code",
   "execution_count": null,
   "id": "f5287ea1",
   "metadata": {},
   "outputs": [],
   "source": [
    "img = torchvision.transforms.functional.pil_to_tensor(im)"
   ]
  },
  {
   "cell_type": "code",
   "execution_count": null,
   "id": "8ef94ffc",
   "metadata": {},
   "outputs": [],
   "source": [
    "img = torchvision.transforms.Resize([256, 256])(img)"
   ]
  },
  {
   "cell_type": "code",
   "execution_count": null,
   "id": "fd30a570",
   "metadata": {},
   "outputs": [],
   "source": [
    "image = img.reshape(1, 1, 256, 256)"
   ]
  },
  {
   "cell_type": "code",
   "execution_count": null,
   "id": "958c99d2",
   "metadata": {},
   "outputs": [],
   "source": [
    "# import matplotlib.pyplot as plt"
   ]
  },
  {
   "cell_type": "code",
   "execution_count": null,
   "id": "51e7ca83",
   "metadata": {},
   "outputs": [],
   "source": [
    "# plt.imshow(image)"
   ]
  },
  {
   "cell_type": "code",
   "execution_count": null,
   "id": "1d59b13c",
   "metadata": {},
   "outputs": [],
   "source": [
    "image.shape"
   ]
  },
  {
   "cell_type": "code",
   "execution_count": null,
   "id": "8eca05c9",
   "metadata": {},
   "outputs": [],
   "source": [
    "# filenames"
   ]
  },
  {
   "cell_type": "code",
   "execution_count": null,
   "id": "3aa703e9",
   "metadata": {},
   "outputs": [],
   "source": [
    "class AnomalousClsDataset(Dataset):\n",
    "    \"\"\"Anomalous MRI dataset.\"\"\"\n",
    "\n",
    "    def __init__(\n",
    "            self, ROOT_DIR, transform=None, img_size=(32, 32), slice_selection=\"random\", resized=False,\n",
    "            cleaned=True\n",
    "            ):\n",
    "        \"\"\"\n",
    "        Args:\n",
    "            ROOT_DIR (string): Directory with all the images.\n",
    "            transform (callable, optional): Optional transform to be applied\n",
    "                on a sample.\n",
    "            img_size: size of each 2D dataset image\n",
    "            slice_selection: \"random\" = randomly selects a slice from the image\n",
    "                             \"iterateKnown\" = iterates between ranges of tumour using slice data\n",
    "                             \"iterateUnKnown\" = iterates through whole MRI volume\n",
    "        \"\"\"\n",
    "        self.transform = transforms.Compose(\n",
    "                [transforms.ToPILImage(),\n",
    "                 transforms.CenterCrop((175, 240)),\n",
    "                 # transforms.RandomAffine(0, translate=(0.02, 0.1)),\n",
    "                 transforms.Resize(img_size, transforms.InterpolationMode.BILINEAR),\n",
    "                 # transforms.CenterCrop(256),\n",
    "                 transforms.ToTensor(),\n",
    "                 transforms.Normalize((0.5), (0.5))\n",
    "                 ]\n",
    "                ) if not transform else transform\n",
    "        self.img_size = img_size\n",
    "        self.resized = resized\n",
    "        self.slices = {\n",
    "            \"17904\": range(165, 205), \"18428\": range(177, 213), \"18582\": range(160, 190), \"18638\": range(160, 212),\n",
    "            \"18675\": range(140, 200), \"18716\": range(135, 190), \"18756\": range(150, 205), \"18863\": range(130, 190),\n",
    "            \"18886\": range(120, 180), \"18975\": range(170, 194), \"19015\": range(158, 195), \"19085\": range(155, 195),\n",
    "            \"19275\": range(184, 213), \"19277\": range(158, 209), \"19357\": range(158, 210), \"19398\": range(164, 200),\n",
    "            \"19423\": range(142, 200), \"19567\": range(160, 200), \"19628\": range(147, 210), \"19691\": range(155, 200),\n",
    "            \"19723\": range(140, 170), \"19849\": range(150, 180)\n",
    "            }\n",
    "\n",
    "        self.filenames = self.slices.keys()\n",
    "        if cleaned:\n",
    "            self.filenames = list(map(lambda name: f\"{ROOT_DIR}/raw_cleaned/{name}.npy\", self.filenames))\n",
    "        else:\n",
    "            self.filenames = list(map(lambda name: f\"{ROOT_DIR}/raw/{name}.npy\", self.filenames))\n",
    "        # self.filenames = os.listdir(ROOT_DIR)\n",
    "        if \".DS_Store\" in self.filenames:\n",
    "            self.filenames.remove(\".DS_Store\")\n",
    "        self.ROOT_DIR = ROOT_DIR\n",
    "        self.slice_selection = slice_selection\n",
    "\n",
    "    def __len__(self):\n",
    "        return len(self.filenames)\n",
    "\n",
    "    def __getitem__(self, idx):\n",
    "        if torch.is_tensor(idx):\n",
    "            idx = idx.tolist()\n",
    "\n",
    "        if os.path.exists(os.path.join(f\"{self.filenames[idx]}\")):\n",
    "            if self.resized and os.path.exists(os.path.join(f\"{self.filenames[idx][:-4]}-resized.npy\")):\n",
    "                image = np.load(os.path.join(f\"{self.filenames[idx][:-4]}-resized.npy\"))\n",
    "            else:\n",
    "                image = np.load(os.path.join(f\"{self.filenames[idx]}\"))\n",
    "        else:\n",
    "            img_name = os.path.join(self.filenames[idx])\n",
    "            # print(nib.load(img_name).slicer[:,90:91,:].dataobj.shape)\n",
    "            img = nib.load(img_name)\n",
    "            image = img.get_fdata()\n",
    "            image = np.rot90(image)\n",
    "\n",
    "            image_mean = np.mean(image)\n",
    "            image_std = np.std(image)\n",
    "            img_range = (image_mean - 1 * image_std, image_mean + 2 * image_std)\n",
    "            image = np.clip(image, img_range[0], img_range[1])\n",
    "            image = image / (img_range[1] - img_range[0])\n",
    "            np.save(\n",
    "                    os.path.join(f\"{self.filenames[idx]}.npy\"), image.astype(\n",
    "                            np.float32\n",
    "                            )\n",
    "                    )\n",
    "        sample = {}\n",
    "\n",
    "        if self.resized:\n",
    "            img_mask = np.load(f\"{self.ROOT_DIR}/mask/{self.filenames[idx][-9:-4]}-resized.npy\")\n",
    "        else:\n",
    "            img_mask = np.load(f\"{self.ROOT_DIR}/mask/{self.filenames[idx][-9:-4]}.npy\")\n",
    "        if self.slice_selection == \"random\":\n",
    "            temp_range = self.slices[self.filenames[idx][-9:-4]]\n",
    "            slice_idx = randint(temp_range.start, temp_range.stop)\n",
    "            image = image[slice_idx:slice_idx + 1, :, :].reshape(image.shape[1], image.shape[2]).astype(np.float32)\n",
    "            if self.transform:\n",
    "                image = self.transform(image)\n",
    "                # image = transforms.functional.rotate(image, -90)\n",
    "            sample[\"slices\"] = slice_idx\n",
    "        elif self.slice_selection == \"iterateKnown\":\n",
    "            temp_range = self.slices[self.filenames[idx][-9:-4]]\n",
    "            output = torch.empty(temp_range.stop - temp_range.start, *self.img_size)\n",
    "            output_mask = torch.empty(temp_range.stop - temp_range.start, *self.img_size)\n",
    "\n",
    "            for i, val in enumerate(temp_range):\n",
    "                temp = image[val, ...].reshape(image.shape[1], image.shape[2]).astype(np.float32)\n",
    "                temp_mask = img_mask[val, ...].reshape(image.shape[1], image.shape[2]).astype(np.float32)\n",
    "                if self.transform:\n",
    "                    temp = self.transform(temp)\n",
    "                    temp_mask = self.transform(temp_mask)\n",
    "                output[i, ...] = temp\n",
    "                output_mask[i, ...] = temp_mask\n",
    "\n",
    "            image = output\n",
    "            sample[\"slices\"] = temp_range\n",
    "            sample[\"mask\"] = (output_mask > 0).float()\n",
    "\n",
    "        elif self.slice_selection == \"iterateKnown_restricted\":\n",
    "\n",
    "            temp_range = self.slices[self.filenames[idx][-9:-4]]\n",
    "            output = torch.empty(4, *self.img_size)\n",
    "            output_mask = torch.empty(4, *self.img_size)\n",
    "            slices = np.linspace(temp_range.start + 5, temp_range.stop - 5, 4).astype(np.int32)\n",
    "            for counter, i in enumerate(slices):\n",
    "                temp = image[i, ...].reshape(image.shape[1], image.shape[2]).astype(np.float32)\n",
    "                temp_mask = img_mask[i, ...].reshape(image.shape[1], image.shape[2]).astype(np.float32)\n",
    "                if self.transform:\n",
    "                    temp = self.transform(temp)\n",
    "                    temp_mask = self.transform(temp_mask)\n",
    "                output[counter, ...] = temp\n",
    "                output_mask[counter, ...] = temp_mask\n",
    "            image = output\n",
    "            sample[\"slices\"] = slices\n",
    "            sample[\"mask\"] = (output_mask > 0).float()\n",
    "\n",
    "        elif self.slice_selection == \"iterateUnknown\":\n",
    "\n",
    "            output = torch.empty(image.shape[0], *self.img_size)\n",
    "            for i in range(image.shape[0]):\n",
    "                temp = image[i:i + 1, :, :].reshape(image.shape[1], image.shape[2]).astype(np.float32)\n",
    "                if self.transform:\n",
    "                    temp = self.transform(temp)\n",
    "                    # temp = transforms.functional.rotate(temp, -90)\n",
    "                output[i, ...] = temp\n",
    "\n",
    "            image = output\n",
    "            sample[\"slices\"] = image.shape[0]\n",
    "\n",
    "        sample[\"image\"] = image\n",
    "        sample[\"filenames\"] = self.filenames[idx]\n",
    "        # sample = {'image': image, \"filenames\": self.filenames[idx], \"slices\":slice_idx}\n",
    "        return sample\n"
   ]
  },
  {
   "cell_type": "code",
   "execution_count": null,
   "id": "df2dde3d",
   "metadata": {},
   "outputs": [],
   "source": []
  },
  {
   "cell_type": "code",
   "execution_count": null,
   "id": "95bb9aab",
   "metadata": {},
   "outputs": [],
   "source": []
  },
  {
   "cell_type": "code",
   "execution_count": null,
   "id": "3f7e9cea",
   "metadata": {},
   "outputs": [],
   "source": [
    "ROOT_DIR = r\"C:\\Users\\Admin\\Dropbox\\PC\\Documents\\FGVC_MSFM\\MMAL-Net\\datasets\\Tumor\""
   ]
  },
  {
   "cell_type": "code",
   "execution_count": null,
   "id": "ff6a0dab",
   "metadata": {},
   "outputs": [],
   "source": [
    "def init_bone_datasets(ROOT_DIR, args):\n",
    "    trainset = TUMOR(input_size=(256, 256), root=ROOT_DIR, is_train=True)\n",
    "    \n",
    "    testset = TUMOR(input_size=(256, 256), root=ROOT_DIR, is_train=False)\n",
    "    \n",
    "    return trainset, testset\n"
   ]
  },
  {
   "cell_type": "code",
   "execution_count": null,
   "id": "42c005c2",
   "metadata": {},
   "outputs": [],
   "source": [
    "training_dataset, testing_dataset = init_bone_datasets(ROOT_DIR, args)\n",
    "training_dataset_loader = init_dataset_loader(training_dataset, args, shuffle=True)\n",
    "testing_dataset_loader = init_dataset_loader(testing_dataset, args, shuffle=False)"
   ]
  },
  {
   "cell_type": "code",
   "execution_count": null,
   "id": "c2507592",
   "metadata": {},
   "outputs": [],
   "source": [
    "# A = []\n",
    "# for i in training_dataset:\n",
    "#     A.append(i['filenames'])\n",
    "#     print(len(A))"
   ]
  },
  {
   "cell_type": "code",
   "execution_count": null,
   "id": "8d46f435",
   "metadata": {},
   "outputs": [],
   "source": [
    "# Writer will output to ./runs/ directory by default\n",
    "writer = SummaryWriter('log_bone')"
   ]
  },
  {
   "cell_type": "code",
   "execution_count": null,
   "id": "1a056c43",
   "metadata": {},
   "outputs": [],
   "source": [
    "writer"
   ]
  },
  {
   "cell_type": "code",
   "execution_count": null,
   "id": "62b7f74e",
   "metadata": {},
   "outputs": [],
   "source": [
    "traning = torch.utils.data.DataLoader(AnoData, batch_size=args['Batch_Size'], shuffle=False, num_workers=0, drop_last=True)"
   ]
  },
  {
   "cell_type": "code",
   "execution_count": null,
   "id": "f3a42570",
   "metadata": {},
   "outputs": [],
   "source": [
    "# images = next(iter(traning))['image']\n",
    "# images"
   ]
  },
  {
   "cell_type": "code",
   "execution_count": null,
   "id": "8cd36b80",
   "metadata": {},
   "outputs": [],
   "source": [
    "x = torch.randn(1, 3, 224, 224)\n",
    "t_batch = torch.tensor([1], device=x.device).repeat(x.shape[0])\n",
    "y_hat = model(x, t_batch)"
   ]
  },
  {
   "cell_type": "code",
   "execution_count": null,
   "id": "c3e04d7d",
   "metadata": {},
   "outputs": [],
   "source": []
  },
  {
   "cell_type": "code",
   "execution_count": null,
   "id": "75c80c9e",
   "metadata": {},
   "outputs": [],
   "source": [
    "# images, labels = next(iter(traning))\n",
    "# grid = torchvision.utils.make_grid(images)\n",
    "# writer.add_image('images_X-ray', grid, 0)\n",
    "# writer.add_graph(model, (x, t_batch))\n",
    "# writer.close()"
   ]
  },
  {
   "cell_type": "code",
   "execution_count": null,
   "id": "64641abf",
   "metadata": {},
   "outputs": [],
   "source": [
    "betas = get_beta_schedule(args['T'], args['beta_schedule'])\n",
    "\n",
    "# diffusion = GaussianDiffusionModel(\n",
    "#         args['img_size'], betas, loss_weight=args['loss_weight'],\n",
    "#         loss_type=args['loss-type'], noise=args[\"noise_fn\"], img_channels=in_channels\n",
    "#         )"
   ]
  },
  {
   "cell_type": "code",
   "execution_count": null,
   "id": "b12999b2",
   "metadata": {},
   "outputs": [],
   "source": [
    "# betas"
   ]
  },
  {
   "cell_type": "code",
   "execution_count": null,
   "id": "52216106",
   "metadata": {},
   "outputs": [],
   "source": []
  },
  {
   "cell_type": "code",
   "execution_count": null,
   "id": "bcbc6293",
   "metadata": {},
   "outputs": [],
   "source": []
  },
  {
   "cell_type": "code",
   "execution_count": null,
   "id": "425fb89b",
   "metadata": {},
   "outputs": [],
   "source": [
    "ROOT_DIR = './'"
   ]
  },
  {
   "cell_type": "code",
   "execution_count": null,
   "id": "eab0a490",
   "metadata": {},
   "outputs": [],
   "source": [
    "# load NFBS dataset\n",
    "training_dataset, testing_dataset = init_datasets(ROOT_DIR, args)\n",
    "training_dataset_loader = init_dataset_loader(training_dataset, args, shuffle=False)\n",
    "testing_dataset_loader = init_dataset_loader(testing_dataset, args, shuffle=False)"
   ]
  },
  {
   "cell_type": "code",
   "execution_count": null,
   "id": "539aed4a",
   "metadata": {},
   "outputs": [],
   "source": [
    "training_dataset_loader"
   ]
  },
  {
   "cell_type": "code",
   "execution_count": null,
   "id": "2ed5ed89",
   "metadata": {},
   "outputs": [],
   "source": []
  },
  {
   "cell_type": "code",
   "execution_count": null,
   "id": "8bec7982",
   "metadata": {},
   "outputs": [],
   "source": [
    "# A = []\n",
    "# for i in training_dataset:\n",
    "#     print(i['image'].shape)"
   ]
  },
  {
   "cell_type": "code",
   "execution_count": null,
   "id": "6bc01026",
   "metadata": {},
   "outputs": [],
   "source": []
  },
  {
   "cell_type": "code",
   "execution_count": null,
   "id": "5902dd92",
   "metadata": {},
   "outputs": [],
   "source": [
    "def main():\n",
    "    \"\"\"\n",
    "        Load arguments, run training and testing functions, then remove checkpoint directory\n",
    "    :return:\n",
    "    \"\"\"\n",
    "    # make directories\n",
    "    for i in ['./model/', \"./diffusion-videos/\", './diffusion-training-images/']:\n",
    "        try:\n",
    "            os.makedirs(i)\n",
    "        except OSError:\n",
    "            pass\n",
    "\n",
    "    # read file from argument\n",
    "    if len(sys.argv[1:]) > 0:\n",
    "        files = sys.argv[1:]\n",
    "    else:\n",
    "        raise ValueError(\"Missing file argument\")\n",
    "\n",
    "    # resume from final or resume from most recent checkpoint -> ran from specific slurm script?\n",
    "    resume = 0\n",
    "    if files[0] == \"RESUME_RECENT\":\n",
    "        resume = 1\n",
    "        files = files[1:]\n",
    "        if len(files) == 0:\n",
    "            raise ValueError(\"Missing file argument\")\n",
    "    elif files[0] == \"RESUME_FINAL\":\n",
    "        resume = 2\n",
    "        files = files[1:]\n",
    "        if len(files) == 0:\n",
    "            raise ValueError(\"Missing file argument\")\n",
    "\n",
    "    # allow different arg inputs ie 25 or args15 which are converted into argsNUM.json\n",
    "    file = files[0]\n",
    "    if file.isnumeric():\n",
    "        file = f\"args{file}.json\"\n",
    "    elif file[:4] == \"args\" and file[-5:] == \".json\":\n",
    "        pass\n",
    "    elif file[:4] == \"args\":\n",
    "        file = f\"args{file[4:]}.json\"\n",
    "    else:\n",
    "        raise ValueError(\"File Argument is not a json file\")\n",
    "\n",
    "    # load the json args\n",
    "    with open(f'{ROOT_DIR}test_args/{file}', 'r') as f:\n",
    "        args = json.load(f)\n",
    "    args['arg_num'] = file[4:-5]\n",
    "    args = defaultdict_from_json(args)\n",
    "\n",
    "    # make arg specific directories\n",
    "    for i in [f'./model/diff-params-ARGS={args[\"arg_num\"]}',\n",
    "              f'./model/diff-params-ARGS={args[\"arg_num\"]}/checkpoint',\n",
    "              f'./diffusion-videos/ARGS={args[\"arg_num\"]}',\n",
    "              f'./diffusion-training-images/ARGS={args[\"arg_num\"]}']:\n",
    "        try:\n",
    "            os.makedirs(i)\n",
    "        except OSError:\n",
    "            pass\n",
    "\n",
    "    print(file, args)\n",
    "    if args[\"channels\"] != \"\":\n",
    "        in_channels = args[\"channels\"]\n",
    "\n",
    "    # if dataset is cifar, load different training & test set\n",
    "    if args[\"dataset\"].lower() == \"cifar\":\n",
    "        training_dataset_loader_, testing_dataset_loader_ = dataset.load_CIFAR10(args, True), \\\n",
    "                                                            dataset.load_CIFAR10(args, False)\n",
    "        training_dataset_loader = dataset.cycle(training_dataset_loader_)\n",
    "        testing_dataset_loader = dataset.cycle(testing_dataset_loader_)\n",
    "    elif args[\"dataset\"].lower() == \"carpet\":\n",
    "        training_dataset = dataset.DAGM(\n",
    "                \"./DATASETS/CARPET/Class1\", False, args[\"img_size\"],\n",
    "                False\n",
    "                )\n",
    "        training_dataset_loader = dataset.init_dataset_loader(training_dataset, args)\n",
    "        testing_dataset = dataset.DAGM(\n",
    "                \"./DATASETS/CARPET/Class1\", True, args[\"img_size\"],\n",
    "                False\n",
    "                )\n",
    "        testing_dataset_loader = dataset.init_dataset_loader(testing_dataset, args)\n",
    "    elif args[\"dataset\"].lower() == \"leather\":\n",
    "        if in_channels == 3:\n",
    "            training_dataset = dataset.MVTec(\n",
    "                    \"./DATASETS/leather\", anomalous=False, img_size=args[\"img_size\"],\n",
    "                    rgb=True\n",
    "                    )\n",
    "            testing_dataset = dataset.MVTec(\n",
    "                    \"./DATASETS/leather\", anomalous=True, img_size=args[\"img_size\"],\n",
    "                    rgb=True, include_good=True\n",
    "                    )\n",
    "        else:\n",
    "            training_dataset = dataset.MVTec(\n",
    "                    \"./DATASETS/leather\", anomalous=False, img_size=args[\"img_size\"],\n",
    "                    rgb=False\n",
    "                    )\n",
    "            testing_dataset = dataset.MVTec(\n",
    "                    \"./DATASETS/leather\", anomalous=True, img_size=args[\"img_size\"],\n",
    "                    rgb=False, include_good=True\n",
    "                    )\n",
    "        training_dataset_loader = dataset.init_dataset_loader(training_dataset, args)\n",
    "        testing_dataset_loader = dataset.init_dataset_loader(testing_dataset, args)\n",
    "    else:\n",
    "        # load NFBS dataset\n",
    "        training_dataset, testing_dataset = dataset.init_datasets(ROOT_DIR, args)\n",
    "        training_dataset_loader = dataset.init_dataset_loader(training_dataset, args)\n",
    "        testing_dataset_loader = dataset.init_dataset_loader(testing_dataset, args)\n",
    "\n",
    "    # if resuming, loaded model is attached to the dictionary\n",
    "    loaded_model = {}\n",
    "    if resume:\n",
    "        if resume == 1:\n",
    "            checkpoints = os.listdir(f'./model/diff-params-ARGS={args[\"arg_num\"]}/checkpoint')\n",
    "            checkpoints.sort(reverse=True)\n",
    "            for i in checkpoints:\n",
    "                try:\n",
    "                    file_dir = f\"./model/diff-params-ARGS={args['arg_num']}/checkpoint/{i}\"\n",
    "                    loaded_model = torch.load(file_dir, map_location=device)\n",
    "                    break\n",
    "                except RuntimeError:\n",
    "                    continue\n",
    "\n",
    "        else:\n",
    "            file_dir = f'./model/diff-params-ARGS={args[\"arg_num\"]}/params-final.pt'\n",
    "            loaded_model = torch.load(file_dir, map_location=device)\n",
    "\n",
    "    # load, pass args\n",
    "    train(training_dataset_loader, testing_dataset_loader, args, loaded_model)\n",
    "\n",
    "    # remove checkpoints after final_param is saved (due to storage requirements)\n",
    "    for file_remove in os.listdir(f'./model/diff-params-ARGS={args[\"arg_num\"]}/checkpoint'):\n",
    "        os.remove(os.path.join(f'./model/diff-params-ARGS={args[\"arg_num\"]}/checkpoint', file_remove))\n",
    "    os.removedirs(f'./model/diff-params-ARGS={args[\"arg_num\"]}/checkpoint')"
   ]
  },
  {
   "cell_type": "code",
   "execution_count": null,
   "id": "c039eb5b",
   "metadata": {},
   "outputs": [],
   "source": [
    "if __name__ == '__main__':\n",
    "    device = torch.device(\"cuda\" if torch.cuda.is_available() else \"cpu\")\n",
    "    seed(1)\n",
    "\n",
    "    main()"
   ]
  },
  {
   "cell_type": "code",
   "execution_count": null,
   "id": "88b9aefc",
   "metadata": {},
   "outputs": [],
   "source": []
  }
 ],
 "metadata": {
  "kernelspec": {
   "display_name": "Python 3 (ipykernel)",
   "language": "python",
   "name": "python3"
  },
  "language_info": {
   "codemirror_mode": {
    "name": "ipython",
    "version": 3
   },
   "file_extension": ".py",
   "mimetype": "text/x-python",
   "name": "python",
   "nbconvert_exporter": "python",
   "pygments_lexer": "ipython3",
   "version": "3.9.12"
  }
 },
 "nbformat": 4,
 "nbformat_minor": 5
}
