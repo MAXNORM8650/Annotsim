{
 "cells": [
  {
   "cell_type": "code",
   "execution_count": 1,
   "id": "6ce4231e",
   "metadata": {},
   "outputs": [],
   "source": [
    "from MS_SSIM import MS_SSIM_L1_LOSS"
   ]
  },
  {
   "cell_type": "code",
   "execution_count": 2,
   "id": "67fe80be",
   "metadata": {},
   "outputs": [],
   "source": [
    "import torch"
   ]
  },
  {
   "cell_type": "code",
   "execution_count": 34,
   "id": "4f808141",
   "metadata": {},
   "outputs": [],
   "source": [
    "x_test = torch.rand(10, 3, 256, 256).cuda()\n",
    "y_test = torch.rand(10, 3, 256, 256).cuda()"
   ]
  },
  {
   "cell_type": "code",
   "execution_count": 35,
   "id": "e0bb3b6f",
   "metadata": {},
   "outputs": [
    {
     "data": {
      "text/plain": [
       "tensor(1.0000, device='cuda:0')"
      ]
     },
     "execution_count": 35,
     "metadata": {},
     "output_type": "execute_result"
    }
   ],
   "source": [
    "y_test.max()"
   ]
  },
  {
   "cell_type": "code",
   "execution_count": 36,
   "id": "7a194025",
   "metadata": {},
   "outputs": [],
   "source": [
    "# z_test = MS_SSIM_L1_LOSS()(x_test, y_test)"
   ]
  },
  {
   "cell_type": "code",
   "execution_count": 37,
   "id": "6f79e9e8",
   "metadata": {},
   "outputs": [],
   "source": [
    "# z_test.shape"
   ]
  },
  {
   "cell_type": "code",
   "execution_count": 38,
   "id": "191dade8",
   "metadata": {},
   "outputs": [],
   "source": [
    "from LossFun.pytorch_msssim import ssim, ms_ssim, SSIM, MS_SSIM"
   ]
  },
  {
   "cell_type": "code",
   "execution_count": 39,
   "id": "7622a452",
   "metadata": {},
   "outputs": [],
   "source": [
    "X = x_test\n",
    "Y = y_test"
   ]
  },
  {
   "cell_type": "code",
   "execution_count": 40,
   "id": "c18cd275",
   "metadata": {},
   "outputs": [
    {
     "name": "stdout",
     "output_type": "stream",
     "text": [
      "4\n",
      "3\n",
      "2\n"
     ]
    }
   ],
   "source": [
    "for d in range(len(X.shape) - 1, 1, -1):\n",
    "    X = X.squeeze(dim=d)\n",
    "    Y = Y.squeeze(dim=d)\n",
    "    print(d)"
   ]
  },
  {
   "cell_type": "code",
   "execution_count": 41,
   "id": "38eee894",
   "metadata": {},
   "outputs": [
    {
     "data": {
      "text/plain": [
       "torch.Size([10, 3, 256, 256])"
      ]
     },
     "execution_count": 41,
     "metadata": {},
     "output_type": "execute_result"
    }
   ],
   "source": [
    "X.shape"
   ]
  },
  {
   "cell_type": "code",
   "execution_count": 25,
   "id": "ed65138f",
   "metadata": {},
   "outputs": [],
   "source": [
    "# calculate ssim & ms-ssim for each image\n",
    "ssim_val = ssim( X, Y, data_range=255, size_average=False) # return (N,)\n",
    "ms_ssim_val = ms_ssim( X, Y, data_range=255, size_average=False ) #(N,)\n",
    "\n",
    "# set 'size_average=True' to get a scalar value as loss. see tests/tests_loss.py for more details\n",
    "ssim_loss = 1 - ssim( X, Y, data_range=255, size_average=True) # return a scalar\n",
    "ms_ssim_loss = 1 - ms_ssim( X, Y, data_range=255, size_average=True )\n",
    "\n",
    "# reuse the gaussian kernel with SSIM & MS_SSIM. \n",
    "ssim_module = SSIM(data_range=255, size_average=True, channel=3) # channel=1 for grayscale images\n",
    "ms_ssim_module = MS_SSIM(data_range=255, size_average=True, channel=3)\n",
    "\n",
    "ssim_loss = 1 - ssim_module(X, Y)\n",
    "ms_ssim_loss = 1 - ms_ssim_module(X, Y)"
   ]
  },
  {
   "cell_type": "code",
   "execution_count": 42,
   "id": "740154e7",
   "metadata": {},
   "outputs": [
    {
     "data": {
      "text/plain": [
       "tensor(0.0004, device='cuda:0')"
      ]
     },
     "execution_count": 42,
     "metadata": {},
     "output_type": "execute_result"
    }
   ],
   "source": [
    "ms_ssim_loss"
   ]
  },
  {
   "cell_type": "code",
   "execution_count": 27,
   "id": "a6e1ae2d",
   "metadata": {},
   "outputs": [],
   "source": [
    "X = (X + 1) / 2  # [-1, 1] => [0, 1]\n",
    "Y = (Y + 1) / 2  \n",
    "ms_ssim_val = ms_ssim( X, Y, data_range=1, size_average=False ) #(N,)"
   ]
  },
  {
   "cell_type": "code",
   "execution_count": 29,
   "id": "91460865",
   "metadata": {},
   "outputs": [
    {
     "data": {
      "text/plain": [
       "torch.Size([10])"
      ]
     },
     "execution_count": 29,
     "metadata": {},
     "output_type": "execute_result"
    }
   ],
   "source": [
    "ms_ssim_val.shape"
   ]
  },
  {
   "cell_type": "code",
   "execution_count": null,
   "id": "9f7e5a41",
   "metadata": {},
   "outputs": [],
   "source": []
  },
  {
   "cell_type": "code",
   "execution_count": null,
   "id": "00ee1287",
   "metadata": {},
   "outputs": [],
   "source": []
  },
  {
   "cell_type": "code",
   "execution_count": 21,
   "id": "b02564d0",
   "metadata": {},
   "outputs": [],
   "source": [
    "loss = SSIMl1l2.MS_SSIM(channel=1, data_range=1)"
   ]
  },
  {
   "cell_type": "code",
   "execution_count": 22,
   "id": "96454203",
   "metadata": {},
   "outputs": [],
   "source": [
    "z = loss(x_test, y_test)"
   ]
  },
  {
   "cell_type": "code",
   "execution_count": 23,
   "id": "c1c3da00",
   "metadata": {},
   "outputs": [
    {
     "data": {
      "text/plain": [
       "tensor(0.0780, device='cuda:0')"
      ]
     },
     "execution_count": 23,
     "metadata": {},
     "output_type": "execute_result"
    }
   ],
   "source": [
    "z"
   ]
  },
  {
   "cell_type": "code",
   "execution_count": 9,
   "id": "42e3c3d6",
   "metadata": {},
   "outputs": [
    {
     "ename": "AttributeError",
     "evalue": "module 'torchvision' has no attribute 'functional'",
     "output_type": "error",
     "traceback": [
      "\u001b[1;31m---------------------------------------------------------------------------\u001b[0m",
      "\u001b[1;31mAttributeError\u001b[0m                            Traceback (most recent call last)",
      "Cell \u001b[1;32mIn[9], line 14\u001b[0m\n\u001b[0;32m     11\u001b[0m img2 \u001b[38;5;241m=\u001b[39m img2 \u001b[38;5;241m*\u001b[39m \u001b[38;5;241m2\u001b[39m \u001b[38;5;241m-\u001b[39m \u001b[38;5;241m1\u001b[39m\n\u001b[0;32m     13\u001b[0m \u001b[38;5;66;03m# Calculate SSIM loss\u001b[39;00m\n\u001b[1;32m---> 14\u001b[0m ssim_loss \u001b[38;5;241m=\u001b[39m \u001b[38;5;241m1\u001b[39m \u001b[38;5;241m-\u001b[39m \u001b[43mtorchvision\u001b[49m\u001b[38;5;241;43m.\u001b[39;49m\u001b[43mfunctional\u001b[49m\u001b[38;5;241m.\u001b[39mssim(img1, img2, data_range\u001b[38;5;241m=\u001b[39m\u001b[38;5;241m2.0\u001b[39m)\n\u001b[0;32m     16\u001b[0m \u001b[38;5;66;03m# If you want to use SSIM as a loss function, you can define a custom loss like this:\u001b[39;00m\n\u001b[0;32m     17\u001b[0m \u001b[38;5;28;01mclass\u001b[39;00m \u001b[38;5;21;01mSSIMLoss\u001b[39;00m(nn\u001b[38;5;241m.\u001b[39mModule):\n",
      "\u001b[1;31mAttributeError\u001b[0m: module 'torchvision' has no attribute 'functional'"
     ]
    }
   ],
   "source": [
    "import torch\n",
    "import torchvision\n",
    "from torch import nn\n",
    "\n",
    "# Assuming you have two image tensors: img1 and img2, both of size (batch_size, channels, height, width)\n",
    "\n",
    "# Convert images to a range of [-1, 1]\n",
    "img1 = x_test\n",
    "img2 = y_test\n",
    "img1 = img1 * 2 - 1\n",
    "img2 = img2 * 2 - 1\n",
    "\n",
    "# Calculate SSIM loss\n",
    "ssim_loss = 1 - torchvision.functional.ssim(img1, img2, data_range=2.0)\n",
    "\n",
    "# If you want to use SSIM as a loss function, you can define a custom loss like this:\n",
    "class SSIMLoss(nn.Module):\n",
    "    def __init__(self):\n",
    "        super(SSIMLoss, self).__init__()\n",
    "\n",
    "    def forward(self, img1, img2):\n",
    "        img1 = img1 * 2 - 1\n",
    "        img2 = img2 * 2 - 1\n",
    "        loss = 1 - torchvision.functional.ssim(img1, img2, data_range=2.0)\n",
    "        return loss\n",
    "\n",
    "# Usage:\n",
    "ssim_criterion = SSIMLoss()\n",
    "loss = ssim_criterion(img1, img2)\n"
   ]
  },
  {
   "cell_type": "code",
   "execution_count": 10,
   "id": "a6f524ff",
   "metadata": {},
   "outputs": [],
   "source": [
    "from torch import nn"
   ]
  },
  {
   "cell_type": "code",
   "execution_count": 11,
   "id": "cfb66155",
   "metadata": {},
   "outputs": [
    {
     "ename": "ModuleNotFoundError",
     "evalue": "No module named 'pytorch_ssim'",
     "output_type": "error",
     "traceback": [
      "\u001b[1;31m---------------------------------------------------------------------------\u001b[0m",
      "\u001b[1;31mModuleNotFoundError\u001b[0m                       Traceback (most recent call last)",
      "Cell \u001b[1;32mIn[11], line 1\u001b[0m\n\u001b[1;32m----> 1\u001b[0m \u001b[38;5;28;01mfrom\u001b[39;00m \u001b[38;5;21;01mpytorch_ssim\u001b[39;00m \u001b[38;5;28;01mimport\u001b[39;00m SSIM\n",
      "\u001b[1;31mModuleNotFoundError\u001b[0m: No module named 'pytorch_ssim'"
     ]
    }
   ],
   "source": [
    "from pytorch_ssim import SSIM"
   ]
  },
  {
   "cell_type": "code",
   "execution_count": null,
   "id": "5976292d",
   "metadata": {},
   "outputs": [],
   "source": []
  }
 ],
 "metadata": {
  "kernelspec": {
   "display_name": "Python 3 (ipykernel)",
   "language": "python",
   "name": "python3"
  },
  "language_info": {
   "codemirror_mode": {
    "name": "ipython",
    "version": 3
   },
   "file_extension": ".py",
   "mimetype": "text/x-python",
   "name": "python",
   "nbconvert_exporter": "python",
   "pygments_lexer": "ipython3",
   "version": "3.9.12"
  }
 },
 "nbformat": 4,
 "nbformat_minor": 5
}
